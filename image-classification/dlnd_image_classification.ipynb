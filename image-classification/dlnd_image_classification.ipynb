{
 "cells": [
  {
   "cell_type": "markdown",
   "metadata": {
    "collapsed": true
   },
   "source": [
    "# Image Classification\n",
    "In this project, you'll classify images from the [CIFAR-10 dataset](https://www.cs.toronto.edu/~kriz/cifar.html).  The dataset consists of airplanes, dogs, cats, and other objects. You'll preprocess the images, then train a convolutional neural network on all the samples. The images need to be normalized and the labels need to be one-hot encoded.  You'll get to apply what you learned and build a convolutional, max pooling, dropout, and fully connected layers.  At the end, you'll get to see your neural network's predictions on the sample images.\n",
    "## Get the Data\n",
    "Run the following cell to download the [CIFAR-10 dataset for python](https://www.cs.toronto.edu/~kriz/cifar-10-python.tar.gz)."
   ]
  },
  {
   "cell_type": "code",
   "execution_count": 1,
   "metadata": {},
   "outputs": [
    {
     "name": "stdout",
     "output_type": "stream",
     "text": [
      "All files found!\n"
     ]
    }
   ],
   "source": [
    "\"\"\"\n",
    "DON'T MODIFY ANYTHING IN THIS CELL THAT IS BELOW THIS LINE\n",
    "\"\"\"\n",
    "from urllib.request import urlretrieve\n",
    "from os.path import isfile, isdir\n",
    "from tqdm import tqdm\n",
    "import problem_unittests as tests\n",
    "import tarfile\n",
    "\n",
    "cifar10_dataset_folder_path = 'cifar-10-batches-py'\n",
    "\n",
    "# Use Floyd's cifar-10 dataset if present\n",
    "floyd_cifar10_location = '/input/cifar-10/python.tar.gz'\n",
    "if isfile(floyd_cifar10_location):\n",
    "    tar_gz_path = floyd_cifar10_location\n",
    "else:\n",
    "    tar_gz_path = 'cifar-10-python.tar.gz'\n",
    "\n",
    "class DLProgress(tqdm):\n",
    "    last_block = 0\n",
    "\n",
    "    def hook(self, block_num=1, block_size=1, total_size=None):\n",
    "        self.total = total_size\n",
    "        self.update((block_num - self.last_block) * block_size)\n",
    "        self.last_block = block_num\n",
    "\n",
    "if not isfile(tar_gz_path):\n",
    "    with DLProgress(unit='B', unit_scale=True, miniters=1, desc='CIFAR-10 Dataset') as pbar:\n",
    "        urlretrieve(\n",
    "            'https://www.cs.toronto.edu/~kriz/cifar-10-python.tar.gz',\n",
    "            tar_gz_path,\n",
    "            pbar.hook)\n",
    "\n",
    "if not isdir(cifar10_dataset_folder_path):\n",
    "    with tarfile.open(tar_gz_path) as tar:\n",
    "        tar.extractall()\n",
    "        tar.close()\n",
    "\n",
    "\n",
    "tests.test_folder_path(cifar10_dataset_folder_path)"
   ]
  },
  {
   "cell_type": "markdown",
   "metadata": {},
   "source": [
    "## Explore the Data\n",
    "The dataset is broken into batches to prevent your machine from running out of memory.  The CIFAR-10 dataset consists of 5 batches, named `data_batch_1`, `data_batch_2`, etc.. Each batch contains the labels and images that are one of the following:\n",
    "* airplane\n",
    "* automobile\n",
    "* bird\n",
    "* cat\n",
    "* deer\n",
    "* dog\n",
    "* frog\n",
    "* horse\n",
    "* ship\n",
    "* truck\n",
    "\n",
    "Understanding a dataset is part of making predictions on the data.  Play around with the code cell below by changing the `batch_id` and `sample_id`. The `batch_id` is the id for a batch (1-5). The `sample_id` is the id for a image and label pair in the batch.\n",
    "\n",
    "Ask yourself \"What are all possible labels?\", \"What is the range of values for the image data?\", \"Are the labels in order or random?\".  Answers to questions like these will help you preprocess the data and end up with better predictions."
   ]
  },
  {
   "cell_type": "code",
   "execution_count": 2,
   "metadata": {},
   "outputs": [
    {
     "name": "stdout",
     "output_type": "stream",
     "text": [
      "\n",
      "Stats of batch 1:\n",
      "Samples: 10000\n",
      "Label Counts: {0: 1005, 1: 974, 2: 1032, 3: 1016, 4: 999, 5: 937, 6: 1030, 7: 1001, 8: 1025, 9: 981}\n",
      "First 20 Labels: [6, 9, 9, 4, 1, 1, 2, 7, 8, 3, 4, 7, 7, 2, 9, 9, 9, 3, 2, 6]\n",
      "\n",
      "Example of Image 5:\n",
      "Image - Min Value: 0 Max Value: 252\n",
      "Image - Shape: (32, 32, 3)\n",
      "Label - Label Id: 1 Name: automobile\n"
     ]
    },
    {
     "data": {
      "image/png": "[encoded data removed]",
      "text/plain": [
       "<matplotlib.figure.Figure at 0x7f4c72796e10>"
      ]
     },
     "metadata": {
      "image/png": {
       "height": 250,
       "width": 253
      }
     },
     "output_type": "display_data"
    }
   ],
   "source": [
    "%matplotlib inline\n",
    "%config InlineBackend.figure_format = 'retina'\n",
    "\n",
    "import helper\n",
    "import numpy as np\n",
    "\n",
    "# Explore the dataset\n",
    "batch_id = 1\n",
    "sample_id = 5\n",
    "helper.display_stats(cifar10_dataset_folder_path, batch_id, sample_id)"
   ]
  },
  {
   "cell_type": "markdown",
   "metadata": {},
   "source": [
    "## Implement Preprocess Functions\n",
    "### Normalize\n",
    "In the cell below, implement the `normalize` function to take in image data, `x`, and return it as a normalized Numpy array. The values should be in the range of 0 to 1, inclusive.  The return object should be the same shape as `x`."
   ]
  },
  {
   "cell_type": "code",
   "execution_count": 3,
   "metadata": {},
   "outputs": [
    {
     "name": "stdout",
     "output_type": "stream",
     "text": [
      "Tests Passed\n"
     ]
    }
   ],
   "source": [
    "def normalize(x):\n",
    "    \"\"\"\n",
    "    Normalize a list of sample image data in the range of 0 to 1\n",
    "    : x: List of image data.  The image shape is (32, 32, 3)\n",
    "    : return: Numpy array of normalize data\n",
    "    \"\"\"\n",
    "    return x/256\n",
    "\n",
    "\n",
    "\"\"\"\n",
    "DON'T MODIFY ANYTHING IN THIS CELL THAT IS BELOW THIS LINE\n",
    "\"\"\"\n",
    "tests.test_normalize(normalize)"
   ]
  },
  {
   "cell_type": "markdown",
   "metadata": {},
   "source": [
    "### One-hot encode\n",
    "Just like the previous code cell, you'll be implementing a function for preprocessing.  This time, you'll implement the `one_hot_encode` function. The input, `x`, are a list of labels.  Implement the function to return the list of labels as One-Hot encoded Numpy array.  The possible values for labels are 0 to 9. The one-hot encoding function should return the same encoding for each value between each call to `one_hot_encode`.  Make sure to save the map of encodings outside the function.\n",
    "\n",
    "Hint: Don't reinvent the wheel."
   ]
  },
  {
   "cell_type": "code",
   "execution_count": 4,
   "metadata": {},
   "outputs": [
    {
     "name": "stdout",
     "output_type": "stream",
     "text": [
      "Tests Passed\n"
     ]
    }
   ],
   "source": [
    "def one_hot_encode(x):\n",
    "    \"\"\"\n",
    "    One hot encode a list of sample labels. Return a one-hot encoded vector for each label.\n",
    "    : x: List of sample Labels\n",
    "    : return: Numpy array of one-hot encoded labels\n",
    "    \"\"\"\n",
    "#     uniq_labels = set(x)\n",
    "#     print (uniq_labels)\n",
    "#     label_idx  = {l: index for l, index in  zip(sorted(list(uniq_labels)), range(len(uniq_labels))) }\n",
    "#     def label2idx(label):\n",
    "#         \"\"\" label 2 idx. \"\"\"\n",
    "#         return label_idx[label]\n",
    "    \n",
    "#     ohe = np.eye(len(uniq_labels), dtype=int)\n",
    "#     return ohe[np.vectorize(label2idx)(x[:])]\n",
    "\n",
    "    ohe = np.eye(10, dtype=int)\n",
    "    return ohe[x[:]]\n",
    "\n",
    "\"\"\"\n",
    "DON'T MODIFY ANYTHING IN THIS CELL THAT IS BELOW THIS LINE\n",
    "\"\"\"\n",
    "tests.test_one_hot_encode(one_hot_encode)"
   ]
  },
  {
   "cell_type": "markdown",
   "metadata": {},
   "source": [
    "### Randomize Data\n",
    "As you saw from exploring the data above, the order of the samples are randomized.  It doesn't hurt to randomize it again, but you don't need to for this dataset."
   ]
  },
  {
   "cell_type": "markdown",
   "metadata": {},
   "source": [
    "## Preprocess all the data and save it\n",
    "Running the code cell below will preprocess all the CIFAR-10 data and save it to file. The code below also uses 10% of the training data for validation."
   ]
  },
  {
   "cell_type": "code",
   "execution_count": 5,
   "metadata": {
    "collapsed": true
   },
   "outputs": [],
   "source": [
    "\"\"\"\n",
    "DON'T MODIFY ANYTHING IN THIS CELL\n",
    "\"\"\"\n",
    "# Preprocess Training, Validation, and Testing Data\n",
    "helper.preprocess_and_save_data(cifar10_dataset_folder_path, normalize, one_hot_encode)"
   ]
  },
  {
   "cell_type": "markdown",
   "metadata": {},
   "source": [
    "# Check Point\n",
    "This is your first checkpoint.  If you ever decide to come back to this notebook or have to restart the notebook, you can start from here.  The preprocessed data has been saved to disk."
   ]
  },
  {
   "cell_type": "code",
   "execution_count": 6,
   "metadata": {
    "collapsed": true
   },
   "outputs": [],
   "source": [
    "\"\"\"\n",
    "DON'T MODIFY ANYTHING IN THIS CELL\n",
    "\"\"\"\n",
    "import pickle\n",
    "import problem_unittests as tests\n",
    "import helper\n",
    "\n",
    "# Load the Preprocessed Validation data\n",
    "valid_features, valid_labels = pickle.load(open('preprocess_validation.p', mode='rb'))"
   ]
  },
  {
   "cell_type": "markdown",
   "metadata": {},
   "source": [
    "## Build the network\n",
    "For the neural network, you'll build each layer into a function.  Most of the code you've seen has been outside of functions. To test your code more thoroughly, we require that you put each layer in a function.  This allows us to give you better feedback and test for simple mistakes using our unittests before you submit your project.\n",
    "\n",
    ">**Note:** If you're finding it hard to dedicate enough time for this course each week, we've provided a small shortcut to this part of the project. In the next couple of problems, you'll have the option to use classes from the [TensorFlow Layers](https://www.tensorflow.org/api_docs/python/tf/layers) or [TensorFlow Layers (contrib)](https://www.tensorflow.org/api_guides/python/contrib.layers) packages to build each layer, except the layers you build in the \"Convolutional and Max Pooling Layer\" section.  TF Layers is similar to Keras's and TFLearn's abstraction to layers, so it's easy to pickup.\n",
    "\n",
    ">However, if you would like to get the most out of this course, try to solve all the problems _without_ using anything from the TF Layers packages. You **can** still use classes from other packages that happen to have the same name as ones you find in TF Layers! For example, instead of using the TF Layers version of the `conv2d` class, [tf.layers.conv2d](https://www.tensorflow.org/api_docs/python/tf/layers/conv2d), you would want to use the TF Neural Network version of `conv2d`, [tf.nn.conv2d](https://www.tensorflow.org/api_docs/python/tf/nn/conv2d). \n",
    "\n",
    "Let's begin!\n",
    "\n",
    "### Input\n",
    "The neural network needs to read the image data, one-hot encoded labels, and dropout keep probability. Implement the following functions\n",
    "* Implement `neural_net_image_input`\n",
    " * Return a [TF Placeholder](https://www.tensorflow.org/api_docs/python/tf/placeholder)\n",
    " * Set the shape using `image_shape` with batch size set to `None`.\n",
    " * Name the TensorFlow placeholder \"x\" using the TensorFlow `name` parameter in the [TF Placeholder](https://www.tensorflow.org/api_docs/python/tf/placeholder).\n",
    "* Implement `neural_net_label_input`\n",
    " * Return a [TF Placeholder](https://www.tensorflow.org/api_docs/python/tf/placeholder)\n",
    " * Set the shape using `n_classes` with batch size set to `None`.\n",
    " * Name the TensorFlow placeholder \"y\" using the TensorFlow `name` parameter in the [TF Placeholder](https://www.tensorflow.org/api_docs/python/tf/placeholder).\n",
    "* Implement `neural_net_keep_prob_input`\n",
    " * Return a [TF Placeholder](https://www.tensorflow.org/api_docs/python/tf/placeholder) for dropout keep probability.\n",
    " * Name the TensorFlow placeholder \"keep_prob\" using the TensorFlow `name` parameter in the [TF Placeholder](https://www.tensorflow.org/api_docs/python/tf/placeholder).\n",
    "\n",
    "These names will be used at the end of the project to load your saved model.\n",
    "\n",
    "Note: `None` for shapes in TensorFlow allow for a dynamic size."
   ]
  },
  {
   "cell_type": "code",
   "execution_count": 7,
   "metadata": {},
   "outputs": [
    {
     "name": "stdout",
     "output_type": "stream",
     "text": [
      "Image Input Tests Passed.\n",
      "Label Input Tests Passed.\n",
      "Keep Prob Tests Passed.\n",
      "3\n"
     ]
    }
   ],
   "source": [
    "import tensorflow as tf\n",
    "\n",
    "def neural_net_image_input(image_shape):\n",
    "    \"\"\"\n",
    "    Return a Tensor for a batch of image input\n",
    "    : image_shape: Shape of the images\n",
    "    : return: Tensor for image input.\n",
    "    \"\"\"\n",
    "    return tf.placeholder(tf.float32, shape=[None, image_shape[0], image_shape[1], image_shape[2]], name='x')\n",
    "\n",
    "\n",
    "def neural_net_label_input(n_classes):\n",
    "    \"\"\"\n",
    "    Return a Tensor for a batch of label input\n",
    "    : n_classes: Number of classes\n",
    "    : return: Tensor for label input.\n",
    "    \"\"\"\n",
    "    return tf.placeholder(tf.float32, shape=[None, n_classes], name='y')\n",
    "\n",
    "\n",
    "def neural_net_keep_prob_input():\n",
    "    \"\"\"\n",
    "    Return a Tensor for keep probability\n",
    "    : return: Tensor for keep probability.\n",
    "    \"\"\"\n",
    "    return tf.placeholder(tf.float32, name='keep_prob')\n",
    "\n",
    "\n",
    "\"\"\"\n",
    "DON'T MODIFY ANYTHING IN THIS CELL THAT IS BELOW THIS LINE\n",
    "\"\"\"\n",
    "tf.reset_default_graph()\n",
    "tests.test_nn_image_inputs(neural_net_image_input)\n",
    "tests.test_nn_label_inputs(neural_net_label_input)\n",
    "tests.test_nn_keep_prob_inputs(neural_net_keep_prob_input)\n",
    "\n",
    "print (neural_net_image_input([5,5,3]).shape[3])"
   ]
  },
  {
   "cell_type": "markdown",
   "metadata": {},
   "source": [
    "### Convolution and Max Pooling Layer\n",
    "Convolution layers have a lot of success with images. For this code cell, you should implement the function `conv2d_maxpool` to apply convolution then max pooling:\n",
    "* Create the weight and bias using `conv_ksize`, `conv_num_outputs` and the shape of `x_tensor`.\n",
    "* Apply a convolution to `x_tensor` using weight and `conv_strides`.\n",
    " * We recommend you use same padding, but you're welcome to use any padding.\n",
    "* Add bias\n",
    "* Add a nonlinear activation to the convolution.\n",
    "* Apply Max Pooling using `pool_ksize` and `pool_strides`.\n",
    " * We recommend you use same padding, but you're welcome to use any padding.\n",
    "\n",
    "**Note:** You **can't** use [TensorFlow Layers](https://www.tensorflow.org/api_docs/python/tf/layers) or [TensorFlow Layers (contrib)](https://www.tensorflow.org/api_guides/python/contrib.layers) for **this** layer, but you can still use TensorFlow's [Neural Network](https://www.tensorflow.org/api_docs/python/tf/nn) package. You may still use the shortcut option for all the **other** layers."
   ]
  },
  {
   "cell_type": "code",
   "execution_count": 8,
   "metadata": {},
   "outputs": [
    {
     "name": "stdout",
     "output_type": "stream",
     "text": [
      "Tests Passed\n"
     ]
    }
   ],
   "source": [
    "import math\n",
    "def conv2d_maxpool(x_tensor, conv_num_outputs, conv_ksize, conv_strides, pool_ksize, pool_strides):\n",
    "    \"\"\"\n",
    "    Apply convolution then max pooling to x_tensor\n",
    "    :param x_tensor: TensorFlow Tensor\n",
    "    :param conv_num_outputs: Number of outputs for the convolutional layer\n",
    "    :param conv_ksize: kernal size 2-D Tuple for the convolutional layer\n",
    "    :param conv_strides: Stride 2-D Tuple for convolution\n",
    "    :param pool_ksize: kernal size 2-D Tuple for pool\n",
    "    :param pool_strides: Stride 2-D Tuple for pool\n",
    "    : return: A tensor that represents convolution and max pooling of x_tensor\n",
    "    \"\"\"\n",
    "    weight = tf.Variable(tf.truncated_normal([*conv_ksize, int(x_tensor.shape[3]), conv_num_outputs], stddev=1.0 / math.sqrt(float(int(x_tensor.shape[3])))))\n",
    "    bias = tf.Variable(tf.truncated_normal([conv_num_outputs]))\n",
    "    x = tf.nn.conv2d(x_tensor, weight, strides = [1, *conv_strides, 1], padding='SAME')\n",
    "    x = tf.nn.relu(tf.nn.bias_add(x, bias))\n",
    "    return tf.nn.max_pool(x, [1, *pool_ksize, 1], [1, *pool_strides, 1], padding='SAME')\n",
    "    \n",
    "     \n",
    "\n",
    "\n",
    "\"\"\"\n",
    "DON'T MODIFY ANYTHING IN THIS CELL THAT IS BELOW THIS LINE\n",
    "\"\"\"\n",
    "tests.test_con_pool(conv2d_maxpool)"
   ]
  },
  {
   "cell_type": "markdown",
   "metadata": {},
   "source": [
    "### Flatten Layer\n",
    "Implement the `flatten` function to change the dimension of `x_tensor` from a 4-D tensor to a 2-D tensor.  The output should be the shape (*Batch Size*, *Flattened Image Size*). Shortcut option: you can use classes from the [TensorFlow Layers](https://www.tensorflow.org/api_docs/python/tf/layers) or [TensorFlow Layers (contrib)](https://www.tensorflow.org/api_guides/python/contrib.layers) packages for this layer. For more of a challenge, only use other TensorFlow packages."
   ]
  },
  {
   "cell_type": "code",
   "execution_count": 9,
   "metadata": {},
   "outputs": [
    {
     "name": "stdout",
     "output_type": "stream",
     "text": [
      "Tests Passed\n"
     ]
    }
   ],
   "source": [
    "def flatten(x_tensor):\n",
    "    \"\"\"\n",
    "    Flatten x_tensor to (Batch Size, Flattened Image Size)\n",
    "    : x_tensor: A tensor of size (Batch Size, ...), where ... are the image dimensions.\n",
    "    : return: A tensor of size (Batch Size, Flattened Image Size).\n",
    "    \"\"\"\n",
    "    return tf.contrib.layers.flatten(x_tensor)\n",
    "\n",
    "\n",
    "\"\"\"\n",
    "DON'T MODIFY ANYTHING IN THIS CELL THAT IS BELOW THIS LINE\n",
    "\"\"\"\n",
    "tests.test_flatten(flatten)"
   ]
  },
  {
   "cell_type": "markdown",
   "metadata": {},
   "source": [
    "### Fully-Connected Layer\n",
    "Implement the `fully_conn` function to apply a fully connected layer to `x_tensor` with the shape (*Batch Size*, *num_outputs*). Shortcut option: you can use classes from the [TensorFlow Layers](https://www.tensorflow.org/api_docs/python/tf/layers) or [TensorFlow Layers (contrib)](https://www.tensorflow.org/api_guides/python/contrib.layers) packages for this layer. For more of a challenge, only use other TensorFlow packages."
   ]
  },
  {
   "cell_type": "code",
   "execution_count": 10,
   "metadata": {},
   "outputs": [
    {
     "name": "stdout",
     "output_type": "stream",
     "text": [
      "Tests Passed\n"
     ]
    }
   ],
   "source": [
    "def fully_conn(x_tensor, num_outputs):\n",
    "    \"\"\"\n",
    "    Apply a fully connected layer to x_tensor using weight and bias\n",
    "    : x_tensor: A 2-D tensor where the first dimension is batch size.\n",
    "    : num_outputs: The number of output that the new tensor should be.\n",
    "    : return: A 2-D tensor where the second dimension is num_outputs.\n",
    "    \"\"\"\n",
    "    # TODO: Implement Function\n",
    "    weight = tf.Variable(tf.truncated_normal([int(x_tensor.shape[1]), num_outputs],\n",
    "                         stddev=1.0 / math.sqrt(float(int(x_tensor.shape[1])))))\n",
    "    bias = tf.Variable(tf.truncated_normal([num_outputs]))\n",
    "\n",
    "    return tf.add(tf.matmul(x_tensor, weight), bias)\n",
    "\n",
    "\n",
    "\"\"\"\n",
    "DON'T MODIFY ANYTHING IN THIS CELL THAT IS BELOW THIS LINE\n",
    "\"\"\"\n",
    "tests.test_fully_conn(fully_conn)"
   ]
  },
  {
   "cell_type": "markdown",
   "metadata": {},
   "source": [
    "### Output Layer\n",
    "Implement the `output` function to apply a fully connected layer to `x_tensor` with the shape (*Batch Size*, *num_outputs*). Shortcut option: you can use classes from the [TensorFlow Layers](https://www.tensorflow.org/api_docs/python/tf/layers) or [TensorFlow Layers (contrib)](https://www.tensorflow.org/api_guides/python/contrib.layers) packages for this layer. For more of a challenge, only use other TensorFlow packages.\n",
    "\n",
    "**Note:** Activation, softmax, or cross entropy should **not** be applied to this."
   ]
  },
  {
   "cell_type": "code",
   "execution_count": 11,
   "metadata": {},
   "outputs": [
    {
     "name": "stdout",
     "output_type": "stream",
     "text": [
      "Tests Passed\n"
     ]
    }
   ],
   "source": [
    "def output(x_tensor, num_outputs):\n",
    "    \"\"\"\n",
    "    Apply a output layer to x_tensor using weight and bias\n",
    "    : x_tensor: A 2-D tensor where the first dimension is batch size.\n",
    "    : num_outputs: The number of output that the new tensor should be.\n",
    "    : return: A 2-D tensor where the second dimension is num_outputs.\n",
    "    \"\"\"\n",
    "    # TODO: Implement Function\n",
    "    return fully_conn(x_tensor, num_outputs)\n",
    "\n",
    "\n",
    "\"\"\"\n",
    "DON'T MODIFY ANYTHING IN THIS CELL THAT IS BELOW THIS LINE\n",
    "\"\"\"\n",
    "tests.test_output(output)"
   ]
  },
  {
   "cell_type": "markdown",
   "metadata": {},
   "source": [
    "### Create Convolutional Model\n",
    "Implement the function `conv_net` to create a convolutional neural network model. The function takes in a batch of images, `x`, and outputs logits.  Use the layers you created above to create this model:\n",
    "\n",
    "* Apply 1, 2, or 3 Convolution and Max Pool layers\n",
    "* Apply a Flatten Layer\n",
    "* Apply 1, 2, or 3 Fully Connected Layers\n",
    "* Apply an Output Layer\n",
    "* Return the output\n",
    "* Apply [TensorFlow's Dropout](https://www.tensorflow.org/api_docs/python/tf/nn/dropout) to one or more layers in the model using `keep_prob`. "
   ]
  },
  {
   "cell_type": "code",
   "execution_count": 12,
   "metadata": {},
   "outputs": [
    {
     "name": "stdout",
     "output_type": "stream",
     "text": [
      "Neural Network Built!\n"
     ]
    }
   ],
   "source": [
    "def conv_net(x, keep_prob):\n",
    "    \"\"\"\n",
    "    Create a convolutional neural network model\n",
    "    : x: Placeholder tensor that holds image data.\n",
    "    : keep_prob: Placeholder tensor that hold dropout keep probability.\n",
    "    : return: Tensor that represents logits\n",
    "    \"\"\"\n",
    "    # TODO: Apply 1, 2, or 3 Convolution and Max Pool layers\n",
    "    #    Play around with different number of outputs, kernel size and stride\n",
    "   \n",
    "    # Function Definition from Above:\n",
    "    #    conv2d_maxpool(x_tensor, conv_num_outputs, conv_ksize, conv_strides, pool_ksize, pool_strides)\n",
    "    \n",
    "    # first layer of convolution/max pool\n",
    "    x_tensor = conv2d_maxpool(x, 100, (3, 3), (1,1), (2,2), (2,2))\n",
    "    \n",
    "    # second layer of convolution/max pool\n",
    "    x_tensor = conv2d_maxpool(x_tensor, 200, (3, 3), (1,1), (2,2), (2,2))\n",
    "    \n",
    "    # 3rd conv/max pool layer\n",
    "    # x_tensor = conv2d_maxpool(x_tensor, 400, (3, 3), (1,1), (2,2), (2,2))\n",
    "\n",
    "    # Apply a Flatten Layer\n",
    "    x_tensor = flatten(x_tensor)\n",
    "    \n",
    "\n",
    "    # TODO: Apply 1, 2, or 3 Fully Connected Layers\n",
    "    #    Play around with different number of outputs\n",
    "    # Function Definition from Above:\n",
    "    num_outputs = 10\n",
    "    x_tensor = fully_conn(x_tensor, 5*num_outputs)\n",
    "    x_tensor = fully_conn(x_tensor, 3*num_outputs)\n",
    "    \n",
    "    # TODO: Apply an Output Layer\n",
    "    #    Set this to the number of classes\n",
    "    # Function Definition from Above:\n",
    "    x_tensor = output(x_tensor, num_outputs)\n",
    "    \n",
    "    \n",
    "    # TODO: return output\n",
    "    return x_tensor\n",
    "\n",
    "\n",
    "\"\"\"\n",
    "DON'T MODIFY ANYTHING IN THIS CELL THAT IS BELOW THIS LINE\n",
    "\"\"\"\n",
    "\n",
    "##############################\n",
    "## Build the Neural Network ##\n",
    "##############################\n",
    "\n",
    "# Remove previous weights, bias, inputs, etc..\n",
    "tf.reset_default_graph()\n",
    "\n",
    "# Inputs\n",
    "x = neural_net_image_input((32, 32, 3))\n",
    "y = neural_net_label_input(10)\n",
    "keep_prob = neural_net_keep_prob_input()\n",
    "\n",
    "# Model\n",
    "logits = conv_net(x, keep_prob)\n",
    "\n",
    "# Name logits Tensor, so that is can be loaded from disk after training\n",
    "logits = tf.identity(logits, name='logits')\n",
    "\n",
    "# Loss and Optimizer\n",
    "cost = tf.reduce_mean(tf.nn.softmax_cross_entropy_with_logits(logits=logits, labels=y))\n",
    "optimizer = tf.train.AdamOptimizer().minimize(cost)\n",
    "\n",
    "# Accuracy\n",
    "correct_pred = tf.equal(tf.argmax(logits, 1), tf.argmax(y, 1))\n",
    "accuracy = tf.reduce_mean(tf.cast(correct_pred, tf.float32), name='accuracy')\n",
    "\n",
    "tests.test_conv_net(conv_net)"
   ]
  },
  {
   "cell_type": "markdown",
   "metadata": {},
   "source": [
    "## Train the Neural Network\n",
    "### Single Optimization\n",
    "Implement the function `train_neural_network` to do a single optimization.  The optimization should use `optimizer` to optimize in `session` with a `feed_dict` of the following:\n",
    "* `x` for image input\n",
    "* `y` for labels\n",
    "* `keep_prob` for keep probability for dropout\n",
    "\n",
    "This function will be called for each batch, so `tf.global_variables_initializer()` has already been called.\n",
    "\n",
    "Note: Nothing needs to be returned. This function is only optimizing the neural network."
   ]
  },
  {
   "cell_type": "code",
   "execution_count": 13,
   "metadata": {},
   "outputs": [
    {
     "name": "stdout",
     "output_type": "stream",
     "text": [
      "Tests Passed\n"
     ]
    }
   ],
   "source": [
    "def train_neural_network(session, optimizer, keep_probability, feature_batch, label_batch):\n",
    "    \"\"\"\n",
    "    Optimize the session on a batch of images and labels\n",
    "    : session: Current TensorFlow session\n",
    "    : optimizer: TensorFlow optimizer function\n",
    "    : keep_probability: keep probability\n",
    "    : feature_batch: Batch of Numpy image data\n",
    "    : label_batch: Batch of Numpy label data\n",
    "    \"\"\"\n",
    "    session.run(optimizer, feed_dict={x: feature_batch, y: label_batch,\n",
    "                                       neural_net_keep_prob_input(): keep_probability})\n",
    "\n",
    "\n",
    "\"\"\"\n",
    "DON'T MODIFY ANYTHING IN THIS CELL THAT IS BELOW THIS LINE\n",
    "\"\"\"\n",
    "tests.test_train_nn(train_neural_network)"
   ]
  },
  {
   "cell_type": "markdown",
   "metadata": {},
   "source": [
    "### Show Stats\n",
    "Implement the function `print_stats` to print loss and validation accuracy.  Use the global variables `valid_features` and `valid_labels` to calculate validation accuracy.  Use a keep probability of `1.0` to calculate the loss and validation accuracy."
   ]
  },
  {
   "cell_type": "code",
   "execution_count": 14,
   "metadata": {
    "collapsed": true
   },
   "outputs": [],
   "source": [
    "def print_stats(session, feature_batch, label_batch, cost, accuracy):\n",
    "    \"\"\"\n",
    "    Print information about loss and validation accuracy\n",
    "    : session: Current TensorFlow session\n",
    "    : feature_batch: Batch of Numpy image data\n",
    "    : label_batch: Batch of Numpy label data\n",
    "    : cost: TensorFlow cost function\n",
    "    : accuracy: TensorFlow accuracy function\n",
    "    \"\"\"\n",
    "    print(\"cost: {cost}, accuracy: {accuracy}\".format(cost=session.run(cost, feed_dict={x: feature_batch, y: label_batch, neural_net_keep_prob_input(): 1.}),\n",
    "                                                      accuracy=session.run(accuracy, feed_dict={x: valid_features, y: valid_labels, neural_net_keep_prob_input():1.})))\n",
    "    return cost, accuracy"
   ]
  },
  {
   "cell_type": "markdown",
   "metadata": {},
   "source": [
    "### Hyperparameters\n",
    "Tune the following parameters:\n",
    "* Set `epochs` to the number of iterations until the network stops learning or start overfitting\n",
    "* Set `batch_size` to the highest number that your machine has memory for.  Most people set them to common sizes of memory:\n",
    " * 64\n",
    " * 128\n",
    " * 256\n",
    " * ...\n",
    "* Set `keep_probability` to the probability of keeping a node using dropout"
   ]
  },
  {
   "cell_type": "code",
   "execution_count": 15,
   "metadata": {
    "collapsed": true
   },
   "outputs": [],
   "source": [
    "# TODO: Tune Parameters\n",
    "epochs = 50\n",
    "batch_size = 256\n",
    "keep_probability = 0.8"
   ]
  },
  {
   "cell_type": "markdown",
   "metadata": {},
   "source": [
    "### Train on a Single CIFAR-10 Batch\n",
    "Instead of training the neural network on all the CIFAR-10 batches of data, let's use a single batch. This should save time while you iterate on the model to get a better accuracy.  Once the final validation accuracy is 50% or greater, run the model on all the data in the next section."
   ]
  },
  {
   "cell_type": "code",
   "execution_count": 16,
   "metadata": {},
   "outputs": [
    {
     "name": "stdout",
     "output_type": "stream",
     "text": [
      "Checking the Training on a Single Batch...\n",
      "Epoch  1, CIFAR-10 Batch 1:  cost: 2.171747922897339, accuracy: 0.22660000622272491\n",
      "Epoch  2, CIFAR-10 Batch 1:  cost: 1.8612321615219116, accuracy: 0.3522000014781952\n",
      "Epoch  3, CIFAR-10 Batch 1:  cost: 1.6202945709228516, accuracy: 0.41119998693466187\n",
      "Epoch  4, CIFAR-10 Batch 1:  cost: 1.409968614578247, accuracy: 0.44679999351501465\n",
      "Epoch  5, CIFAR-10 Batch 1:  cost: 1.3400447368621826, accuracy: 0.46779999136924744\n",
      "Epoch  6, CIFAR-10 Batch 1:  cost: 1.2680156230926514, accuracy: 0.48179998993873596\n",
      "Epoch  7, CIFAR-10 Batch 1:  cost: 1.1531206369400024, accuracy: 0.4936000108718872\n",
      "Epoch  8, CIFAR-10 Batch 1:  cost: 1.0942716598510742, accuracy: 0.49959999322891235\n",
      "Epoch  9, CIFAR-10 Batch 1:  cost: 1.0199347734451294, accuracy: 0.503000020980835\n",
      "Epoch 10, CIFAR-10 Batch 1:  cost: 0.9533848762512207, accuracy: 0.5085999965667725\n",
      "Epoch 11, CIFAR-10 Batch 1:  cost: 0.8932806253433228, accuracy: 0.5127999782562256\n",
      "Epoch 12, CIFAR-10 Batch 1:  cost: 0.8502459526062012, accuracy: 0.510200023651123\n",
      "Epoch 13, CIFAR-10 Batch 1:  cost: 0.8124955296516418, accuracy: 0.5058000087738037\n",
      "Epoch 14, CIFAR-10 Batch 1:  cost: 0.7752158641815186, accuracy: 0.5067999958992004\n",
      "Epoch 15, CIFAR-10 Batch 1:  cost: 0.7325475215911865, accuracy: 0.5174000263214111\n",
      "Epoch 16, CIFAR-10 Batch 1:  cost: 0.7008615136146545, accuracy: 0.5189999938011169\n",
      "Epoch 17, CIFAR-10 Batch 1:  cost: 0.6548373699188232, accuracy: 0.5188000202178955\n",
      "Epoch 18, CIFAR-10 Batch 1:  cost: 0.6114979982376099, accuracy: 0.5153999924659729\n",
      "Epoch 19, CIFAR-10 Batch 1:  cost: 0.5727239847183228, accuracy: 0.5152000188827515\n",
      "Epoch 20, CIFAR-10 Batch 1:  cost: 0.5464679002761841, accuracy: 0.51419997215271\n",
      "Epoch 21, CIFAR-10 Batch 1:  cost: 0.5066961050033569, accuracy: 0.51419997215271\n",
      "Epoch 22, CIFAR-10 Batch 1:  cost: 0.47902560234069824, accuracy: 0.5121999979019165\n",
      "Epoch 23, CIFAR-10 Batch 1:  cost: 0.48354512453079224, accuracy: 0.5099999904632568\n",
      "Epoch 24, CIFAR-10 Batch 1:  cost: 0.4650048613548279, accuracy: 0.521399974822998\n",
      "Epoch 25, CIFAR-10 Batch 1:  cost: 0.4948006570339203, accuracy: 0.522599995136261\n",
      "Epoch 26, CIFAR-10 Batch 1:  cost: 0.446369469165802, accuracy: 0.525600016117096\n",
      "Epoch 27, CIFAR-10 Batch 1:  cost: 0.4524500370025635, accuracy: 0.5134000182151794\n",
      "Epoch 28, CIFAR-10 Batch 1:  cost: 0.4210842251777649, accuracy: 0.5216000080108643\n",
      "Epoch 29, CIFAR-10 Batch 1:  cost: 0.38273152709007263, accuracy: 0.5289999842643738\n",
      "Epoch 30, CIFAR-10 Batch 1:  cost: 0.3357061445713043, accuracy: 0.5181999802589417\n",
      "Epoch 31, CIFAR-10 Batch 1:  cost: 0.38005495071411133, accuracy: 0.5230000019073486\n",
      "Epoch 32, CIFAR-10 Batch 1:  cost: 0.34363871812820435, accuracy: 0.521399974822998\n",
      "Epoch 33, CIFAR-10 Batch 1:  cost: 0.3124120831489563, accuracy: 0.5270000100135803\n",
      "Epoch 34, CIFAR-10 Batch 1:  cost: 0.27816063165664673, accuracy: 0.5266000032424927\n",
      "Epoch 35, CIFAR-10 Batch 1:  cost: 0.2653569281101227, accuracy: 0.531000018119812\n",
      "Epoch 36, CIFAR-10 Batch 1:  cost: 0.24874551594257355, accuracy: 0.5378000140190125\n",
      "Epoch 37, CIFAR-10 Batch 1:  cost: 0.22818271815776825, accuracy: 0.5383999943733215\n",
      "Epoch 38, CIFAR-10 Batch 1:  cost: 0.229736328125, accuracy: 0.531000018119812\n",
      "Epoch 39, CIFAR-10 Batch 1:  cost: 0.24671241641044617, accuracy: 0.52920001745224\n",
      "Epoch 40, CIFAR-10 Batch 1:  cost: 0.22580063343048096, accuracy: 0.526199996471405\n",
      "Epoch 41, CIFAR-10 Batch 1:  cost: 0.17190150916576385, accuracy: 0.526199996471405\n",
      "Epoch 42, CIFAR-10 Batch 1:  cost: 0.1517704427242279, accuracy: 0.5267999768257141\n",
      "Epoch 43, CIFAR-10 Batch 1:  cost: 0.1607259064912796, accuracy: 0.5246000289916992\n",
      "Epoch 44, CIFAR-10 Batch 1:  cost: 0.17054876685142517, accuracy: 0.5167999863624573\n",
      "Epoch 45, CIFAR-10 Batch 1:  cost: 0.16528476774692535, accuracy: 0.5257999897003174\n",
      "Epoch 46, CIFAR-10 Batch 1:  cost: 0.1668180525302887, accuracy: 0.5206000208854675\n",
      "Epoch 47, CIFAR-10 Batch 1:  cost: 0.15594474971294403, accuracy: 0.5152000188827515\n",
      "Epoch 48, CIFAR-10 Batch 1:  cost: 0.1445571929216385, accuracy: 0.5059999823570251\n",
      "Epoch 49, CIFAR-10 Batch 1:  cost: 0.12528589367866516, accuracy: 0.5023999810218811\n",
      "Epoch 50, CIFAR-10 Batch 1:  cost: 0.14781169593334198, accuracy: 0.5070000290870667\n"
     ]
    }
   ],
   "source": [
    "\"\"\"\n",
    "DON'T MODIFY ANYTHING IN THIS CELL\n",
    "\"\"\"\n",
    "print('Checking the Training on a Single Batch...')\n",
    "with tf.Session() as sess:\n",
    "    # Initializing the variables\n",
    "    sess.run(tf.global_variables_initializer())\n",
    "    \n",
    "    # Training cycle\n",
    "    for epoch in range(epochs):\n",
    "        batch_i = 1\n",
    "        for batch_features, batch_labels in helper.load_preprocess_training_batch(batch_i, batch_size):\n",
    "            train_neural_network(sess, optimizer, keep_probability, batch_features, batch_labels)\n",
    "        print('Epoch {:>2}, CIFAR-10 Batch {}:  '.format(epoch + 1, batch_i), end='')\n",
    "        print_stats(sess, batch_features, batch_labels, cost, accuracy)"
   ]
  },
  {
   "cell_type": "code",
   "execution_count": 17,
   "metadata": {
    "collapsed": true
   },
   "outputs": [],
   "source": [
    "epochs = 100"
   ]
  },
  {
   "cell_type": "markdown",
   "metadata": {},
   "source": [
    "### Fully Train the Model\n",
    "Now that you got a good accuracy with a single CIFAR-10 batch, try it with all five batches."
   ]
  },
  {
   "cell_type": "code",
   "execution_count": null,
   "metadata": {},
   "outputs": [
    {
     "name": "stdout",
     "output_type": "stream",
     "text": [
      "Training...\n",
      "Epoch  1, CIFAR-10 Batch 1:  cost: 2.3305857181549072, accuracy: 0.14300000667572021\n",
      "Epoch  1, CIFAR-10 Batch 2:  cost: 1.9632526636123657, accuracy: 0.32019999623298645\n",
      "Epoch  1, CIFAR-10 Batch 3:  cost: 1.544368863105774, accuracy: 0.36399999260902405\n",
      "Epoch  1, CIFAR-10 Batch 4:  cost: 1.6554539203643799, accuracy: 0.40619999170303345\n",
      "Epoch  1, CIFAR-10 Batch 5:  cost: 1.6771694421768188, accuracy: 0.43540000915527344\n",
      "Epoch  2, CIFAR-10 Batch 1:  cost: 1.748339295387268, accuracy: 0.4602000117301941\n",
      "Epoch  2, CIFAR-10 Batch 2:  cost: 1.3926689624786377, accuracy: 0.4742000102996826\n",
      "Epoch  2, CIFAR-10 Batch 3:  cost: 1.2076308727264404, accuracy: 0.48159998655319214\n",
      "Epoch  2, CIFAR-10 Batch 4:  cost: 1.3639402389526367, accuracy: 0.47940000891685486\n",
      "Epoch  2, CIFAR-10 Batch 5:  cost: 1.4270336627960205, accuracy: 0.48820000886917114\n",
      "Epoch  3, CIFAR-10 Batch 1:  cost: 1.48726487159729, accuracy: 0.49140000343322754\n",
      "Epoch  3, CIFAR-10 Batch 2:  cost: 1.1737161874771118, accuracy: 0.5188000202178955\n",
      "Epoch  3, CIFAR-10 Batch 3:  cost: 0.9671540260314941, accuracy: 0.5063999891281128\n",
      "Epoch  3, CIFAR-10 Batch 4:  cost: 1.1594287157058716, accuracy: 0.5246000289916992\n",
      "Epoch  3, CIFAR-10 Batch 5:  cost: 1.2148571014404297, accuracy: 0.5199999809265137\n",
      "Epoch  4, CIFAR-10 Batch 1:  cost: 1.2422133684158325, accuracy: 0.5293999910354614\n",
      "Epoch  4, CIFAR-10 Batch 2:  cost: 1.0332015752792358, accuracy: 0.5396000146865845\n",
      "Epoch  4, CIFAR-10 Batch 3:  cost: 0.836962103843689, accuracy: 0.5410000085830688\n",
      "Epoch  4, CIFAR-10 Batch 4:  cost: 1.0094349384307861, accuracy: 0.5541999936103821\n",
      "Epoch  4, CIFAR-10 Batch 5:  cost: 1.082998514175415, accuracy: 0.548799991607666\n",
      "Epoch  5, CIFAR-10 Batch 1:  cost: 1.099434494972229, accuracy: 0.5514000058174133\n",
      "Epoch  5, CIFAR-10 Batch 2:  cost: 0.9245645403862, accuracy: 0.5562000274658203\n",
      "Epoch  5, CIFAR-10 Batch 3:  cost: 0.708489716053009, accuracy: 0.5550000071525574\n",
      "Epoch  5, CIFAR-10 Batch 4:  cost: 0.9061750173568726, accuracy: 0.5658000111579895\n",
      "Epoch  5, CIFAR-10 Batch 5:  cost: 0.9712549448013306, accuracy: 0.5667999982833862\n",
      "Epoch  6, CIFAR-10 Batch 1:  cost: 1.0146538019180298, accuracy: 0.5672000050544739\n",
      "Epoch  6, CIFAR-10 Batch 2:  cost: 0.8287142515182495, accuracy: 0.5630000233650208\n",
      "Epoch  6, CIFAR-10 Batch 3:  cost: 0.6593924760818481, accuracy: 0.5734000205993652\n",
      "Epoch  6, CIFAR-10 Batch 4:  cost: 0.7876924276351929, accuracy: 0.5734000205993652\n",
      "Epoch  6, CIFAR-10 Batch 5:  cost: 0.9005893468856812, accuracy: 0.573199987411499\n",
      "Epoch  7, CIFAR-10 Batch 1:  cost: 0.9450014233589172, accuracy: 0.5802000164985657\n",
      "Epoch  7, CIFAR-10 Batch 2:  cost: 0.7552064657211304, accuracy: 0.5676000118255615\n",
      "Epoch  7, CIFAR-10 Batch 3:  cost: 0.5960188508033752, accuracy: 0.5767999887466431\n",
      "Epoch  7, CIFAR-10 Batch 4:  cost: 0.7067681550979614, accuracy: 0.5934000015258789\n",
      "Epoch  7, CIFAR-10 Batch 5:  cost: 0.8665586709976196, accuracy: 0.5821999907493591\n",
      "Epoch  8, CIFAR-10 Batch 1:  cost: 0.8849983215332031, accuracy: 0.590399980545044\n",
      "Epoch  8, CIFAR-10 Batch 2:  cost: 0.6675947904586792, accuracy: 0.571399986743927\n",
      "Epoch  8, CIFAR-10 Batch 3:  cost: 0.5353723764419556, accuracy: 0.5925999879837036\n",
      "Epoch  8, CIFAR-10 Batch 4:  cost: 0.639922022819519, accuracy: 0.603600025177002\n",
      "Epoch  8, CIFAR-10 Batch 5:  cost: 0.8073816299438477, accuracy: 0.5950000286102295\n",
      "Epoch  9, CIFAR-10 Batch 1:  cost: 0.8176645040512085, accuracy: 0.603600025177002\n",
      "Epoch  9, CIFAR-10 Batch 2:  cost: 0.5826953649520874, accuracy: 0.5807999968528748\n",
      "Epoch  9, CIFAR-10 Batch 3:  cost: 0.4849397540092468, accuracy: 0.6001999974250793\n",
      "Epoch  9, CIFAR-10 Batch 4:  cost: 0.5713321566581726, accuracy: 0.6100000143051147\n",
      "Epoch  9, CIFAR-10 Batch 5:  cost: 0.7264708876609802, accuracy: 0.6074000000953674\n",
      "Epoch 10, CIFAR-10 Batch 1:  cost: 0.77396559715271, accuracy: 0.6118000149726868\n",
      "Epoch 10, CIFAR-10 Batch 2:  cost: 0.5745784044265747, accuracy: 0.592199981212616\n",
      "Epoch 10, CIFAR-10 Batch 3:  cost: 0.45446905493736267, accuracy: 0.6154000163078308\n",
      "Epoch 10, CIFAR-10 Batch 4:  cost: 0.5331152677536011, accuracy: 0.6176000237464905\n",
      "Epoch 10, CIFAR-10 Batch 5:  cost: 0.663565456867218, accuracy: 0.6158000230789185\n",
      "Epoch 11, CIFAR-10 Batch 1:  cost: 0.7231494188308716, accuracy: 0.621399998664856\n",
      "Epoch 11, CIFAR-10 Batch 2:  cost: 0.5473273396492004, accuracy: 0.5938000082969666\n",
      "Epoch 11, CIFAR-10 Batch 3:  cost: 0.4106050133705139, accuracy: 0.6111999750137329\n",
      "Epoch 11, CIFAR-10 Batch 4:  cost: 0.5593112707138062, accuracy: 0.6259999871253967\n",
      "Epoch 11, CIFAR-10 Batch 5:  cost: 0.6139496564865112, accuracy: 0.6151999831199646\n",
      "Epoch 12, CIFAR-10 Batch 1:  cost: 0.6609169244766235, accuracy: 0.626800000667572\n",
      "Epoch 12, CIFAR-10 Batch 2:  cost: 0.500399112701416, accuracy: 0.6154000163078308\n",
      "Epoch 12, CIFAR-10 Batch 3:  cost: 0.3751795291900635, accuracy: 0.6155999898910522\n",
      "Epoch 12, CIFAR-10 Batch 4:  cost: 0.5423468947410583, accuracy: 0.6244000196456909\n",
      "Epoch 12, CIFAR-10 Batch 5:  cost: 0.5612834095954895, accuracy: 0.6111999750137329\n",
      "Epoch 13, CIFAR-10 Batch 1:  cost: 0.6042929887771606, accuracy: 0.625\n",
      "Epoch 13, CIFAR-10 Batch 2:  cost: 0.45829740166664124, accuracy: 0.6187999844551086\n",
      "Epoch 13, CIFAR-10 Batch 3:  cost: 0.34470105171203613, accuracy: 0.6244000196456909\n",
      "Epoch 13, CIFAR-10 Batch 4:  cost: 0.4975399971008301, accuracy: 0.6254000067710876\n",
      "Epoch 13, CIFAR-10 Batch 5:  cost: 0.5264131426811218, accuracy: 0.6241999864578247\n",
      "Epoch 14, CIFAR-10 Batch 1:  cost: 0.5597151517868042, accuracy: 0.6327999830245972\n",
      "Epoch 14, CIFAR-10 Batch 2:  cost: 0.4061506390571594, accuracy: 0.6273999810218811\n",
      "Epoch 14, CIFAR-10 Batch 3:  cost: 0.33201882243156433, accuracy: 0.6304000020027161\n",
      "Epoch 14, CIFAR-10 Batch 4:  cost: 0.4474843144416809, accuracy: 0.6272000074386597\n",
      "Epoch 14, CIFAR-10 Batch 5:  cost: 0.47320327162742615, accuracy: 0.6240000128746033\n",
      "Epoch 15, CIFAR-10 Batch 1:  cost: 0.5050040483474731, accuracy: 0.6294000148773193\n",
      "Epoch 15, CIFAR-10 Batch 2:  cost: 0.3701881468296051, accuracy: 0.6294000148773193\n",
      "Epoch 15, CIFAR-10 Batch 3:  cost: 0.2970438599586487, accuracy: 0.6335999965667725\n",
      "Epoch 15, CIFAR-10 Batch 4:  cost: 0.3863494396209717, accuracy: 0.6194000244140625\n",
      "Epoch 15, CIFAR-10 Batch 5:  cost: 0.42938002943992615, accuracy: 0.6317999958992004\n",
      "Epoch 16, CIFAR-10 Batch 1:  cost: 0.4751172661781311, accuracy: 0.626800000667572\n",
      "Epoch 16, CIFAR-10 Batch 2:  cost: 0.3480830788612366, accuracy: 0.6341999769210815\n",
      "Epoch 16, CIFAR-10 Batch 3:  cost: 0.2805301547050476, accuracy: 0.628000020980835\n",
      "Epoch 16, CIFAR-10 Batch 4:  cost: 0.36112576723098755, accuracy: 0.6212000250816345\n",
      "Epoch 16, CIFAR-10 Batch 5:  cost: 0.403027206659317, accuracy: 0.6291999816894531\n",
      "Epoch 17, CIFAR-10 Batch 1:  cost: 0.43634718656539917, accuracy: 0.6355999708175659\n",
      "Epoch 17, CIFAR-10 Batch 2:  cost: 0.3079332709312439, accuracy: 0.6353999972343445\n",
      "Epoch 17, CIFAR-10 Batch 3:  cost: 0.25896620750427246, accuracy: 0.6338000297546387\n",
      "Epoch 17, CIFAR-10 Batch 4:  cost: 0.3620486855506897, accuracy: 0.628000020980835\n",
      "Epoch 17, CIFAR-10 Batch 5:  cost: 0.3862268626689911, accuracy: 0.6335999965667725\n",
      "Epoch 18, CIFAR-10 Batch 1:  cost: 0.40799063444137573, accuracy: 0.6367999911308289\n",
      "Epoch 18, CIFAR-10 Batch 2:  cost: 0.28240102529525757, accuracy: 0.6320000290870667\n",
      "Epoch 18, CIFAR-10 Batch 3:  cost: 0.2470417320728302, accuracy: 0.6406000256538391\n",
      "Epoch 18, CIFAR-10 Batch 4:  cost: 0.31443628668785095, accuracy: 0.629800021648407\n",
      "Epoch 18, CIFAR-10 Batch 5:  cost: 0.36705246567726135, accuracy: 0.6308000087738037\n",
      "Epoch 19, CIFAR-10 Batch 1:  cost: 0.36850467324256897, accuracy: 0.6330000162124634\n",
      "Epoch 19, CIFAR-10 Batch 2:  cost: 0.2604558765888214, accuracy: 0.6299999952316284\n",
      "Epoch 19, CIFAR-10 Batch 3:  cost: 0.21666216850280762, accuracy: 0.6449999809265137\n",
      "Epoch 19, CIFAR-10 Batch 4:  cost: 0.27285343408584595, accuracy: 0.6341999769210815\n",
      "Epoch 19, CIFAR-10 Batch 5:  cost: 0.32274699211120605, accuracy: 0.6313999891281128\n",
      "Epoch 20, CIFAR-10 Batch 1:  cost: 0.34815624356269836, accuracy: 0.6349999904632568\n",
      "Epoch 20, CIFAR-10 Batch 2:  cost: 0.23940594494342804, accuracy: 0.6340000033378601\n",
      "Epoch 20, CIFAR-10 Batch 3:  cost: 0.19489681720733643, accuracy: 0.6417999863624573\n"
     ]
    },
    {
     "name": "stdout",
     "output_type": "stream",
     "text": [
      "Epoch 20, CIFAR-10 Batch 4:  cost: 0.250436931848526, accuracy: 0.6376000046730042\n",
      "Epoch 20, CIFAR-10 Batch 5:  cost: 0.3017820715904236, accuracy: 0.6302000284194946\n",
      "Epoch 21, CIFAR-10 Batch 1:  cost: 0.3345862030982971, accuracy: 0.6366000175476074\n",
      "Epoch 21, CIFAR-10 Batch 2:  cost: 0.24634809792041779, accuracy: 0.6384000182151794\n",
      "Epoch 21, CIFAR-10 Batch 3:  cost: 0.1683034598827362, accuracy: 0.6380000114440918\n",
      "Epoch 21, CIFAR-10 Batch 4:  cost: 0.25617367029190063, accuracy: 0.6389999985694885\n",
      "Epoch 21, CIFAR-10 Batch 5:  cost: 0.2699947953224182, accuracy: 0.6304000020027161\n",
      "Epoch 22, CIFAR-10 Batch 1:  cost: 0.32163503766059875, accuracy: 0.6367999911308289\n",
      "Epoch 22, CIFAR-10 Batch 2:  cost: 0.23573455214500427, accuracy: 0.6474000215530396\n",
      "Epoch 22, CIFAR-10 Batch 3:  cost: 0.15605491399765015, accuracy: 0.6349999904632568\n",
      "Epoch 22, CIFAR-10 Batch 4:  cost: 0.25482267141342163, accuracy: 0.6355999708175659\n",
      "Epoch 22, CIFAR-10 Batch 5:  cost: 0.23583564162254333, accuracy: 0.6322000026702881\n",
      "Epoch 23, CIFAR-10 Batch 1:  cost: 0.3046714961528778, accuracy: 0.6421999931335449\n",
      "Epoch 23, CIFAR-10 Batch 2:  cost: 0.2126973569393158, accuracy: 0.6546000242233276\n",
      "Epoch 23, CIFAR-10 Batch 3:  cost: 0.14714381098747253, accuracy: 0.6381999850273132\n",
      "Epoch 23, CIFAR-10 Batch 4:  cost: 0.23243899643421173, accuracy: 0.6376000046730042\n",
      "Epoch 23, CIFAR-10 Batch 5:  cost: 0.21889717876911163, accuracy: 0.6341999769210815\n",
      "Epoch 24, CIFAR-10 Batch 1:  cost: 0.26450473070144653, accuracy: 0.6421999931335449\n",
      "Epoch 24, CIFAR-10 Batch 2:  cost: 0.2006983458995819, accuracy: 0.6583999991416931\n",
      "Epoch 24, CIFAR-10 Batch 3:  cost: 0.12789884209632874, accuracy: 0.6466000080108643\n",
      "Epoch 24, CIFAR-10 Batch 4:  cost: 0.20949263870716095, accuracy: 0.6272000074386597\n",
      "Epoch 24, CIFAR-10 Batch 5:  cost: 0.20102901756763458, accuracy: 0.6335999965667725\n",
      "Epoch 25, CIFAR-10 Batch 1:  cost: 0.19797484576702118, accuracy: 0.6370000243186951\n",
      "Epoch 25, CIFAR-10 Batch 2:  cost: 0.2042829543352127, accuracy: 0.6507999897003174\n",
      "Epoch 25, CIFAR-10 Batch 3:  cost: 0.12538839876651764, accuracy: 0.6442000269889832\n",
      "Epoch 25, CIFAR-10 Batch 4:  cost: 0.1579684615135193, accuracy: 0.6384000182151794\n",
      "Epoch 25, CIFAR-10 Batch 5:  cost: 0.18439313769340515, accuracy: 0.6302000284194946\n",
      "Epoch 26, CIFAR-10 Batch 1:  cost: 0.15888404846191406, accuracy: 0.6398000121116638\n",
      "Epoch 26, CIFAR-10 Batch 2:  cost: 0.18951424956321716, accuracy: 0.6376000046730042\n",
      "Epoch 26, CIFAR-10 Batch 3:  cost: 0.1121218204498291, accuracy: 0.6456000208854675\n",
      "Epoch 26, CIFAR-10 Batch 4:  cost: 0.13617560267448425, accuracy: 0.6313999891281128\n",
      "Epoch 26, CIFAR-10 Batch 5:  cost: 0.14317816495895386, accuracy: 0.6395999789237976\n",
      "Epoch 27, CIFAR-10 Batch 1:  cost: 0.15697863698005676, accuracy: 0.6341999769210815\n",
      "Epoch 27, CIFAR-10 Batch 2:  cost: 0.15275390446186066, accuracy: 0.6412000060081482\n",
      "Epoch 27, CIFAR-10 Batch 3:  cost: 0.09257645905017853, accuracy: 0.6413999795913696\n",
      "Epoch 27, CIFAR-10 Batch 4:  cost: 0.1289912909269333, accuracy: 0.6416000127792358\n",
      "Epoch 27, CIFAR-10 Batch 5:  cost: 0.134165957570076, accuracy: 0.6417999863624573\n",
      "Epoch 28, CIFAR-10 Batch 1:  cost: 0.14230911433696747, accuracy: 0.640999972820282\n",
      "Epoch 28, CIFAR-10 Batch 2:  cost: 0.1573374718427658, accuracy: 0.6317999958992004\n",
      "Epoch 28, CIFAR-10 Batch 3:  cost: 0.08968381583690643, accuracy: 0.6363999843597412\n",
      "Epoch 28, CIFAR-10 Batch 4:  cost: 0.15853194892406464, accuracy: 0.6384000182151794\n",
      "Epoch 28, CIFAR-10 Batch 5:  cost: 0.15045972168445587, accuracy: 0.6442000269889832\n",
      "Epoch 29, CIFAR-10 Batch 1:  cost: 0.14841079711914062, accuracy: 0.6471999883651733\n",
      "Epoch 29, CIFAR-10 Batch 2:  cost: 0.14335547387599945, accuracy: 0.63919997215271\n",
      "Epoch 29, CIFAR-10 Batch 3:  cost: 0.07284887135028839, accuracy: 0.6385999917984009\n",
      "Epoch 29, CIFAR-10 Batch 4:  cost: 0.16298024356365204, accuracy: 0.6255999803543091\n",
      "Epoch 29, CIFAR-10 Batch 5:  cost: 0.13088901340961456, accuracy: 0.6485999822616577\n",
      "Epoch 30, CIFAR-10 Batch 1:  cost: 0.14657774567604065, accuracy: 0.652999997138977\n",
      "Epoch 30, CIFAR-10 Batch 2:  cost: 0.12311355769634247, accuracy: 0.6517999768257141\n",
      "Epoch 30, CIFAR-10 Batch 3:  cost: 0.08341262489557266, accuracy: 0.6284000277519226\n",
      "Epoch 30, CIFAR-10 Batch 4:  cost: 0.11153199523687363, accuracy: 0.628600001335144\n",
      "Epoch 30, CIFAR-10 Batch 5:  cost: 0.11990658193826675, accuracy: 0.6395999789237976\n",
      "Epoch 31, CIFAR-10 Batch 1:  cost: 0.15369868278503418, accuracy: 0.6539999842643738\n",
      "Epoch 31, CIFAR-10 Batch 2:  cost: 0.12046279013156891, accuracy: 0.646399974822998\n",
      "Epoch 31, CIFAR-10 Batch 3:  cost: 0.06495572626590729, accuracy: 0.6384000182151794\n",
      "Epoch 31, CIFAR-10 Batch 4:  cost: 0.0884832888841629, accuracy: 0.6295999884605408\n",
      "Epoch 31, CIFAR-10 Batch 5:  cost: 0.12463395297527313, accuracy: 0.6299999952316284\n",
      "Epoch 32, CIFAR-10 Batch 1:  cost: 0.14502708613872528, accuracy: 0.6453999876976013\n",
      "Epoch 32, CIFAR-10 Batch 2:  cost: 0.11897864192724228, accuracy: 0.6205999851226807\n",
      "Epoch 32, CIFAR-10 Batch 3:  cost: 0.07728107273578644, accuracy: 0.6384000182151794\n",
      "Epoch 32, CIFAR-10 Batch 4:  cost: 0.11416499316692352, accuracy: 0.6146000027656555\n",
      "Epoch 32, CIFAR-10 Batch 5:  cost: 0.09670136123895645, accuracy: 0.6340000033378601\n",
      "Epoch 33, CIFAR-10 Batch 1:  cost: 0.10744009912014008, accuracy: 0.652999997138977\n",
      "Epoch 33, CIFAR-10 Batch 2:  cost: 0.11233757436275482, accuracy: 0.6348000168800354\n",
      "Epoch 33, CIFAR-10 Batch 3:  cost: 0.09697585552930832, accuracy: 0.6173999905586243\n",
      "Epoch 33, CIFAR-10 Batch 4:  cost: 0.09618574380874634, accuracy: 0.6240000128746033\n",
      "Epoch 33, CIFAR-10 Batch 5:  cost: 0.09642479568719864, accuracy: 0.6373999714851379\n",
      "Epoch 34, CIFAR-10 Batch 1:  cost: 0.09580184519290924, accuracy: 0.6561999917030334\n",
      "Epoch 34, CIFAR-10 Batch 2:  cost: 0.09884078055620193, accuracy: 0.6281999945640564\n",
      "Epoch 34, CIFAR-10 Batch 3:  cost: 0.08188501745462418, accuracy: 0.6355999708175659\n",
      "Epoch 34, CIFAR-10 Batch 4:  cost: 0.08938868343830109, accuracy: 0.6273999810218811\n",
      "Epoch 34, CIFAR-10 Batch 5:  cost: 0.08101172745227814, accuracy: 0.6381999850273132\n",
      "Epoch 35, CIFAR-10 Batch 1:  cost: 0.11171118915081024, accuracy: 0.6534000039100647\n",
      "Epoch 35, CIFAR-10 Batch 2:  cost: 0.09323292225599289, accuracy: 0.6295999884605408\n",
      "Epoch 35, CIFAR-10 Batch 3:  cost: 0.06923746317625046, accuracy: 0.6434000134468079\n",
      "Epoch 35, CIFAR-10 Batch 4:  cost: 0.08742425590753555, accuracy: 0.6194000244140625\n",
      "Epoch 35, CIFAR-10 Batch 5:  cost: 0.0936337262392044, accuracy: 0.6453999876976013\n",
      "Epoch 36, CIFAR-10 Batch 1:  cost: 0.10466401278972626, accuracy: 0.647599995136261\n",
      "Epoch 36, CIFAR-10 Batch 2:  cost: 0.08284523338079453, accuracy: 0.6431999802589417\n",
      "Epoch 36, CIFAR-10 Batch 3:  cost: 0.05529554933309555, accuracy: 0.6480000019073486\n",
      "Epoch 36, CIFAR-10 Batch 4:  cost: 0.06796634942293167, accuracy: 0.6223999857902527\n",
      "Epoch 36, CIFAR-10 Batch 5:  cost: 0.07735366374254227, accuracy: 0.6460000276565552\n",
      "Epoch 37, CIFAR-10 Batch 1:  cost: 0.08975490182638168, accuracy: 0.646399974822998\n",
      "Epoch 37, CIFAR-10 Batch 2:  cost: 0.09249913692474365, accuracy: 0.6187999844551086\n",
      "Epoch 37, CIFAR-10 Batch 3:  cost: 0.04596812278032303, accuracy: 0.6416000127792358\n",
      "Epoch 37, CIFAR-10 Batch 4:  cost: 0.05429759621620178, accuracy: 0.6304000020027161\n",
      "Epoch 37, CIFAR-10 Batch 5:  cost: 0.07375592738389969, accuracy: 0.6434000134468079\n",
      "Epoch 38, CIFAR-10 Batch 1:  cost: 0.07413572072982788, accuracy: 0.6514000296592712\n",
      "Epoch 38, CIFAR-10 Batch 2:  cost: 0.09251634031534195, accuracy: 0.607200026512146\n",
      "Epoch 38, CIFAR-10 Batch 3:  cost: 0.05188168212771416, accuracy: 0.6313999891281128\n",
      "Epoch 38, CIFAR-10 Batch 4:  cost: 0.050624262541532516, accuracy: 0.6302000284194946\n",
      "Epoch 38, CIFAR-10 Batch 5:  cost: 0.06961508095264435, accuracy: 0.6406000256538391\n",
      "Epoch 39, CIFAR-10 Batch 1:  cost: 0.0791938528418541, accuracy: 0.6327999830245972\n",
      "Epoch 39, CIFAR-10 Batch 2:  cost: 0.06812641769647598, accuracy: 0.6115999817848206\n",
      "Epoch 39, CIFAR-10 Batch 3:  cost: 0.04284868761897087, accuracy: 0.6323999762535095\n",
      "Epoch 39, CIFAR-10 Batch 4:  cost: 0.05418849736452103, accuracy: 0.626800000667572\n",
      "Epoch 39, CIFAR-10 Batch 5:  cost: 0.058971602469682693, accuracy: 0.6358000040054321\n"
     ]
    },
    {
     "name": "stdout",
     "output_type": "stream",
     "text": [
      "Epoch 40, CIFAR-10 Batch 1:  cost: 0.07821536064147949, accuracy: 0.614799976348877\n",
      "Epoch 40, CIFAR-10 Batch 2:  cost: 0.0573265478014946, accuracy: 0.6118000149726868\n",
      "Epoch 40, CIFAR-10 Batch 3:  cost: 0.046342942863702774, accuracy: 0.6313999891281128\n",
      "Epoch 40, CIFAR-10 Batch 4:  cost: 0.06490904092788696, accuracy: 0.6248000264167786\n",
      "Epoch 40, CIFAR-10 Batch 5:  cost: 0.054350338876247406, accuracy: 0.6287999749183655\n",
      "Epoch 41, CIFAR-10 Batch 1:  cost: 0.09228284657001495, accuracy: 0.6182000041007996\n",
      "Epoch 41, CIFAR-10 Batch 2:  cost: 0.03740813210606575, accuracy: 0.625\n",
      "Epoch 41, CIFAR-10 Batch 3:  cost: 0.035004038363695145, accuracy: 0.6227999925613403\n",
      "Epoch 41, CIFAR-10 Batch 4:  cost: 0.059609055519104004, accuracy: 0.6204000115394592\n",
      "Epoch 41, CIFAR-10 Batch 5:  cost: 0.059251777827739716, accuracy: 0.6284000277519226\n",
      "Epoch 42, CIFAR-10 Batch 1:  cost: 0.07845449447631836, accuracy: 0.633400022983551\n",
      "Epoch 42, CIFAR-10 Batch 2:  cost: 0.05623806267976761, accuracy: 0.6449999809265137\n",
      "Epoch 42, CIFAR-10 Batch 3:  cost: 0.05371444672346115, accuracy: 0.629800021648407\n",
      "Epoch 42, CIFAR-10 Batch 4:  cost: 0.058497656136751175, accuracy: 0.5983999967575073\n",
      "Epoch 42, CIFAR-10 Batch 5:  cost: 0.05093599483370781, accuracy: 0.6330000162124634\n",
      "Epoch 43, CIFAR-10 Batch 1:  cost: 0.0763639360666275, accuracy: 0.61080002784729\n",
      "Epoch 43, CIFAR-10 Batch 2:  cost: 0.05041983723640442, accuracy: 0.6209999918937683\n",
      "Epoch 43, CIFAR-10 Batch 3:  cost: 0.04011786729097366, accuracy: 0.626800000667572\n",
      "Epoch 43, CIFAR-10 Batch 4:  cost: 0.07033471018075943, accuracy: 0.593999981880188\n",
      "Epoch 43, CIFAR-10 Batch 5:  cost: 0.05502283573150635, accuracy: 0.631600022315979\n",
      "Epoch 44, CIFAR-10 Batch 1:  cost: 0.057259343564510345, accuracy: 0.6151999831199646\n",
      "Epoch 44, CIFAR-10 Batch 2:  cost: 0.03470638394355774, accuracy: 0.6096000075340271\n",
      "Epoch 44, CIFAR-10 Batch 3:  cost: 0.044411759823560715, accuracy: 0.6154000163078308\n",
      "Epoch 44, CIFAR-10 Batch 4:  cost: 0.03595796227455139, accuracy: 0.6060000061988831\n",
      "Epoch 44, CIFAR-10 Batch 5:  cost: 0.049203354865312576, accuracy: 0.6262000203132629\n",
      "Epoch 45, CIFAR-10 Batch 1:  cost: 0.05260702222585678, accuracy: 0.6269999742507935\n",
      "Epoch 45, CIFAR-10 Batch 2:  cost: 0.033442236483097076, accuracy: 0.6119999885559082\n",
      "Epoch 45, CIFAR-10 Batch 3:  cost: 0.028517792001366615, accuracy: 0.6262000203132629\n",
      "Epoch 45, CIFAR-10 Batch 4:  cost: 0.025285284966230392, accuracy: 0.6245999932289124\n",
      "Epoch 45, CIFAR-10 Batch 5:  cost: 0.05067484453320503, accuracy: 0.6320000290870667\n",
      "Epoch 46, CIFAR-10 Batch 1:  cost: 0.04632013291120529, accuracy: 0.6358000040054321\n",
      "Epoch 46, CIFAR-10 Batch 2:  cost: 0.037228576838970184, accuracy: 0.6269999742507935\n",
      "Epoch 46, CIFAR-10 Batch 3:  cost: 0.04216316342353821, accuracy: 0.6161999702453613\n",
      "Epoch 46, CIFAR-10 Batch 4:  cost: 0.03907720372080803, accuracy: 0.6136000156402588\n",
      "Epoch 46, CIFAR-10 Batch 5:  cost: 0.05394050478935242, accuracy: 0.6398000121116638\n",
      "Epoch 47, CIFAR-10 Batch 1:  cost: 0.052361808717250824, accuracy: 0.631600022315979\n",
      "Epoch 47, CIFAR-10 Batch 2:  cost: 0.04497193545103073, accuracy: 0.6335999965667725\n",
      "Epoch 47, CIFAR-10 Batch 3:  cost: 0.026827415451407433, accuracy: 0.6133999824523926\n",
      "Epoch 47, CIFAR-10 Batch 4:  cost: 0.03445996344089508, accuracy: 0.6055999994277954\n",
      "Epoch 47, CIFAR-10 Batch 5:  cost: 0.03885869309306145, accuracy: 0.6394000053405762\n",
      "Epoch 48, CIFAR-10 Batch 1:  cost: 0.045824624598026276, accuracy: 0.6128000020980835\n",
      "Epoch 48, CIFAR-10 Batch 2:  cost: 0.054443906992673874, accuracy: 0.6308000087738037\n",
      "Epoch 48, CIFAR-10 Batch 3:  cost: 0.02116093784570694, accuracy: 0.6254000067710876\n",
      "Epoch 48, CIFAR-10 Batch 4:  cost: 0.03392327204346657, accuracy: 0.593999981880188\n",
      "Epoch 48, CIFAR-10 Batch 5:  cost: 0.03847148269414902, accuracy: 0.6344000101089478\n",
      "Epoch 49, CIFAR-10 Batch 1:  cost: 0.031323205679655075, accuracy: 0.6079999804496765\n",
      "Epoch 49, CIFAR-10 Batch 2:  cost: 0.034332677721977234, accuracy: 0.6366000175476074\n",
      "Epoch 49, CIFAR-10 Batch 3:  cost: 0.01894923485815525, accuracy: 0.6251999735832214\n",
      "Epoch 49, CIFAR-10 Batch 4:  cost: 0.017545362934470177, accuracy: 0.6122000217437744\n",
      "Epoch 49, CIFAR-10 Batch 5:  cost: 0.034113265573978424, accuracy: 0.6209999918937683\n",
      "Epoch 50, CIFAR-10 Batch 1:  cost: 0.03554532676935196, accuracy: 0.6218000054359436\n",
      "Epoch 50, CIFAR-10 Batch 2:  cost: 0.03500694781541824, accuracy: 0.628600001335144\n",
      "Epoch 50, CIFAR-10 Batch 3:  cost: 0.026186371222138405, accuracy: 0.6237999796867371\n",
      "Epoch 50, CIFAR-10 Batch 4:  cost: 0.02968720719218254, accuracy: 0.6208000183105469\n",
      "Epoch 50, CIFAR-10 Batch 5:  cost: 0.0275859571993351, accuracy: 0.6168000102043152\n",
      "Epoch 51, CIFAR-10 Batch 1:  cost: 0.043572891503572464, accuracy: 0.6272000074386597\n",
      "Epoch 51, CIFAR-10 Batch 2:  cost: 0.024293506518006325, accuracy: 0.6241999864578247\n",
      "Epoch 51, CIFAR-10 Batch 3:  cost: 0.02273213304579258, accuracy: 0.6240000128746033\n",
      "Epoch 51, CIFAR-10 Batch 4:  cost: 0.03891538828611374, accuracy: 0.6154000163078308\n",
      "Epoch 51, CIFAR-10 Batch 5:  cost: 0.03061864897608757, accuracy: 0.625\n",
      "Epoch 52, CIFAR-10 Batch 1:  cost: 0.04640088975429535, accuracy: 0.6105999946594238\n",
      "Epoch 52, CIFAR-10 Batch 2:  cost: 0.027730977162718773, accuracy: 0.6273999810218811\n",
      "Epoch 52, CIFAR-10 Batch 3:  cost: 0.030626589432358742, accuracy: 0.6129999756813049\n",
      "Epoch 52, CIFAR-10 Batch 4:  cost: 0.024696452543139458, accuracy: 0.6033999919891357\n",
      "Epoch 52, CIFAR-10 Batch 5:  cost: 0.033549584448337555, accuracy: 0.6222000122070312\n",
      "Epoch 53, CIFAR-10 Batch 1:  cost: 0.04530126601457596, accuracy: 0.6046000123023987\n",
      "Epoch 53, CIFAR-10 Batch 2:  cost: 0.031545571982860565, accuracy: 0.6259999871253967\n",
      "Epoch 53, CIFAR-10 Batch 3:  cost: 0.03750167042016983, accuracy: 0.6179999709129333\n",
      "Epoch 53, CIFAR-10 Batch 4:  cost: 0.020590387284755707, accuracy: 0.6092000007629395\n",
      "Epoch 53, CIFAR-10 Batch 5:  cost: 0.025383520871400833, accuracy: 0.6317999958992004\n",
      "Epoch 54, CIFAR-10 Batch 1:  cost: 0.04991816729307175, accuracy: 0.5934000015258789\n",
      "Epoch 54, CIFAR-10 Batch 2:  cost: 0.02676442265510559, accuracy: 0.6190000176429749\n",
      "Epoch 54, CIFAR-10 Batch 3:  cost: 0.02020401693880558, accuracy: 0.6273999810218811\n",
      "Epoch 54, CIFAR-10 Batch 4:  cost: 0.012741279788315296, accuracy: 0.6179999709129333\n",
      "Epoch 54, CIFAR-10 Batch 5:  cost: 0.02824118733406067, accuracy: 0.6295999884605408\n",
      "Epoch 55, CIFAR-10 Batch 1:  cost: 0.031691279262304306, accuracy: 0.6028000116348267\n",
      "Epoch 55, CIFAR-10 Batch 2:  cost: 0.017421633005142212, accuracy: 0.631600022315979\n",
      "Epoch 55, CIFAR-10 Batch 3:  cost: 0.020672554150223732, accuracy: 0.6204000115394592\n",
      "Epoch 55, CIFAR-10 Batch 4:  cost: 0.010018041357398033, accuracy: 0.6126000285148621\n",
      "Epoch 55, CIFAR-10 Batch 5:  cost: 0.022884683683514595, accuracy: 0.6226000189781189\n",
      "Epoch 56, CIFAR-10 Batch 1:  cost: 0.021788859739899635, accuracy: 0.6069999933242798\n",
      "Epoch 56, CIFAR-10 Batch 2:  cost: 0.027302950620651245, accuracy: 0.6254000067710876\n",
      "Epoch 56, CIFAR-10 Batch 3:  cost: 0.02465188503265381, accuracy: 0.6191999912261963\n",
      "Epoch 56, CIFAR-10 Batch 4:  cost: 0.011946100741624832, accuracy: 0.6137999892234802\n",
      "Epoch 56, CIFAR-10 Batch 5:  cost: 0.01821398362517357, accuracy: 0.626800000667572\n",
      "Epoch 57, CIFAR-10 Batch 1:  cost: 0.02668866142630577, accuracy: 0.598800003528595\n",
      "Epoch 57, CIFAR-10 Batch 2:  cost: 0.016919860616326332, accuracy: 0.6335999965667725\n",
      "Epoch 57, CIFAR-10 Batch 3:  cost: 0.015157677233219147, accuracy: 0.6294000148773193\n",
      "Epoch 57, CIFAR-10 Batch 4:  cost: 0.00992073118686676, accuracy: 0.6039999723434448\n",
      "Epoch 57, CIFAR-10 Batch 5:  cost: 0.01739499717950821, accuracy: 0.6277999877929688\n",
      "Epoch 58, CIFAR-10 Batch 1:  cost: 0.024622410535812378, accuracy: 0.6150000095367432\n",
      "Epoch 58, CIFAR-10 Batch 2:  cost: 0.014519989490509033, accuracy: 0.6151999831199646\n",
      "Epoch 58, CIFAR-10 Batch 3:  cost: 0.026959598064422607, accuracy: 0.6308000087738037\n",
      "Epoch 58, CIFAR-10 Batch 4:  cost: 0.017758941277861595, accuracy: 0.600600004196167\n",
      "Epoch 58, CIFAR-10 Batch 5:  cost: 0.014970001764595509, accuracy: 0.6341999769210815\n",
      "Epoch 59, CIFAR-10 Batch 1:  cost: 0.02772631123661995, accuracy: 0.628000020980835\n",
      "Epoch 59, CIFAR-10 Batch 2:  cost: 0.016537562012672424, accuracy: 0.6281999945640564\n"
     ]
    },
    {
     "name": "stdout",
     "output_type": "stream",
     "text": [
      "Epoch 59, CIFAR-10 Batch 3:  cost: 0.01745428517460823, accuracy: 0.6251999735832214\n",
      "Epoch 59, CIFAR-10 Batch 4:  cost: 0.028313826769590378, accuracy: 0.6093999743461609\n",
      "Epoch 59, CIFAR-10 Batch 5:  cost: 0.014825466088950634, accuracy: 0.6338000297546387\n",
      "Epoch 60, CIFAR-10 Batch 1:  cost: 0.021222731098532677, accuracy: 0.621999979019165\n",
      "Epoch 60, CIFAR-10 Batch 2:  cost: 0.030692661181092262, accuracy: 0.6362000107765198\n",
      "Epoch 60, CIFAR-10 Batch 3:  cost: 0.02714654803276062, accuracy: 0.6079999804496765\n",
      "Epoch 60, CIFAR-10 Batch 4:  cost: 0.016093123704195023, accuracy: 0.6104000210762024\n",
      "Epoch 60, CIFAR-10 Batch 5:  cost: 0.015674954280257225, accuracy: 0.6284000277519226\n",
      "Epoch 61, CIFAR-10 Batch 1:  cost: 0.023680055513978004, accuracy: 0.6176000237464905\n",
      "Epoch 61, CIFAR-10 Batch 2:  cost: 0.023315254598855972, accuracy: 0.6373999714851379\n",
      "Epoch 61, CIFAR-10 Batch 3:  cost: 0.013596689328551292, accuracy: 0.6129999756813049\n",
      "Epoch 61, CIFAR-10 Batch 4:  cost: 0.014702081680297852, accuracy: 0.6248000264167786\n",
      "Epoch 61, CIFAR-10 Batch 5:  cost: 0.01904728077352047, accuracy: 0.621999979019165\n",
      "Epoch 62, CIFAR-10 Batch 1:  cost: 0.028646528720855713, accuracy: 0.6191999912261963\n",
      "Epoch 62, CIFAR-10 Batch 2:  cost: 0.01490618847310543, accuracy: 0.6233999729156494\n",
      "Epoch 62, CIFAR-10 Batch 3:  cost: 0.021739300340414047, accuracy: 0.604200005531311\n",
      "Epoch 62, CIFAR-10 Batch 4:  cost: 0.009342201054096222, accuracy: 0.6258000135421753\n",
      "Epoch 62, CIFAR-10 Batch 5:  cost: 0.017515655606985092, accuracy: 0.6227999925613403\n",
      "Epoch 63, CIFAR-10 Batch 1:  cost: 0.02764793671667576, accuracy: 0.621399998664856\n",
      "Epoch 63, CIFAR-10 Batch 2:  cost: 0.01093376986682415, accuracy: 0.620199978351593\n",
      "Epoch 63, CIFAR-10 Batch 3:  cost: 0.01485548634082079, accuracy: 0.6176000237464905\n",
      "Epoch 63, CIFAR-10 Batch 4:  cost: 0.031603626906871796, accuracy: 0.6230000257492065\n",
      "Epoch 63, CIFAR-10 Batch 5:  cost: 0.013461542315781116, accuracy: 0.6215999722480774\n",
      "Epoch 64, CIFAR-10 Batch 1:  cost: 0.04446699097752571, accuracy: 0.6236000061035156\n",
      "Epoch 64, CIFAR-10 Batch 2:  cost: 0.01724672131240368, accuracy: 0.6118000149726868\n",
      "Epoch 64, CIFAR-10 Batch 3:  cost: 0.01210554875433445, accuracy: 0.6177999973297119\n",
      "Epoch 64, CIFAR-10 Batch 4:  cost: 0.030687222257256508, accuracy: 0.6150000095367432\n",
      "Epoch 64, CIFAR-10 Batch 5:  cost: 0.009070158004760742, accuracy: 0.6060000061988831\n",
      "Epoch 65, CIFAR-10 Batch 1:  cost: 0.013372046872973442, accuracy: 0.6244000196456909\n",
      "Epoch 65, CIFAR-10 Batch 2:  cost: 0.01047991681843996, accuracy: 0.6173999905586243\n",
      "Epoch 65, CIFAR-10 Batch 3:  cost: 0.010021373629570007, accuracy: 0.6195999979972839\n",
      "Epoch 65, CIFAR-10 Batch 4:  cost: 0.014287462458014488, accuracy: 0.625\n",
      "Epoch 65, CIFAR-10 Batch 5:  cost: 0.015085920691490173, accuracy: 0.6105999946594238\n",
      "Epoch 66, CIFAR-10 Batch 1:  cost: 0.01773405447602272, accuracy: 0.6137999892234802\n",
      "Epoch 66, CIFAR-10 Batch 2:  cost: 0.013162744231522083, accuracy: 0.6322000026702881\n",
      "Epoch 66, CIFAR-10 Batch 3:  cost: 0.004363513085991144, accuracy: 0.61080002784729\n",
      "Epoch 66, CIFAR-10 Batch 4:  cost: 0.020165245980024338, accuracy: 0.6161999702453613\n",
      "Epoch 66, CIFAR-10 Batch 5:  cost: 0.008543389849364758, accuracy: 0.6222000122070312\n",
      "Epoch 67, CIFAR-10 Batch 1:  cost: 0.012327523902058601, accuracy: 0.6140000224113464\n",
      "Epoch 67, CIFAR-10 Batch 2:  cost: 0.010176197625696659, accuracy: 0.6245999932289124\n",
      "Epoch 67, CIFAR-10 Batch 3:  cost: 0.010832537896931171, accuracy: 0.618399977684021\n",
      "Epoch 67, CIFAR-10 Batch 4:  cost: 0.006670656614005566, accuracy: 0.6151999831199646\n",
      "Epoch 67, CIFAR-10 Batch 5:  cost: 0.010844672098755836, accuracy: 0.6233999729156494\n",
      "Epoch 68, CIFAR-10 Batch 1:  cost: 0.023612158372998238, accuracy: 0.6263999938964844\n",
      "Epoch 68, CIFAR-10 Batch 2:  cost: 0.009775739163160324, accuracy: 0.6266000270843506\n",
      "Epoch 68, CIFAR-10 Batch 3:  cost: 0.006992010865360498, accuracy: 0.6258000135421753\n",
      "Epoch 68, CIFAR-10 Batch 4:  cost: 0.014787462539970875, accuracy: 0.6140000224113464\n",
      "Epoch 68, CIFAR-10 Batch 5:  cost: 0.00973570067435503, accuracy: 0.6255999803543091\n",
      "Epoch 69, CIFAR-10 Batch 1:  cost: 0.027234917506575584, accuracy: 0.6245999932289124\n",
      "Epoch 69, CIFAR-10 Batch 2:  cost: 0.011145005002617836, accuracy: 0.628600001335144\n",
      "Epoch 69, CIFAR-10 Batch 3:  cost: 0.0057066031731665134, accuracy: 0.6341999769210815\n",
      "Epoch 69, CIFAR-10 Batch 4:  cost: 0.008467801846563816, accuracy: 0.6161999702453613\n",
      "Epoch 69, CIFAR-10 Batch 5:  cost: 0.006521378643810749, accuracy: 0.6302000284194946\n",
      "Epoch 70, CIFAR-10 Batch 1:  cost: 0.009010491892695427, accuracy: 0.6309999823570251\n",
      "Epoch 70, CIFAR-10 Batch 2:  cost: 0.013795623555779457, accuracy: 0.6254000067710876\n",
      "Epoch 70, CIFAR-10 Batch 3:  cost: 0.013940122909843922, accuracy: 0.6227999925613403\n",
      "Epoch 70, CIFAR-10 Batch 4:  cost: 0.007151857949793339, accuracy: 0.6233999729156494\n",
      "Epoch 70, CIFAR-10 Batch 5:  cost: 0.007332684937864542, accuracy: 0.6308000087738037\n",
      "Epoch 71, CIFAR-10 Batch 1:  cost: 0.007670720107853413, accuracy: 0.6186000108718872\n",
      "Epoch 71, CIFAR-10 Batch 2:  cost: 0.006861804984509945, accuracy: 0.6255999803543091\n",
      "Epoch 71, CIFAR-10 Batch 3:  cost: 0.010925446636974812, accuracy: 0.6222000122070312\n",
      "Epoch 71, CIFAR-10 Batch 4:  cost: 0.0228408295661211, accuracy: 0.607200026512146\n",
      "Epoch 71, CIFAR-10 Batch 5:  cost: 0.007210092153400183, accuracy: 0.6168000102043152\n",
      "Epoch 72, CIFAR-10 Batch 1:  cost: 0.008954169228672981, accuracy: 0.6204000115394592\n",
      "Epoch 72, CIFAR-10 Batch 2:  cost: 0.008155573159456253, accuracy: 0.6204000115394592\n",
      "Epoch 72, CIFAR-10 Batch 3:  cost: 0.011421608738601208, accuracy: 0.6277999877929688\n",
      "Epoch 72, CIFAR-10 Batch 4:  cost: 0.0073654488660395145, accuracy: 0.5997999906539917\n",
      "Epoch 72, CIFAR-10 Batch 5:  cost: 0.021879542618989944, accuracy: 0.6223999857902527\n",
      "Epoch 73, CIFAR-10 Batch 1:  cost: 0.009074029512703419, accuracy: 0.6263999938964844\n",
      "Epoch 73, CIFAR-10 Batch 2:  cost: 0.009338423609733582, accuracy: 0.6338000297546387\n",
      "Epoch 73, CIFAR-10 Batch 3:  cost: 0.016597479581832886, accuracy: 0.6284000277519226\n",
      "Epoch 73, CIFAR-10 Batch 4:  cost: 0.00539441779255867, accuracy: 0.6043999791145325\n",
      "Epoch 73, CIFAR-10 Batch 5:  "
     ]
    }
   ],
   "source": [
    "\"\"\"\n",
    "DON'T MODIFY ANYTHING IN THIS CELL\n",
    "\"\"\"\n",
    "save_model_path = './image_classification'\n",
    "\n",
    "print('Training...')\n",
    "with tf.Session() as sess:\n",
    "    # Initializing the variables\n",
    "    sess.run(tf.global_variables_initializer())\n",
    "    \n",
    "    # Training cycle\n",
    "    for epoch in range(epochs):\n",
    "        # Loop over all batches\n",
    "        n_batches = 5\n",
    "        for batch_i in range(1, n_batches + 1):\n",
    "            for batch_features, batch_labels in helper.load_preprocess_training_batch(batch_i, batch_size):\n",
    "                train_neural_network(sess, optimizer, keep_probability, batch_features, batch_labels)\n",
    "            print('Epoch {:>2}, CIFAR-10 Batch {}:  '.format(epoch + 1, batch_i), end='')\n",
    "            print_stats(sess, batch_features, batch_labels, cost, accuracy)\n",
    "            \n",
    "    # Save Model\n",
    "    saver = tf.train.Saver()\n",
    "    save_path = saver.save(sess, save_model_path)"
   ]
  },
  {
   "cell_type": "markdown",
   "metadata": {},
   "source": [
    "# Checkpoint\n",
    "The model has been saved to disk.\n",
    "## Test Model\n",
    "Test your model against the test dataset.  This will be your final accuracy. You should have an accuracy greater than 50%. If you don't, keep tweaking the model architecture and parameters."
   ]
  },
  {
   "cell_type": "code",
   "execution_count": 1,
   "metadata": {},
   "outputs": [
    {
     "ename": "OSError",
     "evalue": "File ./image_classification.meta does not exist.",
     "output_type": "error",
     "traceback": [
      "\u001b[0;31m---------------------------------------------------------------------------\u001b[0m",
      "\u001b[0;31mOSError\u001b[0m                                   Traceback (most recent call last)",
      "\u001b[0;32m<ipython-input-1-5942ba961321>\u001b[0m in \u001b[0;36m<module>\u001b[0;34m()\u001b[0m\n\u001b[1;32m     61\u001b[0m \u001b[0;34m\u001b[0m\u001b[0m\n\u001b[1;32m     62\u001b[0m \u001b[0;34m\u001b[0m\u001b[0m\n\u001b[0;32m---> 63\u001b[0;31m \u001b[0mtest_model\u001b[0m\u001b[0;34m(\u001b[0m\u001b[0;34m)\u001b[0m\u001b[0;34m\u001b[0m\u001b[0m\n\u001b[0m",
      "\u001b[0;32m<ipython-input-1-5942ba961321>\u001b[0m in \u001b[0;36mtest_model\u001b[0;34m()\u001b[0m\n\u001b[1;32m     31\u001b[0m     \u001b[0;32mwith\u001b[0m \u001b[0mtf\u001b[0m\u001b[0;34m.\u001b[0m\u001b[0mSession\u001b[0m\u001b[0;34m(\u001b[0m\u001b[0mgraph\u001b[0m\u001b[0;34m=\u001b[0m\u001b[0mloaded_graph\u001b[0m\u001b[0;34m)\u001b[0m \u001b[0;32mas\u001b[0m \u001b[0msess\u001b[0m\u001b[0;34m:\u001b[0m\u001b[0;34m\u001b[0m\u001b[0m\n\u001b[1;32m     32\u001b[0m         \u001b[0;31m# Load model\u001b[0m\u001b[0;34m\u001b[0m\u001b[0;34m\u001b[0m\u001b[0m\n\u001b[0;32m---> 33\u001b[0;31m         \u001b[0mloader\u001b[0m \u001b[0;34m=\u001b[0m \u001b[0mtf\u001b[0m\u001b[0;34m.\u001b[0m\u001b[0mtrain\u001b[0m\u001b[0;34m.\u001b[0m\u001b[0mimport_meta_graph\u001b[0m\u001b[0;34m(\u001b[0m\u001b[0msave_model_path\u001b[0m \u001b[0;34m+\u001b[0m \u001b[0;34m'.meta'\u001b[0m\u001b[0;34m)\u001b[0m\u001b[0;34m\u001b[0m\u001b[0m\n\u001b[0m\u001b[1;32m     34\u001b[0m         \u001b[0mloader\u001b[0m\u001b[0;34m.\u001b[0m\u001b[0mrestore\u001b[0m\u001b[0;34m(\u001b[0m\u001b[0msess\u001b[0m\u001b[0;34m,\u001b[0m \u001b[0msave_model_path\u001b[0m\u001b[0;34m)\u001b[0m\u001b[0;34m\u001b[0m\u001b[0m\n\u001b[1;32m     35\u001b[0m \u001b[0;34m\u001b[0m\u001b[0m\n",
      "\u001b[0;32m~/miniconda3/envs/dl/lib/python3.6/site-packages/tensorflow/python/training/saver.py\u001b[0m in \u001b[0;36mimport_meta_graph\u001b[0;34m(meta_graph_or_file, clear_devices, import_scope, **kwargs)\u001b[0m\n\u001b[1;32m   1677\u001b[0m   \"\"\"\n\u001b[1;32m   1678\u001b[0m   \u001b[0;32mif\u001b[0m \u001b[0;32mnot\u001b[0m \u001b[0misinstance\u001b[0m\u001b[0;34m(\u001b[0m\u001b[0mmeta_graph_or_file\u001b[0m\u001b[0;34m,\u001b[0m \u001b[0mmeta_graph_pb2\u001b[0m\u001b[0;34m.\u001b[0m\u001b[0mMetaGraphDef\u001b[0m\u001b[0;34m)\u001b[0m\u001b[0;34m:\u001b[0m\u001b[0;34m\u001b[0m\u001b[0m\n\u001b[0;32m-> 1679\u001b[0;31m     \u001b[0mmeta_graph_def\u001b[0m \u001b[0;34m=\u001b[0m \u001b[0mmeta_graph\u001b[0m\u001b[0;34m.\u001b[0m\u001b[0mread_meta_graph_file\u001b[0m\u001b[0;34m(\u001b[0m\u001b[0mmeta_graph_or_file\u001b[0m\u001b[0;34m)\u001b[0m\u001b[0;34m\u001b[0m\u001b[0m\n\u001b[0m\u001b[1;32m   1680\u001b[0m   \u001b[0;32melse\u001b[0m\u001b[0;34m:\u001b[0m\u001b[0;34m\u001b[0m\u001b[0m\n\u001b[1;32m   1681\u001b[0m     \u001b[0mmeta_graph_def\u001b[0m \u001b[0;34m=\u001b[0m \u001b[0mmeta_graph_or_file\u001b[0m\u001b[0;34m\u001b[0m\u001b[0m\n",
      "\u001b[0;32m~/miniconda3/envs/dl/lib/python3.6/site-packages/tensorflow/python/framework/meta_graph.py\u001b[0m in \u001b[0;36mread_meta_graph_file\u001b[0;34m(filename)\u001b[0m\n\u001b[1;32m    400\u001b[0m   \u001b[0mmeta_graph_def\u001b[0m \u001b[0;34m=\u001b[0m \u001b[0mmeta_graph_pb2\u001b[0m\u001b[0;34m.\u001b[0m\u001b[0mMetaGraphDef\u001b[0m\u001b[0;34m(\u001b[0m\u001b[0;34m)\u001b[0m\u001b[0;34m\u001b[0m\u001b[0m\n\u001b[1;32m    401\u001b[0m   \u001b[0;32mif\u001b[0m \u001b[0;32mnot\u001b[0m \u001b[0mfile_io\u001b[0m\u001b[0;34m.\u001b[0m\u001b[0mfile_exists\u001b[0m\u001b[0;34m(\u001b[0m\u001b[0mfilename\u001b[0m\u001b[0;34m)\u001b[0m\u001b[0;34m:\u001b[0m\u001b[0;34m\u001b[0m\u001b[0m\n\u001b[0;32m--> 402\u001b[0;31m     \u001b[0;32mraise\u001b[0m \u001b[0mIOError\u001b[0m\u001b[0;34m(\u001b[0m\u001b[0;34m\"File %s does not exist.\"\u001b[0m \u001b[0;34m%\u001b[0m \u001b[0mfilename\u001b[0m\u001b[0;34m)\u001b[0m\u001b[0;34m\u001b[0m\u001b[0m\n\u001b[0m\u001b[1;32m    403\u001b[0m   \u001b[0;31m# First try to read it as a binary file.\u001b[0m\u001b[0;34m\u001b[0m\u001b[0;34m\u001b[0m\u001b[0m\n\u001b[1;32m    404\u001b[0m   \u001b[0mfile_content\u001b[0m \u001b[0;34m=\u001b[0m \u001b[0mfile_io\u001b[0m\u001b[0;34m.\u001b[0m\u001b[0mFileIO\u001b[0m\u001b[0;34m(\u001b[0m\u001b[0mfilename\u001b[0m\u001b[0;34m,\u001b[0m \u001b[0;34m\"rb\"\u001b[0m\u001b[0;34m)\u001b[0m\u001b[0;34m.\u001b[0m\u001b[0mread\u001b[0m\u001b[0;34m(\u001b[0m\u001b[0;34m)\u001b[0m\u001b[0;34m\u001b[0m\u001b[0m\n",
      "\u001b[0;31mOSError\u001b[0m: File ./image_classification.meta does not exist."
     ]
    }
   ],
   "source": [
    "\"\"\"\n",
    "DON'T MODIFY ANYTHING IN THIS CELL\n",
    "\"\"\"\n",
    "%matplotlib inline\n",
    "%config InlineBackend.figure_format = 'retina'\n",
    "\n",
    "import tensorflow as tf\n",
    "import pickle\n",
    "import helper\n",
    "import random\n",
    "\n",
    "# Set batch size if not already set\n",
    "try:\n",
    "    if batch_size:\n",
    "        pass\n",
    "except NameError:\n",
    "    batch_size = 64\n",
    "\n",
    "save_model_path = './image_classification'\n",
    "n_samples = 4\n",
    "top_n_predictions = 3\n",
    "\n",
    "def test_model():\n",
    "    \"\"\"\n",
    "    Test the saved model against the test dataset\n",
    "    \"\"\"\n",
    "\n",
    "    test_features, test_labels = pickle.load(open('preprocess_test.p', mode='rb'))\n",
    "    loaded_graph = tf.Graph()\n",
    "\n",
    "    with tf.Session(graph=loaded_graph) as sess:\n",
    "        # Load model\n",
    "        loader = tf.train.import_meta_graph(save_model_path + '.meta')\n",
    "        loader.restore(sess, save_model_path)\n",
    "\n",
    "        # Get Tensors from loaded model\n",
    "        loaded_x = loaded_graph.get_tensor_by_name('x:0')\n",
    "        loaded_y = loaded_graph.get_tensor_by_name('y:0')\n",
    "        loaded_keep_prob = loaded_graph.get_tensor_by_name('keep_prob:0')\n",
    "        loaded_logits = loaded_graph.get_tensor_by_name('logits:0')\n",
    "        loaded_acc = loaded_graph.get_tensor_by_name('accuracy:0')\n",
    "        \n",
    "        # Get accuracy in batches for memory limitations\n",
    "        test_batch_acc_total = 0\n",
    "        test_batch_count = 0\n",
    "        \n",
    "        for test_feature_batch, test_label_batch in helper.batch_features_labels(test_features, test_labels, batch_size):\n",
    "            test_batch_acc_total += sess.run(\n",
    "                loaded_acc,\n",
    "                feed_dict={loaded_x: test_feature_batch, loaded_y: test_label_batch, loaded_keep_prob: 1.0})\n",
    "            test_batch_count += 1\n",
    "\n",
    "        print('Testing Accuracy: {}\\n'.format(test_batch_acc_total/test_batch_count))\n",
    "\n",
    "        # Print Random Samples\n",
    "        random_test_features, random_test_labels = tuple(zip(*random.sample(list(zip(test_features, test_labels)), n_samples)))\n",
    "        random_test_predictions = sess.run(\n",
    "            tf.nn.top_k(tf.nn.softmax(loaded_logits), top_n_predictions),\n",
    "            feed_dict={loaded_x: random_test_features, loaded_y: random_test_labels, loaded_keep_prob: 1.0})\n",
    "        helper.display_image_predictions(random_test_features, random_test_labels, random_test_predictions)\n",
    "\n",
    "\n",
    "test_model()"
   ]
  },
  {
   "cell_type": "markdown",
   "metadata": {},
   "source": [
    "## Why 50-80% Accuracy?\n",
    "You might be wondering why you can't get an accuracy any higher. First things first, 50% isn't bad for a simple CNN.  Pure guessing would get you 10% accuracy. However, you might notice people are getting scores [well above 80%](http://rodrigob.github.io/are_we_there_yet/build/classification_datasets_results.html#43494641522d3130).  That's because we haven't taught you all there is to know about neural networks. We still need to cover a few more techniques.\n",
    "## Submitting This Project\n",
    "When submitting this project, make sure to run all the cells before saving the notebook.  Save the notebook file as \"dlnd_image_classification.ipynb\" and save it as a HTML file under \"File\" -> \"Download as\".  Include the \"helper.py\" and \"problem_unittests.py\" files in your submission."
   ]
  }
 ],
 "metadata": {
  "kernelspec": {
   "display_name": "Python 3",
   "language": "python",
   "name": "python3"
  },
  "language_info": {
   "codemirror_mode": {
    "name": "ipython",
    "version": 3
   },
   "file_extension": ".py",
   "mimetype": "text/x-python",
   "name": "python",
   "nbconvert_exporter": "python",
   "pygments_lexer": "ipython3",
   "version": "3.6.1"
  }
 },
 "nbformat": 4,
 "nbformat_minor": 1
}
