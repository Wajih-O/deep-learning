{
 "cells": [
  {
   "cell_type": "markdown",
   "metadata": {
    "collapsed": true
   },
   "source": [
    "# Image Classification\n",
    "In this project, you'll classify images from the [CIFAR-10 dataset](https://www.cs.toronto.edu/~kriz/cifar.html).  The dataset consists of airplanes, dogs, cats, and other objects. You'll preprocess the images, then train a convolutional neural network on all the samples. The images need to be normalized and the labels need to be one-hot encoded.  You'll get to apply what you learned and build a convolutional, max pooling, dropout, and fully connected layers.  At the end, you'll get to see your neural network's predictions on the sample images.\n",
    "## Get the Data\n",
    "Run the following cell to download the [CIFAR-10 dataset for python](https://www.cs.toronto.edu/~kriz/cifar-10-python.tar.gz)."
   ]
  },
  {
   "cell_type": "code",
   "execution_count": 1,
   "metadata": {},
   "outputs": [
    {
     "name": "stdout",
     "output_type": "stream",
     "text": [
      "All files found!\n"
     ]
    }
   ],
   "source": [
    "\"\"\"\n",
    "DON'T MODIFY ANYTHING IN THIS CELL THAT IS BELOW THIS LINE\n",
    "\"\"\"\n",
    "from urllib.request import urlretrieve\n",
    "from os.path import isfile, isdir\n",
    "from tqdm import tqdm\n",
    "import problem_unittests as tests\n",
    "import tarfile\n",
    "\n",
    "cifar10_dataset_folder_path = 'cifar-10-batches-py'\n",
    "\n",
    "# Use Floyd's cifar-10 dataset if present\n",
    "floyd_cifar10_location = '/input/cifar-10/python.tar.gz'\n",
    "if isfile(floyd_cifar10_location):\n",
    "    tar_gz_path = floyd_cifar10_location\n",
    "else:\n",
    "    tar_gz_path = 'cifar-10-python.tar.gz'\n",
    "\n",
    "class DLProgress(tqdm):\n",
    "    last_block = 0\n",
    "\n",
    "    def hook(self, block_num=1, block_size=1, total_size=None):\n",
    "        self.total = total_size\n",
    "        self.update((block_num - self.last_block) * block_size)\n",
    "        self.last_block = block_num\n",
    "\n",
    "if not isfile(tar_gz_path):\n",
    "    with DLProgress(unit='B', unit_scale=True, miniters=1, desc='CIFAR-10 Dataset') as pbar:\n",
    "        urlretrieve(\n",
    "            'https://www.cs.toronto.edu/~kriz/cifar-10-python.tar.gz',\n",
    "            tar_gz_path,\n",
    "            pbar.hook)\n",
    "\n",
    "if not isdir(cifar10_dataset_folder_path):\n",
    "    with tarfile.open(tar_gz_path) as tar:\n",
    "        tar.extractall()\n",
    "        tar.close()\n",
    "\n",
    "\n",
    "tests.test_folder_path(cifar10_dataset_folder_path)"
   ]
  },
  {
   "cell_type": "markdown",
   "metadata": {},
   "source": [
    "## Explore the Data\n",
    "The dataset is broken into batches to prevent your machine from running out of memory.  The CIFAR-10 dataset consists of 5 batches, named `data_batch_1`, `data_batch_2`, etc.. Each batch contains the labels and images that are one of the following:\n",
    "* airplane\n",
    "* automobile\n",
    "* bird\n",
    "* cat\n",
    "* deer\n",
    "* dog\n",
    "* frog\n",
    "* horse\n",
    "* ship\n",
    "* truck\n",
    "\n",
    "Understanding a dataset is part of making predictions on the data.  Play around with the code cell below by changing the `batch_id` and `sample_id`. The `batch_id` is the id for a batch (1-5). The `sample_id` is the id for a image and label pair in the batch.\n",
    "\n",
    "Ask yourself \"What are all possible labels?\", \"What is the range of values for the image data?\", \"Are the labels in order or random?\".  Answers to questions like these will help you preprocess the data and end up with better predictions."
   ]
  },
  {
   "cell_type": "code",
   "execution_count": 2,
   "metadata": {},
   "outputs": [
    {
     "name": "stdout",
     "output_type": "stream",
     "text": [
      "\n",
      "Stats of batch 1:\n",
      "Samples: 10000\n",
      "Label Counts: {0: 1005, 1: 974, 2: 1032, 3: 1016, 4: 999, 5: 937, 6: 1030, 7: 1001, 8: 1025, 9: 981}\n",
      "First 20 Labels: [6, 9, 9, 4, 1, 1, 2, 7, 8, 3, 4, 7, 7, 2, 9, 9, 9, 3, 2, 6]\n",
      "\n",
      "Example of Image 5:\n",
      "Image - Min Value: 0 Max Value: 252\n",
      "Image - Shape: (32, 32, 3)\n",
      "Label - Label Id: 1 Name: automobile\n"
     ]
    },
    {
     "data": {
      "image/png": "[encoded data removed]",
      "text/plain": [
       "<matplotlib.figure.Figure at 0x7f263f115e10>"
      ]
     },
     "metadata": {
      "image/png": {
       "height": 250,
       "width": 253
      }
     },
     "output_type": "display_data"
    }
   ],
   "source": [
    "%matplotlib inline\n",
    "%config InlineBackend.figure_format = 'retina'\n",
    "\n",
    "import helper\n",
    "import numpy as np\n",
    "\n",
    "# Explore the dataset\n",
    "batch_id = 1\n",
    "sample_id = 5\n",
    "helper.display_stats(cifar10_dataset_folder_path, batch_id, sample_id)"
   ]
  },
  {
   "cell_type": "markdown",
   "metadata": {},
   "source": [
    "## Implement Preprocess Functions\n",
    "### Normalize\n",
    "In the cell below, implement the `normalize` function to take in image data, `x`, and return it as a normalized Numpy array. The values should be in the range of 0 to 1, inclusive.  The return object should be the same shape as `x`."
   ]
  },
  {
   "cell_type": "code",
   "execution_count": 3,
   "metadata": {},
   "outputs": [
    {
     "name": "stdout",
     "output_type": "stream",
     "text": [
      "Tests Passed\n"
     ]
    }
   ],
   "source": [
    "def normalize(x):\n",
    "    \"\"\"\n",
    "    Normalize a list of sample image data in the range of 0 to 1\n",
    "    : x: List of image data.  The image shape is (32, 32, 3)\n",
    "    : return: Numpy array of normalize data\n",
    "    \"\"\"\n",
    "    return x/256\n",
    "\n",
    "\n",
    "\"\"\"\n",
    "DON'T MODIFY ANYTHING IN THIS CELL THAT IS BELOW THIS LINE\n",
    "\"\"\"\n",
    "tests.test_normalize(normalize)"
   ]
  },
  {
   "cell_type": "markdown",
   "metadata": {},
   "source": [
    "### One-hot encode\n",
    "Just like the previous code cell, you'll be implementing a function for preprocessing.  This time, you'll implement the `one_hot_encode` function. The input, `x`, are a list of labels.  Implement the function to return the list of labels as One-Hot encoded Numpy array.  The possible values for labels are 0 to 9. The one-hot encoding function should return the same encoding for each value between each call to `one_hot_encode`.  Make sure to save the map of encodings outside the function.\n",
    "\n",
    "Hint: Don't reinvent the wheel."
   ]
  },
  {
   "cell_type": "code",
   "execution_count": 5,
   "metadata": {},
   "outputs": [
    {
     "name": "stdout",
     "output_type": "stream",
     "text": [
      "Tests Passed\n"
     ]
    }
   ],
   "source": [
    "def one_hot_encode(x):\n",
    "    \"\"\"\n",
    "    One hot encode a list of sample labels. Return a one-hot encoded vector for each label.\n",
    "    : x: List of sample Labels\n",
    "    : return: Numpy array of one-hot encoded labels\n",
    "    \"\"\"\n",
    "    ohe = np.eye(10, dtype=int)\n",
    "    return ohe[x[:]]\n",
    "\n",
    "\"\"\"\n",
    "DON'T MODIFY ANYTHING IN THIS CELL THAT IS BELOW THIS LINE\n",
    "\"\"\"\n",
    "tests.test_one_hot_encode(one_hot_encode)"
   ]
  },
  {
   "cell_type": "markdown",
   "metadata": {},
   "source": [
    "### Randomize Data\n",
    "As you saw from exploring the data above, the order of the samples are randomized.  It doesn't hurt to randomize it again, but you don't need to for this dataset."
   ]
  },
  {
   "cell_type": "markdown",
   "metadata": {},
   "source": [
    "## Preprocess all the data and save it\n",
    "Running the code cell below will preprocess all the CIFAR-10 data and save it to file. The code below also uses 10% of the training data for validation."
   ]
  },
  {
   "cell_type": "code",
   "execution_count": 6,
   "metadata": {
    "collapsed": true
   },
   "outputs": [],
   "source": [
    "\"\"\"\n",
    "DON'T MODIFY ANYTHING IN THIS CELL\n",
    "\"\"\"\n",
    "# Preprocess Training, Validation, and Testing Data\n",
    "helper.preprocess_and_save_data(cifar10_dataset_folder_path, normalize, one_hot_encode)"
   ]
  },
  {
   "cell_type": "markdown",
   "metadata": {},
   "source": [
    "# Check Point\n",
    "This is your first checkpoint.  If you ever decide to come back to this notebook or have to restart the notebook, you can start from here.  The preprocessed data has been saved to disk."
   ]
  },
  {
   "cell_type": "code",
   "execution_count": 7,
   "metadata": {
    "collapsed": true
   },
   "outputs": [],
   "source": [
    "\"\"\"\n",
    "DON'T MODIFY ANYTHING IN THIS CELL\n",
    "\"\"\"\n",
    "import pickle\n",
    "import problem_unittests as tests\n",
    "import helper\n",
    "\n",
    "# Load the Preprocessed Validation data\n",
    "valid_features, valid_labels = pickle.load(open('preprocess_validation.p', mode='rb'))"
   ]
  },
  {
   "cell_type": "markdown",
   "metadata": {},
   "source": [
    "## Build the network\n",
    "For the neural network, you'll build each layer into a function.  Most of the code you've seen has been outside of functions. To test your code more thoroughly, we require that you put each layer in a function.  This allows us to give you better feedback and test for simple mistakes using our unittests before you submit your project.\n",
    "\n",
    ">**Note:** If you're finding it hard to dedicate enough time for this course each week, we've provided a small shortcut to this part of the project. In the next couple of problems, you'll have the option to use classes from the [TensorFlow Layers](https://www.tensorflow.org/api_docs/python/tf/layers) or [TensorFlow Layers (contrib)](https://www.tensorflow.org/api_guides/python/contrib.layers) packages to build each layer, except the layers you build in the \"Convolutional and Max Pooling Layer\" section.  TF Layers is similar to Keras's and TFLearn's abstraction to layers, so it's easy to pickup.\n",
    "\n",
    ">However, if you would like to get the most out of this course, try to solve all the problems _without_ using anything from the TF Layers packages. You **can** still use classes from other packages that happen to have the same name as ones you find in TF Layers! For example, instead of using the TF Layers version of the `conv2d` class, [tf.layers.conv2d](https://www.tensorflow.org/api_docs/python/tf/layers/conv2d), you would want to use the TF Neural Network version of `conv2d`, [tf.nn.conv2d](https://www.tensorflow.org/api_docs/python/tf/nn/conv2d). \n",
    "\n",
    "Let's begin!\n",
    "\n",
    "### Input\n",
    "The neural network needs to read the image data, one-hot encoded labels, and dropout keep probability. Implement the following functions\n",
    "* Implement `neural_net_image_input`\n",
    " * Return a [TF Placeholder](https://www.tensorflow.org/api_docs/python/tf/placeholder)\n",
    " * Set the shape using `image_shape` with batch size set to `None`.\n",
    " * Name the TensorFlow placeholder \"x\" using the TensorFlow `name` parameter in the [TF Placeholder](https://www.tensorflow.org/api_docs/python/tf/placeholder).\n",
    "* Implement `neural_net_label_input`\n",
    " * Return a [TF Placeholder](https://www.tensorflow.org/api_docs/python/tf/placeholder)\n",
    " * Set the shape using `n_classes` with batch size set to `None`.\n",
    " * Name the TensorFlow placeholder \"y\" using the TensorFlow `name` parameter in the [TF Placeholder](https://www.tensorflow.org/api_docs/python/tf/placeholder).\n",
    "* Implement `neural_net_keep_prob_input`\n",
    " * Return a [TF Placeholder](https://www.tensorflow.org/api_docs/python/tf/placeholder) for dropout keep probability.\n",
    " * Name the TensorFlow placeholder \"keep_prob\" using the TensorFlow `name` parameter in the [TF Placeholder](https://www.tensorflow.org/api_docs/python/tf/placeholder).\n",
    "\n",
    "These names will be used at the end of the project to load your saved model.\n",
    "\n",
    "Note: `None` for shapes in TensorFlow allow for a dynamic size."
   ]
  },
  {
   "cell_type": "code",
   "execution_count": 8,
   "metadata": {},
   "outputs": [
    {
     "name": "stdout",
     "output_type": "stream",
     "text": [
      "Image Input Tests Passed.\n",
      "Label Input Tests Passed.\n",
      "Keep Prob Tests Passed.\n",
      "3\n"
     ]
    }
   ],
   "source": [
    "import tensorflow as tf\n",
    "\n",
    "def neural_net_image_input(image_shape):\n",
    "    \"\"\"\n",
    "    Return a Tensor for a batch of image input\n",
    "    : image_shape: Shape of the images\n",
    "    : return: Tensor for image input.\n",
    "    \"\"\"\n",
    "    return tf.placeholder(tf.float32, shape=[None, image_shape[0], image_shape[1], image_shape[2]], name='x')\n",
    "\n",
    "\n",
    "def neural_net_label_input(n_classes):\n",
    "    \"\"\"\n",
    "    Return a Tensor for a batch of label input\n",
    "    : n_classes: Number of classes\n",
    "    : return: Tensor for label input.\n",
    "    \"\"\"\n",
    "    return tf.placeholder(tf.float32, shape=[None, n_classes], name='y')\n",
    "\n",
    "\n",
    "def neural_net_keep_prob_input():\n",
    "    \"\"\"\n",
    "    Return a Tensor for keep probability\n",
    "    : return: Tensor for keep probability.\n",
    "    \"\"\"\n",
    "    return tf.placeholder(tf.float32, name='keep_prob')\n",
    "\n",
    "\n",
    "\"\"\"\n",
    "DON'T MODIFY ANYTHING IN THIS CELL THAT IS BELOW THIS LINE\n",
    "\"\"\"\n",
    "tf.reset_default_graph()\n",
    "tests.test_nn_image_inputs(neural_net_image_input)\n",
    "tests.test_nn_label_inputs(neural_net_label_input)\n",
    "tests.test_nn_keep_prob_inputs(neural_net_keep_prob_input)\n",
    "\n",
    "print (neural_net_image_input([5,5,3]).shape[3])"
   ]
  },
  {
   "cell_type": "markdown",
   "metadata": {},
   "source": [
    "### Convolution and Max Pooling Layer\n",
    "Convolution layers have a lot of success with images. For this code cell, you should implement the function `conv2d_maxpool` to apply convolution then max pooling:\n",
    "* Create the weight and bias using `conv_ksize`, `conv_num_outputs` and the shape of `x_tensor`.\n",
    "* Apply a convolution to `x_tensor` using weight and `conv_strides`.\n",
    " * We recommend you use same padding, but you're welcome to use any padding.\n",
    "* Add bias\n",
    "* Add a nonlinear activation to the convolution.\n",
    "* Apply Max Pooling using `pool_ksize` and `pool_strides`.\n",
    " * We recommend you use same padding, but you're welcome to use any padding.\n",
    "\n",
    "**Note:** You **can't** use [TensorFlow Layers](https://www.tensorflow.org/api_docs/python/tf/layers) or [TensorFlow Layers (contrib)](https://www.tensorflow.org/api_guides/python/contrib.layers) for **this** layer, but you can still use TensorFlow's [Neural Network](https://www.tensorflow.org/api_docs/python/tf/nn) package. You may still use the shortcut option for all the **other** layers."
   ]
  },
  {
   "cell_type": "code",
   "execution_count": 9,
   "metadata": {},
   "outputs": [
    {
     "name": "stdout",
     "output_type": "stream",
     "text": [
      "Tests Passed\n"
     ]
    }
   ],
   "source": [
    "import math\n",
    "def conv2d_maxpool(x_tensor, conv_num_outputs, conv_ksize, conv_strides, pool_ksize, pool_strides):\n",
    "    \"\"\"\n",
    "    Apply convolution then max pooling to x_tensor\n",
    "    :param x_tensor: TensorFlow Tensor\n",
    "    :param conv_num_outputs: Number of outputs for the convolutional layer\n",
    "    :param conv_ksize: kernal size 2-D Tuple for the convolutional layer\n",
    "    :param conv_strides: Stride 2-D Tuple for convolution\n",
    "    :param pool_ksize: kernal size 2-D Tuple for pool\n",
    "    :param pool_strides: Stride 2-D Tuple for pool\n",
    "    : return: A tensor that represents convolution and max pooling of x_tensor\n",
    "    \"\"\"\n",
    "    weight = tf.Variable(tf.truncated_normal([*conv_ksize, int(x_tensor.shape[3]), conv_num_outputs], stddev=1.0 / math.sqrt(float(int(x_tensor.shape[3])))))\n",
    "    bias = tf.Variable(tf.truncated_normal([conv_num_outputs]))\n",
    "    x = tf.nn.conv2d(x_tensor, weight, strides = [1, *conv_strides, 1], padding='SAME')\n",
    "    x = tf.nn.relu(tf.nn.bias_add(x, bias))\n",
    "    return tf.nn.max_pool(x, [1, *pool_ksize, 1], [1, *pool_strides, 1], padding='SAME')\n",
    "    \n",
    "     \n",
    "\n",
    "\n",
    "\"\"\"\n",
    "DON'T MODIFY ANYTHING IN THIS CELL THAT IS BELOW THIS LINE\n",
    "\"\"\"\n",
    "tests.test_con_pool(conv2d_maxpool)"
   ]
  },
  {
   "cell_type": "markdown",
   "metadata": {},
   "source": [
    "### Flatten Layer\n",
    "Implement the `flatten` function to change the dimension of `x_tensor` from a 4-D tensor to a 2-D tensor.  The output should be the shape (*Batch Size*, *Flattened Image Size*). Shortcut option: you can use classes from the [TensorFlow Layers](https://www.tensorflow.org/api_docs/python/tf/layers) or [TensorFlow Layers (contrib)](https://www.tensorflow.org/api_guides/python/contrib.layers) packages for this layer. For more of a challenge, only use other TensorFlow packages."
   ]
  },
  {
   "cell_type": "code",
   "execution_count": 10,
   "metadata": {},
   "outputs": [
    {
     "name": "stdout",
     "output_type": "stream",
     "text": [
      "Tests Passed\n"
     ]
    }
   ],
   "source": [
    "def flatten(x_tensor):\n",
    "    \"\"\"\n",
    "    Flatten x_tensor to (Batch Size, Flattened Image Size)\n",
    "    : x_tensor: A tensor of size (Batch Size, ...), where ... are the image dimensions.\n",
    "    : return: A tensor of size (Batch Size, Flattened Image Size).\n",
    "    \"\"\"\n",
    "    return tf.contrib.layers.flatten(x_tensor)\n",
    "\n",
    "\n",
    "\"\"\"\n",
    "DON'T MODIFY ANYTHING IN THIS CELL THAT IS BELOW THIS LINE\n",
    "\"\"\"\n",
    "tests.test_flatten(flatten)"
   ]
  },
  {
   "cell_type": "markdown",
   "metadata": {},
   "source": [
    "### Fully-Connected Layer\n",
    "Implement the `fully_conn` function to apply a fully connected layer to `x_tensor` with the shape (*Batch Size*, *num_outputs*). Shortcut option: you can use classes from the [TensorFlow Layers](https://www.tensorflow.org/api_docs/python/tf/layers) or [TensorFlow Layers (contrib)](https://www.tensorflow.org/api_guides/python/contrib.layers) packages for this layer. For more of a challenge, only use other TensorFlow packages."
   ]
  },
  {
   "cell_type": "code",
   "execution_count": 11,
   "metadata": {},
   "outputs": [
    {
     "name": "stdout",
     "output_type": "stream",
     "text": [
      "Tests Passed\n"
     ]
    }
   ],
   "source": [
    "def fully_conn(x_tensor, num_outputs):\n",
    "    \"\"\"\n",
    "    Apply a fully connected layer to x_tensor using weight and bias\n",
    "    : x_tensor: A 2-D tensor where the first dimension is batch size.\n",
    "    : num_outputs: The number of output that the new tensor should be.\n",
    "    : return: A 2-D tensor where the second dimension is num_outputs.\n",
    "    \"\"\"\n",
    "    # TODO: Implement Function\n",
    "    weight = tf.Variable(tf.truncated_normal([int(x_tensor.shape[1]), num_outputs],\n",
    "                         stddev=1.0 / math.sqrt(float(int(x_tensor.shape[1])))))\n",
    "    bias = tf.Variable(tf.truncated_normal([num_outputs]))\n",
    "\n",
    "    return tf.add(tf.matmul(x_tensor, weight), bias)\n",
    "\n",
    "\n",
    "\"\"\"\n",
    "DON'T MODIFY ANYTHING IN THIS CELL THAT IS BELOW THIS LINE\n",
    "\"\"\"\n",
    "tests.test_fully_conn(fully_conn)"
   ]
  },
  {
   "cell_type": "markdown",
   "metadata": {},
   "source": [
    "### Output Layer\n",
    "Implement the `output` function to apply a fully connected layer to `x_tensor` with the shape (*Batch Size*, *num_outputs*). Shortcut option: you can use classes from the [TensorFlow Layers](https://www.tensorflow.org/api_docs/python/tf/layers) or [TensorFlow Layers (contrib)](https://www.tensorflow.org/api_guides/python/contrib.layers) packages for this layer. For more of a challenge, only use other TensorFlow packages.\n",
    "\n",
    "**Note:** Activation, softmax, or cross entropy should **not** be applied to this."
   ]
  },
  {
   "cell_type": "code",
   "execution_count": 12,
   "metadata": {},
   "outputs": [
    {
     "name": "stdout",
     "output_type": "stream",
     "text": [
      "Tests Passed\n"
     ]
    }
   ],
   "source": [
    "def output(x_tensor, num_outputs):\n",
    "    \"\"\"\n",
    "    Apply a output layer to x_tensor using weight and bias\n",
    "    : x_tensor: A 2-D tensor where the first dimension is batch size.\n",
    "    : num_outputs: The number of output that the new tensor should be.\n",
    "    : return: A 2-D tensor where the second dimension is num_outputs.\n",
    "    \"\"\"\n",
    "    # TODO: Implement Function\n",
    "    return fully_conn(x_tensor, num_outputs)\n",
    "\n",
    "\n",
    "\"\"\"\n",
    "DON'T MODIFY ANYTHING IN THIS CELL THAT IS BELOW THIS LINE\n",
    "\"\"\"\n",
    "tests.test_output(output)"
   ]
  },
  {
   "cell_type": "markdown",
   "metadata": {},
   "source": [
    "### Create Convolutional Model\n",
    "Implement the function `conv_net` to create a convolutional neural network model. The function takes in a batch of images, `x`, and outputs logits.  Use the layers you created above to create this model:\n",
    "\n",
    "* Apply 1, 2, or 3 Convolution and Max Pool layers\n",
    "* Apply a Flatten Layer\n",
    "* Apply 1, 2, or 3 Fully Connected Layers\n",
    "* Apply an Output Layer\n",
    "* Return the output\n",
    "* Apply [TensorFlow's Dropout](https://www.tensorflow.org/api_docs/python/tf/nn/dropout) to one or more layers in the model using `keep_prob`. "
   ]
  },
  {
   "cell_type": "code",
   "execution_count": 26,
   "metadata": {},
   "outputs": [
    {
     "name": "stdout",
     "output_type": "stream",
     "text": [
      "Neural Network Built!\n"
     ]
    }
   ],
   "source": [
    "def conv_net(x, keep_prob):\n",
    "    \"\"\"\n",
    "    Create a convolutional neural network model\n",
    "    : x: Placeholder tensor that holds image data.\n",
    "    : keep_prob: Placeholder tensor that hold dropout keep probability.\n",
    "    : return: Tensor that represents logits\n",
    "    \"\"\"\n",
    "    # TODO: Apply 1, 2, or 3 Convolution and Max Pool layers\n",
    "    #    Play around with different number of outputs, kernel size and stride\n",
    "   \n",
    "    # Function Definition from Above:\n",
    "    #    conv2d_maxpool(x_tensor, conv_num_outputs, conv_ksize, conv_strides, pool_ksize, pool_strides)\n",
    "    \n",
    "    # first layer of convolution/max pool\n",
    "    x_tensor = conv2d_maxpool(x, 100, (3, 3), (1,1), (2,2), (2,2))\n",
    "    \n",
    "    # second layer of convolution/max pool\n",
    "    x_tensor = conv2d_maxpool(x_tensor, 200, (3, 3), (1,1), (2,2), (2,2))\n",
    "    \n",
    "    # 3rd conv/max pool layer\n",
    "    x_tensor = conv2d_maxpool(x_tensor, 300, (3, 3), (1,1), (2,2), (1,1))\n",
    "\n",
    "    # Apply a Flatten Layer\n",
    "    x_tensor = flatten(x_tensor)\n",
    "    \n",
    "\n",
    "    # Apply 1, 2, or 3 Fully Connected Layers\n",
    "    # Play around with different number of outputs\n",
    "    \n",
    "    num_outputs = 10\n",
    "    # FC1\n",
    "    x_tensor = fully_conn(x_tensor, 5*num_outputs)\n",
    "    # FC2\n",
    "    x_tensor = fully_conn(x_tensor, 3*num_outputs)\n",
    "    \n",
    "    # Apply an Output Layer\n",
    "    x_tensor = output(x_tensor, num_outputs)\n",
    "    \n",
    "    \n",
    "    # TODO: return output\n",
    "    return x_tensor\n",
    "\n",
    "\n",
    "\"\"\"\n",
    "DON'T MODIFY ANYTHING IN THIS CELL THAT IS BELOW THIS LINE\n",
    "\"\"\"\n",
    "\n",
    "##############################\n",
    "## Build the Neural Network ##\n",
    "##############################\n",
    "\n",
    "# Remove previous weights, bias, inputs, etc..\n",
    "tf.reset_default_graph()\n",
    "\n",
    "# Inputs\n",
    "x = neural_net_image_input((32, 32, 3))\n",
    "y = neural_net_label_input(10)\n",
    "keep_prob = neural_net_keep_prob_input()\n",
    "\n",
    "# Model\n",
    "logits = conv_net(x, keep_prob)\n",
    "\n",
    "# Name logits Tensor, so that is can be loaded from disk after training\n",
    "logits = tf.identity(logits, name='logits')\n",
    "\n",
    "# Loss and Optimizer\n",
    "cost = tf.reduce_mean(tf.nn.softmax_cross_entropy_with_logits(logits=logits, labels=y))\n",
    "optimizer = tf.train.AdamOptimizer().minimize(cost)\n",
    "\n",
    "# Accuracy\n",
    "correct_pred = tf.equal(tf.argmax(logits, 1), tf.argmax(y, 1))\n",
    "accuracy = tf.reduce_mean(tf.cast(correct_pred, tf.float32), name='accuracy')\n",
    "\n",
    "tests.test_conv_net(conv_net)"
   ]
  },
  {
   "cell_type": "markdown",
   "metadata": {},
   "source": [
    "## Train the Neural Network\n",
    "### Single Optimization\n",
    "Implement the function `train_neural_network` to do a single optimization.  The optimization should use `optimizer` to optimize in `session` with a `feed_dict` of the following:\n",
    "* `x` for image input\n",
    "* `y` for labels\n",
    "* `keep_prob` for keep probability for dropout\n",
    "\n",
    "This function will be called for each batch, so `tf.global_variables_initializer()` has already been called.\n",
    "\n",
    "Note: Nothing needs to be returned. This function is only optimizing the neural network."
   ]
  },
  {
   "cell_type": "code",
   "execution_count": 27,
   "metadata": {},
   "outputs": [
    {
     "name": "stdout",
     "output_type": "stream",
     "text": [
      "Tests Passed\n"
     ]
    }
   ],
   "source": [
    "def train_neural_network(session, optimizer, keep_probability, feature_batch, label_batch):\n",
    "    \"\"\"\n",
    "    Optimize the session on a batch of images and labels\n",
    "    : session: Current TensorFlow session\n",
    "    : optimizer: TensorFlow optimizer function\n",
    "    : keep_probability: keep probability\n",
    "    : feature_batch: Batch of Numpy image data\n",
    "    : label_batch: Batch of Numpy label data\n",
    "    \"\"\"\n",
    "    session.run(optimizer, feed_dict={x: feature_batch, y: label_batch,\n",
    "                                       neural_net_keep_prob_input(): keep_probability})\n",
    "\n",
    "\n",
    "\"\"\"\n",
    "DON'T MODIFY ANYTHING IN THIS CELL THAT IS BELOW THIS LINE\n",
    "\"\"\"\n",
    "tests.test_train_nn(train_neural_network)"
   ]
  },
  {
   "cell_type": "markdown",
   "metadata": {},
   "source": [
    "### Show Stats\n",
    "Implement the function `print_stats` to print loss and validation accuracy.  Use the global variables `valid_features` and `valid_labels` to calculate validation accuracy.  Use a keep probability of `1.0` to calculate the loss and validation accuracy."
   ]
  },
  {
   "cell_type": "code",
   "execution_count": 39,
   "metadata": {},
   "outputs": [],
   "source": [
    "def print_stats(session, feature_batch, label_batch, cost, accuracy):\n",
    "    \"\"\"\n",
    "    Print information about loss and validation accuracy\n",
    "    : session: Current TensorFlow session\n",
    "    : feature_batch: Batch of Numpy image data\n",
    "    : label_batch: Batch of Numpy label data\n",
    "    : cost: TensorFlow cost function\n",
    "    : accuracy: TensorFlow accuracy function\n",
    "    \"\"\"\n",
    "    cost = session.run(cost, feed_dict={x: feature_batch, y: label_batch, neural_net_keep_prob_input(): 1.})\n",
    "    accuracy = session.run(accuracy, feed_dict={x: valid_features, y: valid_labels, neural_net_keep_prob_input():1.})\n",
    "    \n",
    "    print(\"cost: {cost}, accuracy: {accuracy}\".format(cost=cost, accuracy=accuracy))\n",
    "    return cost, accuracy"
   ]
  },
  {
   "cell_type": "markdown",
   "metadata": {},
   "source": [
    "### Hyperparameters\n",
    "Tune the following parameters:\n",
    "* Set `epochs` to the number of iterations until the network stops learning or start overfitting\n",
    "* Set `batch_size` to the highest number that your machine has memory for.  Most people set them to common sizes of memory:\n",
    " * 64\n",
    " * 128\n",
    " * 256\n",
    " * ...\n",
    "* Set `keep_probability` to the probability of keeping a node using dropout"
   ]
  },
  {
   "cell_type": "code",
   "execution_count": 40,
   "metadata": {
    "collapsed": true
   },
   "outputs": [],
   "source": [
    "# TODO: Tune Parameters\n",
    "epochs = 80\n",
    "batch_size = 512\n",
    "keep_probability = 0.8"
   ]
  },
  {
   "cell_type": "markdown",
   "metadata": {},
   "source": [
    "### Train on a Single CIFAR-10 Batch\n",
    "Instead of training the neural network on all the CIFAR-10 batches of data, let's use a single batch. This should save time while you iterate on the model to get a better accuracy.  Once the final validation accuracy is 50% or greater, run the model on all the data in the next section."
   ]
  },
  {
   "cell_type": "code",
   "execution_count": 30,
   "metadata": {},
   "outputs": [
    {
     "name": "stdout",
     "output_type": "stream",
     "text": [
      "Checking the Training on a Single Batch...\n",
      "Epoch  1, CIFAR-10 Batch 1:  cost: 2.281593084335327, accuracy: 0.147599995136261\n",
      "Epoch  2, CIFAR-10 Batch 1:  cost: 1.9448848962783813, accuracy: 0.3269999921321869\n",
      "Epoch  3, CIFAR-10 Batch 1:  cost: 1.8008241653442383, accuracy: 0.37959998846054077\n",
      "Epoch  4, CIFAR-10 Batch 1:  cost: 1.634028434753418, accuracy: 0.44279998540878296\n",
      "Epoch  5, CIFAR-10 Batch 1:  cost: 1.6579817533493042, accuracy: 0.39800000190734863\n",
      "Epoch  6, CIFAR-10 Batch 1:  cost: 1.4473850727081299, accuracy: 0.47699999809265137\n",
      "Epoch  7, CIFAR-10 Batch 1:  cost: 1.4237241744995117, accuracy: 0.47940000891685486\n",
      "Epoch  8, CIFAR-10 Batch 1:  cost: 1.3344364166259766, accuracy: 0.4968000054359436\n",
      "Epoch  9, CIFAR-10 Batch 1:  cost: 1.3118317127227783, accuracy: 0.4991999864578247\n",
      "Epoch 10, CIFAR-10 Batch 1:  cost: 1.2636393308639526, accuracy: 0.5005999803543091\n",
      "Epoch 11, CIFAR-10 Batch 1:  cost: 1.1915481090545654, accuracy: 0.504800021648407\n",
      "Epoch 12, CIFAR-10 Batch 1:  cost: 1.1279118061065674, accuracy: 0.5152000188827515\n",
      "Epoch 13, CIFAR-10 Batch 1:  cost: 1.071527361869812, accuracy: 0.5248000025749207\n",
      "Epoch 14, CIFAR-10 Batch 1:  cost: 1.0207732915878296, accuracy: 0.532800018787384\n",
      "Epoch 15, CIFAR-10 Batch 1:  cost: 1.0004565715789795, accuracy: 0.5235999822616577\n",
      "Epoch 16, CIFAR-10 Batch 1:  cost: 0.9652717113494873, accuracy: 0.5266000032424927\n",
      "Epoch 17, CIFAR-10 Batch 1:  cost: 0.9683035612106323, accuracy: 0.5123999714851379\n",
      "Epoch 18, CIFAR-10 Batch 1:  cost: 0.9009430408477783, accuracy: 0.5332000255584717\n",
      "Epoch 19, CIFAR-10 Batch 1:  cost: 0.7957995533943176, accuracy: 0.555400013923645\n",
      "Epoch 20, CIFAR-10 Batch 1:  cost: 0.8131915330886841, accuracy: 0.5482000112533569\n",
      "Epoch 21, CIFAR-10 Batch 1:  cost: 0.8161516189575195, accuracy: 0.5523999929428101\n",
      "Epoch 22, CIFAR-10 Batch 1:  cost: 0.7449731826782227, accuracy: 0.5616000294685364\n",
      "Epoch 23, CIFAR-10 Batch 1:  cost: 0.6945177316665649, accuracy: 0.5608000159263611\n",
      "Epoch 24, CIFAR-10 Batch 1:  cost: 0.7014843821525574, accuracy: 0.5422000288963318\n",
      "Epoch 25, CIFAR-10 Batch 1:  cost: 0.6756377220153809, accuracy: 0.5393999814987183\n",
      "Epoch 26, CIFAR-10 Batch 1:  cost: 0.6497581005096436, accuracy: 0.5636000037193298\n",
      "Epoch 27, CIFAR-10 Batch 1:  cost: 0.7189838290214539, accuracy: 0.5347999930381775\n",
      "Epoch 28, CIFAR-10 Batch 1:  cost: 0.5666255354881287, accuracy: 0.576200008392334\n",
      "Epoch 29, CIFAR-10 Batch 1:  cost: 0.5374329090118408, accuracy: 0.5717999935150146\n",
      "Epoch 30, CIFAR-10 Batch 1:  cost: 0.513742983341217, accuracy: 0.5758000016212463\n",
      "Epoch 31, CIFAR-10 Batch 1:  cost: 0.47603896260261536, accuracy: 0.5774000287055969\n",
      "Epoch 32, CIFAR-10 Batch 1:  cost: 0.4445383846759796, accuracy: 0.5735999941825867\n",
      "Epoch 33, CIFAR-10 Batch 1:  cost: 0.42375653982162476, accuracy: 0.5785999894142151\n",
      "Epoch 34, CIFAR-10 Batch 1:  cost: 0.47497037053108215, accuracy: 0.5651999711990356\n",
      "Epoch 35, CIFAR-10 Batch 1:  cost: 0.425255686044693, accuracy: 0.5726000070571899\n",
      "Epoch 36, CIFAR-10 Batch 1:  cost: 0.4235216975212097, accuracy: 0.5794000029563904\n",
      "Epoch 37, CIFAR-10 Batch 1:  cost: 0.4944181740283966, accuracy: 0.545199990272522\n",
      "Epoch 38, CIFAR-10 Batch 1:  cost: 0.42728424072265625, accuracy: 0.5658000111579895\n",
      "Epoch 39, CIFAR-10 Batch 1:  cost: 0.3945833146572113, accuracy: 0.5685999989509583\n",
      "Epoch 40, CIFAR-10 Batch 1:  cost: 0.3779694736003876, accuracy: 0.569599986076355\n",
      "Epoch 41, CIFAR-10 Batch 1:  cost: 0.41173774003982544, accuracy: 0.5461999773979187\n",
      "Epoch 42, CIFAR-10 Batch 1:  cost: 0.3051148056983948, accuracy: 0.5784000158309937\n",
      "Epoch 43, CIFAR-10 Batch 1:  cost: 0.30417779088020325, accuracy: 0.5735999941825867\n",
      "Epoch 44, CIFAR-10 Batch 1:  cost: 0.27837666869163513, accuracy: 0.5777999758720398\n",
      "Epoch 45, CIFAR-10 Batch 1:  cost: 0.33008891344070435, accuracy: 0.5591999888420105\n",
      "Epoch 46, CIFAR-10 Batch 1:  cost: 0.24064643681049347, accuracy: 0.574400007724762\n",
      "Epoch 47, CIFAR-10 Batch 1:  cost: 0.2919207513332367, accuracy: 0.5631999969482422\n",
      "Epoch 48, CIFAR-10 Batch 1:  cost: 0.2994677424430847, accuracy: 0.5496000051498413\n",
      "Epoch 49, CIFAR-10 Batch 1:  cost: 0.2726578712463379, accuracy: 0.5425999760627747\n",
      "Epoch 50, CIFAR-10 Batch 1:  cost: 0.2516670823097229, accuracy: 0.5533999800682068\n",
      "Epoch 51, CIFAR-10 Batch 1:  cost: 0.3235601484775543, accuracy: 0.5332000255584717\n",
      "Epoch 52, CIFAR-10 Batch 1:  cost: 0.2934982180595398, accuracy: 0.5637999773025513\n",
      "Epoch 53, CIFAR-10 Batch 1:  cost: 0.2528907060623169, accuracy: 0.5526000261306763\n",
      "Epoch 54, CIFAR-10 Batch 1:  cost: 0.17565663158893585, accuracy: 0.5767999887466431\n",
      "Epoch 55, CIFAR-10 Batch 1:  cost: 0.16862711310386658, accuracy: 0.5763999819755554\n",
      "Epoch 56, CIFAR-10 Batch 1:  cost: 0.1506764143705368, accuracy: 0.5861999988555908\n",
      "Epoch 57, CIFAR-10 Batch 1:  cost: 0.1568847894668579, accuracy: 0.5856000185012817\n",
      "Epoch 58, CIFAR-10 Batch 1:  cost: 0.1378479301929474, accuracy: 0.5911999940872192\n",
      "Epoch 59, CIFAR-10 Batch 1:  cost: 0.17727379500865936, accuracy: 0.5691999793052673\n",
      "Epoch 60, CIFAR-10 Batch 1:  cost: 0.19301165640354156, accuracy: 0.5763999819755554\n",
      "Epoch 61, CIFAR-10 Batch 1:  cost: 0.18691323697566986, accuracy: 0.5716000199317932\n",
      "Epoch 62, CIFAR-10 Batch 1:  cost: 0.14359831809997559, accuracy: 0.579800009727478\n",
      "Epoch 63, CIFAR-10 Batch 1:  cost: 0.1528797745704651, accuracy: 0.5622000098228455\n",
      "Epoch 64, CIFAR-10 Batch 1:  cost: 0.13194558024406433, accuracy: 0.5667999982833862\n",
      "Epoch 65, CIFAR-10 Batch 1:  cost: 0.19527865946292877, accuracy: 0.5442000031471252\n",
      "Epoch 66, CIFAR-10 Batch 1:  cost: 0.1308060735464096, accuracy: 0.5709999799728394\n",
      "Epoch 67, CIFAR-10 Batch 1:  cost: 0.1025465875864029, accuracy: 0.567799985408783\n",
      "Epoch 68, CIFAR-10 Batch 1:  cost: 0.13284814357757568, accuracy: 0.5558000206947327\n",
      "Epoch 69, CIFAR-10 Batch 1:  cost: 0.13553011417388916, accuracy: 0.5622000098228455\n",
      "Epoch 70, CIFAR-10 Batch 1:  cost: 0.1202043816447258, accuracy: 0.5583999752998352\n",
      "Epoch 71, CIFAR-10 Batch 1:  cost: 0.11459760367870331, accuracy: 0.5582000017166138\n",
      "Epoch 72, CIFAR-10 Batch 1:  cost: 0.09118259698152542, accuracy: 0.5672000050544739\n",
      "Epoch 73, CIFAR-10 Batch 1:  cost: 0.060829561203718185, accuracy: 0.5825999975204468\n",
      "Epoch 74, CIFAR-10 Batch 1:  cost: 0.07126478105783463, accuracy: 0.5716000199317932\n",
      "Epoch 75, CIFAR-10 Batch 1:  cost: 0.06348905712366104, accuracy: 0.5641999840736389\n",
      "Epoch 76, CIFAR-10 Batch 1:  cost: 0.11007335036993027, accuracy: 0.5447999835014343\n",
      "Epoch 77, CIFAR-10 Batch 1:  cost: 0.07420055568218231, accuracy: 0.5727999806404114\n",
      "Epoch 78, CIFAR-10 Batch 1:  cost: 0.05834995582699776, accuracy: 0.5631999969482422\n",
      "Epoch 79, CIFAR-10 Batch 1:  cost: 0.05029677599668503, accuracy: 0.553600013256073\n",
      "Epoch 80, CIFAR-10 Batch 1:  cost: 0.0813538208603859, accuracy: 0.5364000201225281\n"
     ]
    }
   ],
   "source": [
    "learning_evolution = []\n",
    "\"\"\"\n",
    "DON'T MODIFY ANYTHING IN THIS CELL\n",
    "\"\"\"\n",
    "print('Checking the Training on a Single Batch...')\n",
    "with tf.Session() as sess:\n",
    "    # Initializing the variables\n",
    "    sess.run(tf.global_variables_initializer())\n",
    "    \n",
    "    # Training cycle\n",
    "    for epoch in range(epochs):\n",
    "        batch_i = 1\n",
    "        for batch_features, batch_labels in helper.load_preprocess_training_batch(batch_i, batch_size):\n",
    "            train_neural_network(sess, optimizer, keep_probability, batch_features, batch_labels)\n",
    "        print('Epoch {:>2}, CIFAR-10 Batch {}:  '.format(epoch + 1, batch_i), end='')\n",
    "        learning_evolution.append(tuple(print_stats(sess, batch_features, batch_labels, cost, accuracy)))"
   ]
  },
  {
   "cell_type": "code",
   "execution_count": 44,
   "metadata": {},
   "outputs": [
    {
     "data": {
      "text/plain": [
       "2.4756937"
      ]
     },
     "execution_count": 44,
     "metadata": {},
     "output_type": "execute_result"
    }
   ],
   "source": [
    "learning_evolution[0][0]"
   ]
  },
  {
   "cell_type": "markdown",
   "metadata": {},
   "source": [
    "### Fully Train the Model\n",
    "Now that you got a good accuracy with a single CIFAR-10 batch, try it with all five batches."
   ]
  },
  {
   "cell_type": "code",
   "execution_count": 42,
   "metadata": {
    "collapsed": true
   },
   "outputs": [],
   "source": [
    "learning_evolution = []"
   ]
  },
  {
   "cell_type": "code",
   "execution_count": 43,
   "metadata": {},
   "outputs": [
    {
     "name": "stdout",
     "output_type": "stream",
     "text": [
      "Training...\n",
      "Epoch  1, CIFAR-10 Batch 1:  cost: 2.475693702697754, accuracy: 0.13819999992847443\n",
      "Epoch  1, CIFAR-10 Batch 2:  cost: 2.005303144454956, accuracy: 0.296999990940094\n",
      "Epoch  1, CIFAR-10 Batch 3:  cost: 1.7192941904067993, accuracy: 0.3192000091075897\n",
      "Epoch  1, CIFAR-10 Batch 4:  cost: 1.6430596113204956, accuracy: 0.39660000801086426\n",
      "Epoch  1, CIFAR-10 Batch 5:  cost: 1.5915411710739136, accuracy: 0.41499999165534973\n",
      "Epoch  2, CIFAR-10 Batch 1:  cost: 1.6168330907821655, accuracy: 0.4498000144958496\n",
      "Epoch  2, CIFAR-10 Batch 2:  cost: 1.5189045667648315, accuracy: 0.43720000982284546\n",
      "Epoch  2, CIFAR-10 Batch 3:  cost: 1.349399209022522, accuracy: 0.44780001044273376\n",
      "Epoch  2, CIFAR-10 Batch 4:  cost: 1.374109148979187, accuracy: 0.47679999470710754\n",
      "Epoch  2, CIFAR-10 Batch 5:  cost: 1.3748234510421753, accuracy: 0.4950000047683716\n",
      "Epoch  3, CIFAR-10 Batch 1:  cost: 1.4850294589996338, accuracy: 0.508400022983551\n",
      "Epoch  3, CIFAR-10 Batch 2:  cost: 1.3402087688446045, accuracy: 0.4934000074863434\n",
      "Epoch  3, CIFAR-10 Batch 3:  cost: 1.193687081336975, accuracy: 0.510200023651123\n",
      "Epoch  3, CIFAR-10 Batch 4:  cost: 1.233062505722046, accuracy: 0.5127999782562256\n",
      "Epoch  3, CIFAR-10 Batch 5:  cost: 1.2778582572937012, accuracy: 0.51419997215271\n",
      "Epoch  4, CIFAR-10 Batch 1:  cost: 1.3764737844467163, accuracy: 0.5415999889373779\n",
      "Epoch  4, CIFAR-10 Batch 2:  cost: 1.2341991662979126, accuracy: 0.5099999904632568\n",
      "Epoch  4, CIFAR-10 Batch 3:  cost: 1.1037615537643433, accuracy: 0.5317999720573425\n",
      "Epoch  4, CIFAR-10 Batch 4:  cost: 1.1284786462783813, accuracy: 0.5419999957084656\n",
      "Epoch  4, CIFAR-10 Batch 5:  cost: 1.2263950109481812, accuracy: 0.52920001745224\n",
      "Epoch  5, CIFAR-10 Batch 1:  cost: 1.2723453044891357, accuracy: 0.5722000002861023\n",
      "Epoch  5, CIFAR-10 Batch 2:  cost: 1.1254795789718628, accuracy: 0.5491999983787537\n",
      "Epoch  5, CIFAR-10 Batch 3:  cost: 1.0270309448242188, accuracy: 0.555400013923645\n",
      "Epoch  5, CIFAR-10 Batch 4:  cost: 1.0726039409637451, accuracy: 0.5645999908447266\n",
      "Epoch  5, CIFAR-10 Batch 5:  cost: 1.1716630458831787, accuracy: 0.553600013256073\n",
      "Epoch  6, CIFAR-10 Batch 1:  cost: 1.1975934505462646, accuracy: 0.5745999813079834\n",
      "Epoch  6, CIFAR-10 Batch 2:  cost: 1.0679433345794678, accuracy: 0.569599986076355\n",
      "Epoch  6, CIFAR-10 Batch 3:  cost: 0.9496903419494629, accuracy: 0.5759999752044678\n",
      "Epoch  6, CIFAR-10 Batch 4:  cost: 0.9924418330192566, accuracy: 0.5702000260353088\n",
      "Epoch  6, CIFAR-10 Batch 5:  cost: 1.1115849018096924, accuracy: 0.5681999921798706\n",
      "Epoch  7, CIFAR-10 Batch 1:  cost: 1.109907865524292, accuracy: 0.5983999967575073\n",
      "Epoch  7, CIFAR-10 Batch 2:  cost: 0.9708505868911743, accuracy: 0.5875999927520752\n",
      "Epoch  7, CIFAR-10 Batch 3:  cost: 0.8853291869163513, accuracy: 0.5857999920845032\n",
      "Epoch  7, CIFAR-10 Batch 4:  cost: 0.9091432094573975, accuracy: 0.59579998254776\n",
      "Epoch  7, CIFAR-10 Batch 5:  cost: 1.0389773845672607, accuracy: 0.5899999737739563\n",
      "Epoch  8, CIFAR-10 Batch 1:  cost: 1.0842167139053345, accuracy: 0.5974000096321106\n",
      "Epoch  8, CIFAR-10 Batch 2:  cost: 0.907906174659729, accuracy: 0.6001999974250793\n",
      "Epoch  8, CIFAR-10 Batch 3:  cost: 0.8309827446937561, accuracy: 0.6018000245094299\n",
      "Epoch  8, CIFAR-10 Batch 4:  cost: 0.8621315360069275, accuracy: 0.6161999702453613\n",
      "Epoch  8, CIFAR-10 Batch 5:  cost: 0.9916322231292725, accuracy: 0.6007999777793884\n",
      "Epoch  9, CIFAR-10 Batch 1:  cost: 1.0358330011367798, accuracy: 0.6021999716758728\n",
      "Epoch  9, CIFAR-10 Batch 2:  cost: 0.8473626971244812, accuracy: 0.6046000123023987\n",
      "Epoch  9, CIFAR-10 Batch 3:  cost: 0.7831617593765259, accuracy: 0.6129999756813049\n",
      "Epoch  9, CIFAR-10 Batch 4:  cost: 0.840544581413269, accuracy: 0.6151999831199646\n",
      "Epoch  9, CIFAR-10 Batch 5:  cost: 0.9495828747749329, accuracy: 0.6079999804496765\n",
      "Epoch 10, CIFAR-10 Batch 1:  cost: 0.9869430065155029, accuracy: 0.6123999953269958\n",
      "Epoch 10, CIFAR-10 Batch 2:  cost: 0.7966948747634888, accuracy: 0.6068000197410583\n",
      "Epoch 10, CIFAR-10 Batch 3:  cost: 0.747542142868042, accuracy: 0.6151999831199646\n",
      "Epoch 10, CIFAR-10 Batch 4:  cost: 0.8251394033432007, accuracy: 0.6100000143051147\n",
      "Epoch 10, CIFAR-10 Batch 5:  cost: 0.9255752563476562, accuracy: 0.6200000047683716\n",
      "Epoch 11, CIFAR-10 Batch 1:  cost: 0.9197391867637634, accuracy: 0.6240000128746033\n",
      "Epoch 11, CIFAR-10 Batch 2:  cost: 0.8012354373931885, accuracy: 0.593999981880188\n",
      "Epoch 11, CIFAR-10 Batch 3:  cost: 0.7196560502052307, accuracy: 0.6208000183105469\n",
      "Epoch 11, CIFAR-10 Batch 4:  cost: 0.8129570484161377, accuracy: 0.6179999709129333\n",
      "Epoch 11, CIFAR-10 Batch 5:  cost: 0.8780449628829956, accuracy: 0.6330000162124634\n",
      "Epoch 12, CIFAR-10 Batch 1:  cost: 0.8992463946342468, accuracy: 0.6380000114440918\n",
      "Epoch 12, CIFAR-10 Batch 2:  cost: 0.7454236745834351, accuracy: 0.6101999878883362\n",
      "Epoch 12, CIFAR-10 Batch 3:  cost: 0.6671885848045349, accuracy: 0.635200023651123\n",
      "Epoch 12, CIFAR-10 Batch 4:  cost: 0.7379902005195618, accuracy: 0.6317999958992004\n",
      "Epoch 12, CIFAR-10 Batch 5:  cost: 0.8307506442070007, accuracy: 0.6394000053405762\n",
      "Epoch 13, CIFAR-10 Batch 1:  cost: 0.8519638776779175, accuracy: 0.6385999917984009\n",
      "Epoch 13, CIFAR-10 Batch 2:  cost: 0.7173038125038147, accuracy: 0.6128000020980835\n",
      "Epoch 13, CIFAR-10 Batch 3:  cost: 0.6362058520317078, accuracy: 0.6340000033378601\n",
      "Epoch 13, CIFAR-10 Batch 4:  cost: 0.715412437915802, accuracy: 0.6359999775886536\n",
      "Epoch 13, CIFAR-10 Batch 5:  cost: 0.7948575615882874, accuracy: 0.6460000276565552\n",
      "Epoch 14, CIFAR-10 Batch 1:  cost: 0.812610387802124, accuracy: 0.6385999917984009\n",
      "Epoch 14, CIFAR-10 Batch 2:  cost: 0.6930625438690186, accuracy: 0.6179999709129333\n",
      "Epoch 14, CIFAR-10 Batch 3:  cost: 0.6209411025047302, accuracy: 0.63919997215271\n",
      "Epoch 14, CIFAR-10 Batch 4:  cost: 0.6995077729225159, accuracy: 0.6376000046730042\n",
      "Epoch 14, CIFAR-10 Batch 5:  cost: 0.7664817571640015, accuracy: 0.647599995136261\n",
      "Epoch 15, CIFAR-10 Batch 1:  cost: 0.7773526310920715, accuracy: 0.6431999802589417\n",
      "Epoch 15, CIFAR-10 Batch 2:  cost: 0.6624188423156738, accuracy: 0.6169999837875366\n",
      "Epoch 15, CIFAR-10 Batch 3:  cost: 0.5952765941619873, accuracy: 0.6353999972343445\n",
      "Epoch 15, CIFAR-10 Batch 4:  cost: 0.6580634713172913, accuracy: 0.645799994468689\n",
      "Epoch 15, CIFAR-10 Batch 5:  cost: 0.7676292657852173, accuracy: 0.6407999992370605\n",
      "Epoch 16, CIFAR-10 Batch 1:  cost: 0.7640344500541687, accuracy: 0.6431999802589417\n",
      "Epoch 16, CIFAR-10 Batch 2:  cost: 0.6203575730323792, accuracy: 0.6291999816894531\n",
      "Epoch 16, CIFAR-10 Batch 3:  cost: 0.6139079928398132, accuracy: 0.6194000244140625\n",
      "Epoch 16, CIFAR-10 Batch 4:  cost: 0.621148407459259, accuracy: 0.6442000269889832\n",
      "Epoch 16, CIFAR-10 Batch 5:  cost: 0.7058966159820557, accuracy: 0.6480000019073486\n",
      "Epoch 17, CIFAR-10 Batch 1:  cost: 0.7367685437202454, accuracy: 0.6538000106811523\n",
      "Epoch 17, CIFAR-10 Batch 2:  cost: 0.6400682330131531, accuracy: 0.6105999946594238\n",
      "Epoch 17, CIFAR-10 Batch 3:  cost: 0.5944570302963257, accuracy: 0.6290000081062317\n",
      "Epoch 17, CIFAR-10 Batch 4:  cost: 0.5969777703285217, accuracy: 0.6407999992370605\n",
      "Epoch 17, CIFAR-10 Batch 5:  cost: 0.6971375942230225, accuracy: 0.6585999727249146\n",
      "Epoch 18, CIFAR-10 Batch 1:  cost: 0.7316324710845947, accuracy: 0.652400016784668\n",
      "Epoch 18, CIFAR-10 Batch 2:  cost: 0.5870266556739807, accuracy: 0.6320000290870667\n",
      "Epoch 18, CIFAR-10 Batch 3:  cost: 0.5639765858650208, accuracy: 0.6424000263214111\n",
      "Epoch 18, CIFAR-10 Batch 4:  cost: 0.625001072883606, accuracy: 0.6416000127792358\n",
      "Epoch 18, CIFAR-10 Batch 5:  cost: 0.708604633808136, accuracy: 0.6549999713897705\n",
      "Epoch 19, CIFAR-10 Batch 1:  cost: 0.6818004250526428, accuracy: 0.6618000268936157\n",
      "Epoch 19, CIFAR-10 Batch 2:  cost: 0.575081467628479, accuracy: 0.618399977684021\n",
      "Epoch 19, CIFAR-10 Batch 3:  cost: 0.5261392593383789, accuracy: 0.6546000242233276\n",
      "Epoch 19, CIFAR-10 Batch 4:  cost: 0.6284601092338562, accuracy: 0.6395999789237976\n",
      "Epoch 19, CIFAR-10 Batch 5:  cost: 0.6522010564804077, accuracy: 0.6636000275611877\n",
      "Epoch 20, CIFAR-10 Batch 1:  cost: 0.6582074761390686, accuracy: 0.6406000256538391\n",
      "Epoch 20, CIFAR-10 Batch 2:  cost: 0.5179197192192078, accuracy: 0.6420000195503235\n",
      "Epoch 20, CIFAR-10 Batch 3:  cost: 0.5007222890853882, accuracy: 0.6517999768257141\n"
     ]
    },
    {
     "name": "stdout",
     "output_type": "stream",
     "text": [
      "Epoch 20, CIFAR-10 Batch 4:  cost: 0.5370316505432129, accuracy: 0.652999997138977\n",
      "Epoch 20, CIFAR-10 Batch 5:  cost: 0.5941632390022278, accuracy: 0.6647999882698059\n",
      "Epoch 21, CIFAR-10 Batch 1:  cost: 0.6122915744781494, accuracy: 0.6543999910354614\n",
      "Epoch 21, CIFAR-10 Batch 2:  cost: 0.5046595931053162, accuracy: 0.6489999890327454\n",
      "Epoch 21, CIFAR-10 Batch 3:  cost: 0.4897255301475525, accuracy: 0.6620000004768372\n",
      "Epoch 21, CIFAR-10 Batch 4:  cost: 0.5073737502098083, accuracy: 0.651199996471405\n",
      "Epoch 21, CIFAR-10 Batch 5:  cost: 0.5694177746772766, accuracy: 0.6668000221252441\n",
      "Epoch 22, CIFAR-10 Batch 1:  cost: 0.570118248462677, accuracy: 0.6657999753952026\n",
      "Epoch 22, CIFAR-10 Batch 2:  cost: 0.45947542786598206, accuracy: 0.6565999984741211\n",
      "Epoch 22, CIFAR-10 Batch 3:  cost: 0.465118408203125, accuracy: 0.6557999849319458\n",
      "Epoch 22, CIFAR-10 Batch 4:  cost: 0.5100520253181458, accuracy: 0.6484000086784363\n",
      "Epoch 22, CIFAR-10 Batch 5:  cost: 0.5312967300415039, accuracy: 0.670799970626831\n",
      "Epoch 23, CIFAR-10 Batch 1:  cost: 0.5430377721786499, accuracy: 0.6679999828338623\n",
      "Epoch 23, CIFAR-10 Batch 2:  cost: 0.4416200816631317, accuracy: 0.6583999991416931\n",
      "Epoch 23, CIFAR-10 Batch 3:  cost: 0.4567417502403259, accuracy: 0.6620000004768372\n",
      "Epoch 23, CIFAR-10 Batch 4:  cost: 0.47695401310920715, accuracy: 0.6561999917030334\n",
      "Epoch 23, CIFAR-10 Batch 5:  cost: 0.5024628639221191, accuracy: 0.6787999868392944\n",
      "Epoch 24, CIFAR-10 Batch 1:  cost: 0.5346269607543945, accuracy: 0.6687999963760376\n",
      "Epoch 24, CIFAR-10 Batch 2:  cost: 0.4031238853931427, accuracy: 0.6736000180244446\n",
      "Epoch 24, CIFAR-10 Batch 3:  cost: 0.41245731711387634, accuracy: 0.6571999788284302\n",
      "Epoch 24, CIFAR-10 Batch 4:  cost: 0.4391723871231079, accuracy: 0.6601999998092651\n",
      "Epoch 24, CIFAR-10 Batch 5:  cost: 0.5123497843742371, accuracy: 0.6697999835014343\n",
      "Epoch 25, CIFAR-10 Batch 1:  cost: 0.550809919834137, accuracy: 0.6741999983787537\n",
      "Epoch 25, CIFAR-10 Batch 2:  cost: 0.44700250029563904, accuracy: 0.6642000079154968\n",
      "Epoch 25, CIFAR-10 Batch 3:  cost: 0.40304023027420044, accuracy: 0.670199990272522\n",
      "Epoch 25, CIFAR-10 Batch 4:  cost: 0.4672822654247284, accuracy: 0.6444000005722046\n",
      "Epoch 25, CIFAR-10 Batch 5:  cost: 0.42715349793434143, accuracy: 0.6654000282287598\n",
      "Epoch 26, CIFAR-10 Batch 1:  cost: 0.5098276138305664, accuracy: 0.670199990272522\n",
      "Epoch 26, CIFAR-10 Batch 2:  cost: 0.3875827193260193, accuracy: 0.6830000281333923\n",
      "Epoch 26, CIFAR-10 Batch 3:  cost: 0.4054099917411804, accuracy: 0.66839998960495\n",
      "Epoch 26, CIFAR-10 Batch 4:  cost: 0.43561965227127075, accuracy: 0.6565999984741211\n",
      "Epoch 26, CIFAR-10 Batch 5:  cost: 0.4705945551395416, accuracy: 0.6438000202178955\n",
      "Epoch 27, CIFAR-10 Batch 1:  cost: 0.49944546818733215, accuracy: 0.6715999841690063\n",
      "Epoch 27, CIFAR-10 Batch 2:  cost: 0.3370450437068939, accuracy: 0.6743999719619751\n",
      "Epoch 27, CIFAR-10 Batch 3:  cost: 0.372170627117157, accuracy: 0.6710000038146973\n",
      "Epoch 27, CIFAR-10 Batch 4:  cost: 0.3986687660217285, accuracy: 0.6669999957084656\n",
      "Epoch 27, CIFAR-10 Batch 5:  cost: 0.4322766065597534, accuracy: 0.6723999977111816\n",
      "Epoch 28, CIFAR-10 Batch 1:  cost: 0.4660579562187195, accuracy: 0.6769999861717224\n",
      "Epoch 28, CIFAR-10 Batch 2:  cost: 0.32768526673316956, accuracy: 0.675000011920929\n",
      "Epoch 28, CIFAR-10 Batch 3:  cost: 0.36166009306907654, accuracy: 0.6705999970436096\n",
      "Epoch 28, CIFAR-10 Batch 4:  cost: 0.36203160881996155, accuracy: 0.671999990940094\n",
      "Epoch 28, CIFAR-10 Batch 5:  cost: 0.3824408948421478, accuracy: 0.6687999963760376\n",
      "Epoch 29, CIFAR-10 Batch 1:  cost: 0.44074487686157227, accuracy: 0.6710000038146973\n",
      "Epoch 29, CIFAR-10 Batch 2:  cost: 0.3307831287384033, accuracy: 0.6570000052452087\n",
      "Epoch 29, CIFAR-10 Batch 3:  cost: 0.36435452103614807, accuracy: 0.6632000207901001\n",
      "Epoch 29, CIFAR-10 Batch 4:  cost: 0.3737924098968506, accuracy: 0.6528000235557556\n",
      "Epoch 29, CIFAR-10 Batch 5:  cost: 0.38001617789268494, accuracy: 0.6651999950408936\n",
      "Epoch 30, CIFAR-10 Batch 1:  cost: 0.4448072612285614, accuracy: 0.6615999937057495\n",
      "Epoch 30, CIFAR-10 Batch 2:  cost: 0.3248283267021179, accuracy: 0.6697999835014343\n",
      "Epoch 30, CIFAR-10 Batch 3:  cost: 0.3067851662635803, accuracy: 0.6674000024795532\n",
      "Epoch 30, CIFAR-10 Batch 4:  cost: 0.3299574553966522, accuracy: 0.6547999978065491\n",
      "Epoch 30, CIFAR-10 Batch 5:  cost: 0.33732908964157104, accuracy: 0.6723999977111816\n",
      "Epoch 31, CIFAR-10 Batch 1:  cost: 0.4010436236858368, accuracy: 0.670199990272522\n",
      "Epoch 31, CIFAR-10 Batch 2:  cost: 0.38637304306030273, accuracy: 0.6496000289916992\n",
      "Epoch 31, CIFAR-10 Batch 3:  cost: 0.34722909331321716, accuracy: 0.6660000085830688\n",
      "Epoch 31, CIFAR-10 Batch 4:  cost: 0.33243513107299805, accuracy: 0.6510000228881836\n",
      "Epoch 31, CIFAR-10 Batch 5:  cost: 0.3206436336040497, accuracy: 0.6693999767303467\n",
      "Epoch 32, CIFAR-10 Batch 1:  cost: 0.3735995888710022, accuracy: 0.6776000261306763\n",
      "Epoch 32, CIFAR-10 Batch 2:  cost: 0.2964365780353546, accuracy: 0.6614000201225281\n",
      "Epoch 32, CIFAR-10 Batch 3:  cost: 0.28339147567749023, accuracy: 0.6621999740600586\n",
      "Epoch 32, CIFAR-10 Batch 4:  cost: 0.35347980260849, accuracy: 0.6341999769210815\n",
      "Epoch 32, CIFAR-10 Batch 5:  cost: 0.2687326967716217, accuracy: 0.6639999747276306\n",
      "Epoch 33, CIFAR-10 Batch 1:  cost: 0.36579111218452454, accuracy: 0.6704000234603882\n",
      "Epoch 33, CIFAR-10 Batch 2:  cost: 0.26396653056144714, accuracy: 0.6704000234603882\n",
      "Epoch 33, CIFAR-10 Batch 3:  cost: 0.2515884339809418, accuracy: 0.6636000275611877\n",
      "Epoch 33, CIFAR-10 Batch 4:  cost: 0.2839743196964264, accuracy: 0.652999997138977\n",
      "Epoch 33, CIFAR-10 Batch 5:  cost: 0.2579510807991028, accuracy: 0.650600016117096\n",
      "Epoch 34, CIFAR-10 Batch 1:  cost: 0.3494832515716553, accuracy: 0.6740000247955322\n",
      "Epoch 34, CIFAR-10 Batch 2:  cost: 0.27732396125793457, accuracy: 0.6583999991416931\n",
      "Epoch 34, CIFAR-10 Batch 3:  cost: 0.2458939403295517, accuracy: 0.6589999794960022\n",
      "Epoch 34, CIFAR-10 Batch 4:  cost: 0.27227509021759033, accuracy: 0.6517999768257141\n",
      "Epoch 34, CIFAR-10 Batch 5:  cost: 0.2981296181678772, accuracy: 0.6425999999046326\n",
      "Epoch 35, CIFAR-10 Batch 1:  cost: 0.3616065979003906, accuracy: 0.6779999732971191\n",
      "Epoch 35, CIFAR-10 Batch 2:  cost: 0.2546674311161041, accuracy: 0.6642000079154968\n",
      "Epoch 35, CIFAR-10 Batch 3:  cost: 0.22472402453422546, accuracy: 0.6618000268936157\n",
      "Epoch 35, CIFAR-10 Batch 4:  cost: 0.238136425614357, accuracy: 0.6546000242233276\n",
      "Epoch 35, CIFAR-10 Batch 5:  cost: 0.2453831285238266, accuracy: 0.6624000072479248\n",
      "Epoch 36, CIFAR-10 Batch 1:  cost: 0.3553471565246582, accuracy: 0.6791999936103821\n",
      "Epoch 36, CIFAR-10 Batch 2:  cost: 0.2316393405199051, accuracy: 0.6697999835014343\n",
      "Epoch 36, CIFAR-10 Batch 3:  cost: 0.2223476767539978, accuracy: 0.6620000004768372\n",
      "Epoch 36, CIFAR-10 Batch 4:  cost: 0.2661375105381012, accuracy: 0.6399999856948853\n",
      "Epoch 36, CIFAR-10 Batch 5:  cost: 0.2451375424861908, accuracy: 0.6606000065803528\n",
      "Epoch 37, CIFAR-10 Batch 1:  cost: 0.3137974739074707, accuracy: 0.6723999977111816\n",
      "Epoch 37, CIFAR-10 Batch 2:  cost: 0.20195308327674866, accuracy: 0.6758000254631042\n",
      "Epoch 37, CIFAR-10 Batch 3:  cost: 0.18528540432453156, accuracy: 0.6758000254631042\n",
      "Epoch 37, CIFAR-10 Batch 4:  cost: 0.2304578274488449, accuracy: 0.6606000065803528\n",
      "Epoch 37, CIFAR-10 Batch 5:  cost: 0.2380390614271164, accuracy: 0.6538000106811523\n",
      "Epoch 38, CIFAR-10 Batch 1:  cost: 0.35847902297973633, accuracy: 0.6547999978065491\n",
      "Epoch 38, CIFAR-10 Batch 2:  cost: 0.20887407660484314, accuracy: 0.6582000255584717\n",
      "Epoch 38, CIFAR-10 Batch 3:  cost: 0.21953769028186798, accuracy: 0.651199996471405\n",
      "Epoch 38, CIFAR-10 Batch 4:  cost: 0.2372974455356598, accuracy: 0.6502000093460083\n",
      "Epoch 38, CIFAR-10 Batch 5:  cost: 0.2270750105381012, accuracy: 0.6474000215530396\n",
      "Epoch 39, CIFAR-10 Batch 1:  cost: 0.31260398030281067, accuracy: 0.6704000234603882\n",
      "Epoch 39, CIFAR-10 Batch 2:  cost: 0.21038933098316193, accuracy: 0.6651999950408936\n",
      "Epoch 39, CIFAR-10 Batch 3:  cost: 0.1846499890089035, accuracy: 0.6546000242233276\n",
      "Epoch 39, CIFAR-10 Batch 4:  cost: 0.17365901172161102, accuracy: 0.6607999801635742\n",
      "Epoch 39, CIFAR-10 Batch 5:  cost: 0.18608848750591278, accuracy: 0.6606000065803528\n",
      "Epoch 40, CIFAR-10 Batch 1:  cost: 0.2581713795661926, accuracy: 0.6593999862670898\n"
     ]
    },
    {
     "name": "stdout",
     "output_type": "stream",
     "text": [
      "Epoch 40, CIFAR-10 Batch 2:  cost: 0.1649663746356964, accuracy: 0.6539999842643738\n",
      "Epoch 40, CIFAR-10 Batch 3:  cost: 0.14825549721717834, accuracy: 0.6654000282287598\n",
      "Epoch 40, CIFAR-10 Batch 4:  cost: 0.1801699697971344, accuracy: 0.656000018119812\n",
      "Epoch 40, CIFAR-10 Batch 5:  cost: 0.16366642713546753, accuracy: 0.6552000045776367\n",
      "Epoch 41, CIFAR-10 Batch 1:  cost: 0.2587513327598572, accuracy: 0.6403999924659729\n",
      "Epoch 41, CIFAR-10 Batch 2:  cost: 0.14385202527046204, accuracy: 0.6567999720573425\n",
      "Epoch 41, CIFAR-10 Batch 3:  cost: 0.1447141170501709, accuracy: 0.6629999876022339\n",
      "Epoch 41, CIFAR-10 Batch 4:  cost: 0.16216227412223816, accuracy: 0.6601999998092651\n",
      "Epoch 41, CIFAR-10 Batch 5:  cost: 0.19557146728038788, accuracy: 0.6345999836921692\n",
      "Epoch 42, CIFAR-10 Batch 1:  cost: 0.2750323414802551, accuracy: 0.6538000106811523\n",
      "Epoch 42, CIFAR-10 Batch 2:  cost: 0.1562134325504303, accuracy: 0.6687999963760376\n",
      "Epoch 42, CIFAR-10 Batch 3:  cost: 0.14588582515716553, accuracy: 0.6769999861717224\n",
      "Epoch 42, CIFAR-10 Batch 4:  cost: 0.11407626420259476, accuracy: 0.6669999957084656\n",
      "Epoch 42, CIFAR-10 Batch 5:  cost: 0.13274164497852325, accuracy: 0.6499999761581421\n",
      "Epoch 43, CIFAR-10 Batch 1:  cost: 0.24580661952495575, accuracy: 0.6597999930381775\n",
      "Epoch 43, CIFAR-10 Batch 2:  cost: 0.1761728823184967, accuracy: 0.6489999890327454\n",
      "Epoch 43, CIFAR-10 Batch 3:  cost: 0.13820864260196686, accuracy: 0.6643999814987183\n",
      "Epoch 43, CIFAR-10 Batch 4:  cost: 0.15702173113822937, accuracy: 0.6632000207901001\n",
      "Epoch 43, CIFAR-10 Batch 5:  cost: 0.1359734833240509, accuracy: 0.6543999910354614\n",
      "Epoch 44, CIFAR-10 Batch 1:  cost: 0.1792217195034027, accuracy: 0.6665999889373779\n",
      "Epoch 44, CIFAR-10 Batch 2:  cost: 0.1572083979845047, accuracy: 0.6521999835968018\n",
      "Epoch 44, CIFAR-10 Batch 3:  cost: 0.13889570534229279, accuracy: 0.6571999788284302\n",
      "Epoch 44, CIFAR-10 Batch 4:  cost: 0.15922212600708008, accuracy: 0.6561999917030334\n",
      "Epoch 44, CIFAR-10 Batch 5:  cost: 0.10474997013807297, accuracy: 0.6610000133514404\n",
      "Epoch 45, CIFAR-10 Batch 1:  cost: 0.1416073888540268, accuracy: 0.6759999990463257\n",
      "Epoch 45, CIFAR-10 Batch 2:  cost: 0.13624604046344757, accuracy: 0.6460000276565552\n",
      "Epoch 45, CIFAR-10 Batch 3:  cost: 0.13311275839805603, accuracy: 0.6606000065803528\n",
      "Epoch 45, CIFAR-10 Batch 4:  cost: 0.18344201147556305, accuracy: 0.6485999822616577\n",
      "Epoch 45, CIFAR-10 Batch 5:  cost: 0.07447201758623123, accuracy: 0.6812000274658203\n",
      "Epoch 46, CIFAR-10 Batch 1:  cost: 0.1702636182308197, accuracy: 0.6729999780654907\n",
      "Epoch 46, CIFAR-10 Batch 2:  cost: 0.10962650924921036, accuracy: 0.6521999835968018\n",
      "Epoch 46, CIFAR-10 Batch 3:  cost: 0.1448107808828354, accuracy: 0.6654000282287598\n",
      "Epoch 46, CIFAR-10 Batch 4:  cost: 0.13871729373931885, accuracy: 0.6340000033378601\n",
      "Epoch 46, CIFAR-10 Batch 5:  cost: 0.09635194391012192, accuracy: 0.6743999719619751\n",
      "Epoch 47, CIFAR-10 Batch 1:  cost: 0.1484667956829071, accuracy: 0.6832000017166138\n",
      "Epoch 47, CIFAR-10 Batch 2:  cost: 0.10635355114936829, accuracy: 0.6557999849319458\n",
      "Epoch 47, CIFAR-10 Batch 3:  cost: 0.10537493973970413, accuracy: 0.6710000038146973\n",
      "Epoch 47, CIFAR-10 Batch 4:  cost: 0.1405680924654007, accuracy: 0.6277999877929688\n",
      "Epoch 47, CIFAR-10 Batch 5:  cost: 0.09859093278646469, accuracy: 0.6633999943733215\n",
      "Epoch 48, CIFAR-10 Batch 1:  cost: 0.1330510675907135, accuracy: 0.6679999828338623\n",
      "Epoch 48, CIFAR-10 Batch 2:  cost: 0.09542138129472733, accuracy: 0.6632000207901001\n",
      "Epoch 48, CIFAR-10 Batch 3:  cost: 0.10049258172512054, accuracy: 0.6733999848365784\n",
      "Epoch 48, CIFAR-10 Batch 4:  cost: 0.08568181097507477, accuracy: 0.6714000105857849\n",
      "Epoch 48, CIFAR-10 Batch 5:  cost: 0.0853518396615982, accuracy: 0.6484000086784363\n",
      "Epoch 49, CIFAR-10 Batch 1:  cost: 0.14225691556930542, accuracy: 0.65420001745224\n",
      "Epoch 49, CIFAR-10 Batch 2:  cost: 0.10134083032608032, accuracy: 0.6628000140190125\n",
      "Epoch 49, CIFAR-10 Batch 3:  cost: 0.0689338892698288, accuracy: 0.670199990272522\n",
      "Epoch 49, CIFAR-10 Batch 4:  cost: 0.13617324829101562, accuracy: 0.6597999930381775\n",
      "Epoch 49, CIFAR-10 Batch 5:  cost: 0.055792391300201416, accuracy: 0.6413999795913696\n",
      "Epoch 50, CIFAR-10 Batch 1:  cost: 0.15717503428459167, accuracy: 0.6471999883651733\n",
      "Epoch 50, CIFAR-10 Batch 2:  cost: 0.08718737214803696, accuracy: 0.673799991607666\n",
      "Epoch 50, CIFAR-10 Batch 3:  cost: 0.12674228847026825, accuracy: 0.6592000126838684\n",
      "Epoch 50, CIFAR-10 Batch 4:  cost: 0.08946008235216141, accuracy: 0.6656000018119812\n",
      "Epoch 50, CIFAR-10 Batch 5:  cost: 0.05063386261463165, accuracy: 0.6484000086784363\n",
      "Epoch 51, CIFAR-10 Batch 1:  cost: 0.11385755240917206, accuracy: 0.6614000201225281\n",
      "Epoch 51, CIFAR-10 Batch 2:  cost: 0.0787895917892456, accuracy: 0.6751999855041504\n",
      "Epoch 51, CIFAR-10 Batch 3:  cost: 0.11573874950408936, accuracy: 0.652400016784668\n",
      "Epoch 51, CIFAR-10 Batch 4:  cost: 0.08034609258174896, accuracy: 0.6642000079154968\n",
      "Epoch 51, CIFAR-10 Batch 5:  cost: 0.04061943292617798, accuracy: 0.6669999957084656\n",
      "Epoch 52, CIFAR-10 Batch 1:  cost: 0.12343736737966537, accuracy: 0.6668000221252441\n",
      "Epoch 52, CIFAR-10 Batch 2:  cost: 0.09790308773517609, accuracy: 0.6624000072479248\n",
      "Epoch 52, CIFAR-10 Batch 3:  cost: 0.06989672034978867, accuracy: 0.6764000058174133\n",
      "Epoch 52, CIFAR-10 Batch 4:  cost: 0.07792111486196518, accuracy: 0.6589999794960022\n",
      "Epoch 52, CIFAR-10 Batch 5:  cost: 0.047668617218732834, accuracy: 0.6539999842643738\n",
      "Epoch 53, CIFAR-10 Batch 1:  cost: 0.10196961462497711, accuracy: 0.6736000180244446\n",
      "Epoch 53, CIFAR-10 Batch 2:  cost: 0.08754462003707886, accuracy: 0.6597999930381775\n",
      "Epoch 53, CIFAR-10 Batch 3:  cost: 0.05405985191464424, accuracy: 0.6736000180244446\n",
      "Epoch 53, CIFAR-10 Batch 4:  cost: 0.06734397262334824, accuracy: 0.646399974822998\n",
      "Epoch 53, CIFAR-10 Batch 5:  cost: 0.056388482451438904, accuracy: 0.6621999740600586\n",
      "Epoch 54, CIFAR-10 Batch 1:  cost: 0.09985610097646713, accuracy: 0.6715999841690063\n",
      "Epoch 54, CIFAR-10 Batch 2:  cost: 0.0504879467189312, accuracy: 0.6728000044822693\n",
      "Epoch 54, CIFAR-10 Batch 3:  cost: 0.05670405551791191, accuracy: 0.6643999814987183\n",
      "Epoch 54, CIFAR-10 Batch 4:  cost: 0.05737736448645592, accuracy: 0.6661999821662903\n",
      "Epoch 54, CIFAR-10 Batch 5:  cost: 0.050294119864702225, accuracy: 0.6690000295639038\n",
      "Epoch 55, CIFAR-10 Batch 1:  cost: 0.11061709374189377, accuracy: 0.659600019454956\n",
      "Epoch 55, CIFAR-10 Batch 2:  cost: 0.06502573192119598, accuracy: 0.6675999760627747\n",
      "Epoch 55, CIFAR-10 Batch 3:  cost: 0.08549570292234421, accuracy: 0.6600000262260437\n",
      "Epoch 55, CIFAR-10 Batch 4:  cost: 0.05409392714500427, accuracy: 0.6693999767303467\n",
      "Epoch 55, CIFAR-10 Batch 5:  cost: 0.0638873502612114, accuracy: 0.6510000228881836\n",
      "Epoch 56, CIFAR-10 Batch 1:  cost: 0.08285348117351532, accuracy: 0.6633999943733215\n",
      "Epoch 56, CIFAR-10 Batch 2:  cost: 0.038696128875017166, accuracy: 0.6743999719619751\n",
      "Epoch 56, CIFAR-10 Batch 3:  cost: 0.04293926805257797, accuracy: 0.673799991607666\n",
      "Epoch 56, CIFAR-10 Batch 4:  cost: 0.04161922261118889, accuracy: 0.6740000247955322\n",
      "Epoch 56, CIFAR-10 Batch 5:  cost: 0.028641417622566223, accuracy: 0.6588000059127808\n",
      "Epoch 57, CIFAR-10 Batch 1:  cost: 0.05075092613697052, accuracy: 0.6686000227928162\n",
      "Epoch 57, CIFAR-10 Batch 2:  cost: 0.0659632682800293, accuracy: 0.6547999978065491\n",
      "Epoch 57, CIFAR-10 Batch 3:  cost: 0.037694305181503296, accuracy: 0.6714000105857849\n",
      "Epoch 57, CIFAR-10 Batch 4:  cost: 0.029762480407953262, accuracy: 0.6794000267982483\n",
      "Epoch 57, CIFAR-10 Batch 5:  cost: 0.02984592132270336, accuracy: 0.671999990940094\n",
      "Epoch 58, CIFAR-10 Batch 1:  cost: 0.059486839920282364, accuracy: 0.6565999984741211\n",
      "Epoch 58, CIFAR-10 Batch 2:  cost: 0.047222577035427094, accuracy: 0.6679999828338623\n",
      "Epoch 58, CIFAR-10 Batch 3:  cost: 0.043128419667482376, accuracy: 0.6574000120162964\n",
      "Epoch 58, CIFAR-10 Batch 4:  cost: 0.03420788422226906, accuracy: 0.6714000105857849\n",
      "Epoch 58, CIFAR-10 Batch 5:  cost: 0.02212333120405674, accuracy: 0.6725999712944031\n",
      "Epoch 59, CIFAR-10 Batch 1:  cost: 0.028319384902715683, accuracy: 0.6620000004768372\n",
      "Epoch 59, CIFAR-10 Batch 2:  cost: 0.028976179659366608, accuracy: 0.6754000186920166\n",
      "Epoch 59, CIFAR-10 Batch 3:  cost: 0.04651627317070961, accuracy: 0.6614000201225281\n"
     ]
    },
    {
     "name": "stdout",
     "output_type": "stream",
     "text": [
      "Epoch 59, CIFAR-10 Batch 4:  cost: 0.02729814499616623, accuracy: 0.6654000282287598\n",
      "Epoch 59, CIFAR-10 Batch 5:  cost: 0.023014342412352562, accuracy: 0.6732000112533569\n",
      "Epoch 60, CIFAR-10 Batch 1:  cost: 0.038517847657203674, accuracy: 0.656000018119812\n",
      "Epoch 60, CIFAR-10 Batch 2:  cost: 0.03545024245977402, accuracy: 0.6840000152587891\n",
      "Epoch 60, CIFAR-10 Batch 3:  cost: 0.04107096418738365, accuracy: 0.6692000031471252\n",
      "Epoch 60, CIFAR-10 Batch 4:  cost: 0.02152753435075283, accuracy: 0.6697999835014343\n",
      "Epoch 60, CIFAR-10 Batch 5:  cost: 0.013629836030304432, accuracy: 0.6687999963760376\n",
      "Epoch 61, CIFAR-10 Batch 1:  cost: 0.029604963958263397, accuracy: 0.6682000160217285\n",
      "Epoch 61, CIFAR-10 Batch 2:  cost: 0.022721687331795692, accuracy: 0.6747999787330627\n",
      "Epoch 61, CIFAR-10 Batch 3:  cost: 0.03569113835692406, accuracy: 0.6686000227928162\n",
      "Epoch 61, CIFAR-10 Batch 4:  cost: 0.029063180088996887, accuracy: 0.6638000011444092\n",
      "Epoch 61, CIFAR-10 Batch 5:  cost: 0.012055818922817707, accuracy: 0.6718000173568726\n",
      "Epoch 62, CIFAR-10 Batch 1:  cost: 0.02098962478339672, accuracy: 0.6769999861717224\n",
      "Epoch 62, CIFAR-10 Batch 2:  cost: 0.02583574689924717, accuracy: 0.670199990272522\n",
      "Epoch 62, CIFAR-10 Batch 3:  cost: 0.028026409447193146, accuracy: 0.6668000221252441\n",
      "Epoch 62, CIFAR-10 Batch 4:  cost: 0.03434905409812927, accuracy: 0.6600000262260437\n",
      "Epoch 62, CIFAR-10 Batch 5:  cost: 0.011246486566960812, accuracy: 0.6665999889373779\n",
      "Epoch 63, CIFAR-10 Batch 1:  cost: 0.02352273464202881, accuracy: 0.6729999780654907\n",
      "Epoch 63, CIFAR-10 Batch 2:  cost: 0.027050884440541267, accuracy: 0.673799991607666\n",
      "Epoch 63, CIFAR-10 Batch 3:  cost: 0.025382960215210915, accuracy: 0.6657999753952026\n",
      "Epoch 63, CIFAR-10 Batch 4:  cost: 0.034564681351184845, accuracy: 0.6601999998092651\n",
      "Epoch 63, CIFAR-10 Batch 5:  cost: 0.021534936502575874, accuracy: 0.6687999963760376\n",
      "Epoch 64, CIFAR-10 Batch 1:  cost: 0.019069628790020943, accuracy: 0.676800012588501\n",
      "Epoch 64, CIFAR-10 Batch 2:  cost: 0.01673547923564911, accuracy: 0.6876000165939331\n",
      "Epoch 64, CIFAR-10 Batch 3:  cost: 0.023306986317038536, accuracy: 0.6507999897003174\n",
      "Epoch 64, CIFAR-10 Batch 4:  cost: 0.021875198930501938, accuracy: 0.6657999753952026\n",
      "Epoch 64, CIFAR-10 Batch 5:  cost: 0.02022762969136238, accuracy: 0.6728000044822693\n",
      "Epoch 65, CIFAR-10 Batch 1:  cost: 0.028938395902514458, accuracy: 0.6779999732971191\n",
      "Epoch 65, CIFAR-10 Batch 2:  cost: 0.014510801061987877, accuracy: 0.6783999800682068\n",
      "Epoch 65, CIFAR-10 Batch 3:  cost: 0.029267314821481705, accuracy: 0.6661999821662903\n",
      "Epoch 65, CIFAR-10 Batch 4:  cost: 0.03403231129050255, accuracy: 0.6480000019073486\n",
      "Epoch 65, CIFAR-10 Batch 5:  cost: 0.019805504009127617, accuracy: 0.6722000241279602\n",
      "Epoch 66, CIFAR-10 Batch 1:  cost: 0.01966268941760063, accuracy: 0.680400013923645\n",
      "Epoch 66, CIFAR-10 Batch 2:  cost: 0.02830038219690323, accuracy: 0.6723999977111816\n",
      "Epoch 66, CIFAR-10 Batch 3:  cost: 0.01418654341250658, accuracy: 0.6660000085830688\n",
      "Epoch 66, CIFAR-10 Batch 4:  cost: 0.026108868420124054, accuracy: 0.6340000033378601\n",
      "Epoch 66, CIFAR-10 Batch 5:  cost: 0.01400311291217804, accuracy: 0.6704000234603882\n",
      "Epoch 67, CIFAR-10 Batch 1:  cost: 0.030467484146356583, accuracy: 0.6741999983787537\n",
      "Epoch 67, CIFAR-10 Batch 2:  cost: 0.039121873676776886, accuracy: 0.6732000112533569\n",
      "Epoch 67, CIFAR-10 Batch 3:  cost: 0.016906827688217163, accuracy: 0.6597999930381775\n",
      "Epoch 67, CIFAR-10 Batch 4:  cost: 0.032792385667562485, accuracy: 0.6556000113487244\n",
      "Epoch 67, CIFAR-10 Batch 5:  cost: 0.015158922411501408, accuracy: 0.6690000295639038\n",
      "Epoch 68, CIFAR-10 Batch 1:  cost: 0.02492351457476616, accuracy: 0.6718000173568726\n",
      "Epoch 68, CIFAR-10 Batch 2:  cost: 0.013894924893975258, accuracy: 0.6818000078201294\n",
      "Epoch 68, CIFAR-10 Batch 3:  cost: 0.016859814524650574, accuracy: 0.6700000166893005\n",
      "Epoch 68, CIFAR-10 Batch 4:  cost: 0.026426417753100395, accuracy: 0.6570000052452087\n",
      "Epoch 68, CIFAR-10 Batch 5:  cost: 0.012957973405718803, accuracy: 0.6618000268936157\n",
      "Epoch 69, CIFAR-10 Batch 1:  cost: 0.019412251189351082, accuracy: 0.6741999983787537\n",
      "Epoch 69, CIFAR-10 Batch 2:  cost: 0.021672338247299194, accuracy: 0.6715999841690063\n",
      "Epoch 69, CIFAR-10 Batch 3:  cost: 0.022784069180488586, accuracy: 0.6710000038146973\n",
      "Epoch 69, CIFAR-10 Batch 4:  cost: 0.016061030328273773, accuracy: 0.6646000146865845\n",
      "Epoch 69, CIFAR-10 Batch 5:  cost: 0.031367380172014236, accuracy: 0.6600000262260437\n",
      "Epoch 70, CIFAR-10 Batch 1:  cost: 0.01652098074555397, accuracy: 0.6751999855041504\n",
      "Epoch 70, CIFAR-10 Batch 2:  cost: 0.024132894352078438, accuracy: 0.6773999929428101\n",
      "Epoch 70, CIFAR-10 Batch 3:  cost: 0.014574538916349411, accuracy: 0.6607999801635742\n",
      "Epoch 70, CIFAR-10 Batch 4:  cost: 0.021870533004403114, accuracy: 0.6650000214576721\n",
      "Epoch 70, CIFAR-10 Batch 5:  cost: 0.010837106965482235, accuracy: 0.6656000018119812\n",
      "Epoch 71, CIFAR-10 Batch 1:  cost: 0.015580757521092892, accuracy: 0.659600019454956\n",
      "Epoch 71, CIFAR-10 Batch 2:  cost: 0.010612890124320984, accuracy: 0.6823999881744385\n",
      "Epoch 71, CIFAR-10 Batch 3:  cost: 0.011761757545173168, accuracy: 0.670199990272522\n",
      "Epoch 71, CIFAR-10 Batch 4:  cost: 0.018321601673960686, accuracy: 0.6746000051498413\n",
      "Epoch 71, CIFAR-10 Batch 5:  cost: 0.005988136865198612, accuracy: 0.6672000288963318\n",
      "Epoch 72, CIFAR-10 Batch 1:  cost: 0.015372331254184246, accuracy: 0.6692000031471252\n",
      "Epoch 72, CIFAR-10 Batch 2:  cost: 0.008897796273231506, accuracy: 0.6754000186920166\n",
      "Epoch 72, CIFAR-10 Batch 3:  cost: 0.013408800587058067, accuracy: 0.6628000140190125\n",
      "Epoch 72, CIFAR-10 Batch 4:  cost: 0.010640319436788559, accuracy: 0.6764000058174133\n",
      "Epoch 72, CIFAR-10 Batch 5:  cost: 0.0078903678804636, accuracy: 0.6567999720573425\n",
      "Epoch 73, CIFAR-10 Batch 1:  cost: 0.008117986842989922, accuracy: 0.6765999794006348\n",
      "Epoch 73, CIFAR-10 Batch 2:  cost: 0.015799421817064285, accuracy: 0.6660000085830688\n",
      "Epoch 73, CIFAR-10 Batch 3:  cost: 0.019754065200686455, accuracy: 0.6466000080108643\n",
      "Epoch 73, CIFAR-10 Batch 4:  cost: 0.008710112422704697, accuracy: 0.6732000112533569\n",
      "Epoch 73, CIFAR-10 Batch 5:  cost: 0.005716840736567974, accuracy: 0.6678000092506409\n",
      "Epoch 74, CIFAR-10 Batch 1:  cost: 0.009009378962218761, accuracy: 0.6840000152587891\n",
      "Epoch 74, CIFAR-10 Batch 2:  cost: 0.02046371065080166, accuracy: 0.6741999983787537\n",
      "Epoch 74, CIFAR-10 Batch 3:  cost: 0.008831650950014591, accuracy: 0.6725999712944031\n",
      "Epoch 74, CIFAR-10 Batch 4:  cost: 0.009925516322255135, accuracy: 0.6628000140190125\n",
      "Epoch 74, CIFAR-10 Batch 5:  cost: 0.007723113056272268, accuracy: 0.6765999794006348\n",
      "Epoch 75, CIFAR-10 Batch 1:  cost: 0.012471118941903114, accuracy: 0.6723999977111816\n",
      "Epoch 75, CIFAR-10 Batch 2:  cost: 0.009591588750481606, accuracy: 0.6796000003814697\n",
      "Epoch 75, CIFAR-10 Batch 3:  cost: 0.007292159367352724, accuracy: 0.678600013256073\n",
      "Epoch 75, CIFAR-10 Batch 4:  cost: 0.00672605074942112, accuracy: 0.6725999712944031\n",
      "Epoch 75, CIFAR-10 Batch 5:  cost: 0.011300085112452507, accuracy: 0.6675999760627747\n",
      "Epoch 76, CIFAR-10 Batch 1:  cost: 0.0062368786893785, accuracy: 0.6725999712944031\n",
      "Epoch 76, CIFAR-10 Batch 2:  cost: 0.005424394737929106, accuracy: 0.6746000051498413\n",
      "Epoch 76, CIFAR-10 Batch 3:  cost: 0.006100338418036699, accuracy: 0.6710000038146973\n",
      "Epoch 76, CIFAR-10 Batch 4:  cost: 0.01380070112645626, accuracy: 0.6628000140190125\n",
      "Epoch 76, CIFAR-10 Batch 5:  cost: 0.0070697590708732605, accuracy: 0.675599992275238\n",
      "Epoch 77, CIFAR-10 Batch 1:  cost: 0.018948426470160484, accuracy: 0.6629999876022339\n",
      "Epoch 77, CIFAR-10 Batch 2:  cost: 0.006513418164104223, accuracy: 0.675000011920929\n",
      "Epoch 77, CIFAR-10 Batch 3:  cost: 0.004674009513109922, accuracy: 0.6790000200271606\n",
      "Epoch 77, CIFAR-10 Batch 4:  cost: 0.007942669093608856, accuracy: 0.6862000226974487\n",
      "Epoch 77, CIFAR-10 Batch 5:  cost: 0.0048071034252643585, accuracy: 0.6758000254631042\n",
      "Epoch 78, CIFAR-10 Batch 1:  cost: 0.008293576538562775, accuracy: 0.66839998960495\n",
      "Epoch 78, CIFAR-10 Batch 2:  cost: 0.0053797317668795586, accuracy: 0.6783999800682068\n",
      "Epoch 78, CIFAR-10 Batch 3:  cost: 0.005695472005754709, accuracy: 0.6800000071525574\n",
      "Epoch 78, CIFAR-10 Batch 4:  cost: 0.005404957104474306, accuracy: 0.6866000294685364\n"
     ]
    },
    {
     "name": "stdout",
     "output_type": "stream",
     "text": [
      "Epoch 78, CIFAR-10 Batch 5:  cost: 0.006791067309677601, accuracy: 0.6728000044822693\n",
      "Epoch 79, CIFAR-10 Batch 1:  cost: 0.008708891458809376, accuracy: 0.6772000193595886\n",
      "Epoch 79, CIFAR-10 Batch 2:  cost: 0.008295562118291855, accuracy: 0.6797999739646912\n",
      "Epoch 79, CIFAR-10 Batch 3:  cost: 0.007260832469910383, accuracy: 0.6751999855041504\n",
      "Epoch 79, CIFAR-10 Batch 4:  cost: 0.008125442080199718, accuracy: 0.6877999901771545\n",
      "Epoch 79, CIFAR-10 Batch 5:  cost: 0.008252696134150028, accuracy: 0.6692000031471252\n",
      "Epoch 80, CIFAR-10 Batch 1:  cost: 0.009816575795412064, accuracy: 0.6746000051498413\n",
      "Epoch 80, CIFAR-10 Batch 2:  cost: 0.006458027753978968, accuracy: 0.6869999766349792\n",
      "Epoch 80, CIFAR-10 Batch 3:  cost: 0.0031790120992809534, accuracy: 0.6758000254631042\n",
      "Epoch 80, CIFAR-10 Batch 4:  cost: 0.003497868776321411, accuracy: 0.6850000023841858\n",
      "Epoch 80, CIFAR-10 Batch 5:  cost: 0.003501569852232933, accuracy: 0.6791999936103821\n"
     ]
    }
   ],
   "source": [
    "\"\"\"\n",
    "DON'T MODIFY ANYTHING IN THIS CELL\n",
    "\"\"\"\n",
    "save_model_path = './image_classification'\n",
    "\n",
    "print('Training...')\n",
    "with tf.Session() as sess:\n",
    "    # Initializing the variables\n",
    "    sess.run(tf.global_variables_initializer())\n",
    "    \n",
    "    # Training cycle\n",
    "    for epoch in range(epochs):\n",
    "        # Loop over all batches\n",
    "        n_batches = 5\n",
    "        for batch_i in range(1, n_batches + 1):\n",
    "            for batch_features, batch_labels in helper.load_preprocess_training_batch(batch_i, batch_size):\n",
    "                train_neural_network(sess, optimizer, keep_probability, batch_features, batch_labels)\n",
    "            print('Epoch {:>2}, CIFAR-10 Batch {}:  '.format(epoch + 1, batch_i), end='')\n",
    "            learning_evolution.append(tuple(print_stats(sess, batch_features, batch_labels, cost, accuracy)))\n",
    "            \n",
    "    # Save Model\n",
    "    saver = tf.train.Saver()\n",
    "    save_path = saver.save(sess, save_model_path)"
   ]
  },
  {
   "cell_type": "code",
   "execution_count": 58,
   "metadata": {},
   "outputs": [
    {
     "data": {
      "text/plain": [
       "[<matplotlib.lines.Line2D at 0x7f1edd6297f0>]"
      ]
     },
     "execution_count": 58,
     "metadata": {},
     "output_type": "execute_result"
    },
    {
     "data": {
      "image/png": "[encoded data removed]",
      "text/plain": [
       "<matplotlib.figure.Figure at 0x7f1edd6292b0>"
      ]
     },
     "metadata": {
      "image/png": {
       "height": 250,
       "width": 373
      }
     },
     "output_type": "display_data"
    }
   ],
   "source": [
    "import matplotlib.pyplot as plt\n",
    "cost_, acc_ = zip(*learning_evolution)\n",
    "plt.plot ( acc_)\n",
    "plt.plot(cost_)"
   ]
  },
  {
   "cell_type": "markdown",
   "metadata": {},
   "source": [
    "# Checkpoint\n",
    "The model has been saved to disk.\n",
    "## Test Model\n",
    "Test your model against the test dataset.  This will be your final accuracy. You should have an accuracy greater than 50%. If you don't, keep tweaking the model architecture and parameters."
   ]
  },
  {
   "cell_type": "code",
   "execution_count": 45,
   "metadata": {},
   "outputs": [
    {
     "name": "stdout",
     "output_type": "stream",
     "text": [
      "INFO:tensorflow:Restoring parameters from ./image_classification\n",
      "Testing Accuracy: 0.6716796875\n",
      "\n"
     ]
    },
    {
     "data": {
      "image/png": "[encoded data removed]",
      "text/plain": [
       "<matplotlib.figure.Figure at 0x7f1fcfc30048>"
      ]
     },
     "metadata": {
      "image/png": {
       "height": 319,
       "width": 355
      }
     },
     "output_type": "display_data"
    }
   ],
   "source": [
    "\"\"\"\n",
    "DON'T MODIFY ANYTHING IN THIS CELL\n",
    "\"\"\"\n",
    "%matplotlib inline\n",
    "%config InlineBackend.figure_format = 'retina'\n",
    "\n",
    "import tensorflow as tf\n",
    "import pickle\n",
    "import helper\n",
    "import random\n",
    "\n",
    "# Set batch size if not already set\n",
    "try:\n",
    "    if batch_size:\n",
    "        pass\n",
    "except NameError:\n",
    "    batch_size = 64\n",
    "\n",
    "save_model_path = './image_classification'\n",
    "n_samples = 4\n",
    "top_n_predictions = 3\n",
    "\n",
    "def test_model():\n",
    "    \"\"\"\n",
    "    Test the saved model against the test dataset\n",
    "    \"\"\"\n",
    "\n",
    "    test_features, test_labels = pickle.load(open('preprocess_test.p', mode='rb'))\n",
    "    loaded_graph = tf.Graph()\n",
    "\n",
    "    with tf.Session(graph=loaded_graph) as sess:\n",
    "        # Load model\n",
    "        loader = tf.train.import_meta_graph(save_model_path + '.meta')\n",
    "        loader.restore(sess, save_model_path)\n",
    "\n",
    "        # Get Tensors from loaded model\n",
    "        loaded_x = loaded_graph.get_tensor_by_name('x:0')\n",
    "        loaded_y = loaded_graph.get_tensor_by_name('y:0')\n",
    "        loaded_keep_prob = loaded_graph.get_tensor_by_name('keep_prob:0')\n",
    "        loaded_logits = loaded_graph.get_tensor_by_name('logits:0')\n",
    "        loaded_acc = loaded_graph.get_tensor_by_name('accuracy:0')\n",
    "        \n",
    "        # Get accuracy in batches for memory limitations\n",
    "        test_batch_acc_total = 0\n",
    "        test_batch_count = 0\n",
    "        \n",
    "        for test_feature_batch, test_label_batch in helper.batch_features_labels(test_features, test_labels, batch_size):\n",
    "            test_batch_acc_total += sess.run(\n",
    "                loaded_acc,\n",
    "                feed_dict={loaded_x: test_feature_batch, loaded_y: test_label_batch, loaded_keep_prob: 1.0})\n",
    "            test_batch_count += 1\n",
    "\n",
    "        print('Testing Accuracy: {}\\n'.format(test_batch_acc_total/test_batch_count))\n",
    "\n",
    "        # Print Random Samples\n",
    "        random_test_features, random_test_labels = tuple(zip(*random.sample(list(zip(test_features, test_labels)), n_samples)))\n",
    "        random_test_predictions = sess.run(\n",
    "            tf.nn.top_k(tf.nn.softmax(loaded_logits), top_n_predictions),\n",
    "            feed_dict={loaded_x: random_test_features, loaded_y: random_test_labels, loaded_keep_prob: 1.0})\n",
    "        helper.display_image_predictions(random_test_features, random_test_labels, random_test_predictions)\n",
    "\n",
    "\n",
    "test_model()"
   ]
  },
  {
   "cell_type": "markdown",
   "metadata": {},
   "source": [
    "## Why 50-80% Accuracy?\n",
    "You might be wondering why you can't get an accuracy any higher. First things first, 50% isn't bad for a simple CNN.  Pure guessing would get you 10% accuracy. However, you might notice people are getting scores [well above 80%](http://rodrigob.github.io/are_we_there_yet/build/classification_datasets_results.html#43494641522d3130).  That's because we haven't taught you all there is to know about neural networks. We still need to cover a few more techniques.\n",
    "## Submitting This Project\n",
    "When submitting this project, make sure to run all the cells before saving the notebook.  Save the notebook file as \"dlnd_image_classification.ipynb\" and save it as a HTML file under \"File\" -> \"Download as\".  Include the \"helper.py\" and \"problem_unittests.py\" files in your submission."
   ]
  }
 ],
 "metadata": {
  "kernelspec": {
   "display_name": "Python 3",
   "language": "python",
   "name": "python3"
  },
  "language_info": {
   "codemirror_mode": {
    "name": "ipython",
    "version": 3
   },
   "file_extension": ".py",
   "mimetype": "text/x-python",
   "name": "python",
   "nbconvert_exporter": "python",
   "pygments_lexer": "ipython3",
   "version": "3.6.1"
  }
 },
 "nbformat": 4,
 "nbformat_minor": 1
}
