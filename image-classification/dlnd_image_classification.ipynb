{
 "cells": [
  {
   "cell_type": "markdown",
   "metadata": {
    "collapsed": true
   },
   "source": [
    "# Image Classification\n",
    "In this project, you'll classify images from the [CIFAR-10 dataset](https://www.cs.toronto.edu/~kriz/cifar.html).  The dataset consists of airplanes, dogs, cats, and other objects. You'll preprocess the images, then train a convolutional neural network on all the samples. The images need to be normalized and the labels need to be one-hot encoded.  You'll get to apply what you learned and build a convolutional, max pooling, dropout, and fully connected layers.  At the end, you'll get to see your neural network's predictions on the sample images.\n",
    "## Get the Data\n",
    "Run the following cell to download the [CIFAR-10 dataset for python](https://www.cs.toronto.edu/~kriz/cifar-10-python.tar.gz)."
   ]
  },
  {
   "cell_type": "code",
   "execution_count": 1,
   "metadata": {},
   "outputs": [
    {
     "name": "stdout",
     "output_type": "stream",
     "text": [
      "All files found!\n"
     ]
    }
   ],
   "source": [
    "\"\"\"\n",
    "DON'T MODIFY ANYTHING IN THIS CELL THAT IS BELOW THIS LINE\n",
    "\"\"\"\n",
    "from urllib.request import urlretrieve\n",
    "from os.path import isfile, isdir\n",
    "from tqdm import tqdm\n",
    "import problem_unittests as tests\n",
    "import tarfile\n",
    "\n",
    "cifar10_dataset_folder_path = 'cifar-10-batches-py'\n",
    "\n",
    "# Use Floyd's cifar-10 dataset if present\n",
    "floyd_cifar10_location = '/input/cifar-10/python.tar.gz'\n",
    "if isfile(floyd_cifar10_location):\n",
    "    tar_gz_path = floyd_cifar10_location\n",
    "else:\n",
    "    tar_gz_path = 'cifar-10-python.tar.gz'\n",
    "\n",
    "class DLProgress(tqdm):\n",
    "    last_block = 0\n",
    "\n",
    "    def hook(self, block_num=1, block_size=1, total_size=None):\n",
    "        self.total = total_size\n",
    "        self.update((block_num - self.last_block) * block_size)\n",
    "        self.last_block = block_num\n",
    "\n",
    "if not isfile(tar_gz_path):\n",
    "    with DLProgress(unit='B', unit_scale=True, miniters=1, desc='CIFAR-10 Dataset') as pbar:\n",
    "        urlretrieve(\n",
    "            'https://www.cs.toronto.edu/~kriz/cifar-10-python.tar.gz',\n",
    "            tar_gz_path,\n",
    "            pbar.hook)\n",
    "\n",
    "if not isdir(cifar10_dataset_folder_path):\n",
    "    with tarfile.open(tar_gz_path) as tar:\n",
    "        tar.extractall()\n",
    "        tar.close()\n",
    "\n",
    "\n",
    "tests.test_folder_path(cifar10_dataset_folder_path)"
   ]
  },
  {
   "cell_type": "markdown",
   "metadata": {},
   "source": [
    "## Explore the Data\n",
    "The dataset is broken into batches to prevent your machine from running out of memory.  The CIFAR-10 dataset consists of 5 batches, named `data_batch_1`, `data_batch_2`, etc.. Each batch contains the labels and images that are one of the following:\n",
    "* airplane\n",
    "* automobile\n",
    "* bird\n",
    "* cat\n",
    "* deer\n",
    "* dog\n",
    "* frog\n",
    "* horse\n",
    "* ship\n",
    "* truck\n",
    "\n",
    "Understanding a dataset is part of making predictions on the data.  Play around with the code cell below by changing the `batch_id` and `sample_id`. The `batch_id` is the id for a batch (1-5). The `sample_id` is the id for a image and label pair in the batch.\n",
    "\n",
    "Ask yourself \"What are all possible labels?\", \"What is the range of values for the image data?\", \"Are the labels in order or random?\".  Answers to questions like these will help you preprocess the data and end up with better predictions."
   ]
  },
  {
   "cell_type": "code",
   "execution_count": 2,
   "metadata": {},
   "outputs": [
    {
     "name": "stdout",
     "output_type": "stream",
     "text": [
      "\n",
      "Stats of batch 1:\n",
      "Samples: 10000\n",
      "Label Counts: {0: 1005, 1: 974, 2: 1032, 3: 1016, 4: 999, 5: 937, 6: 1030, 7: 1001, 8: 1025, 9: 981}\n",
      "First 20 Labels: [6, 9, 9, 4, 1, 1, 2, 7, 8, 3, 4, 7, 7, 2, 9, 9, 9, 3, 2, 6]\n",
      "\n",
      "Example of Image 5:\n",
      "Image - Min Value: 0 Max Value: 252\n",
      "Image - Shape: (32, 32, 3)\n",
      "Label - Label Id: 1 Name: automobile\n"
     ]
    },
    {
     "data": {
      "image/png": "[encoded data removed]",
      "text/plain": [
       "<matplotlib.figure.Figure at 0x7f263f115e10>"
      ]
     },
     "metadata": {
      "image/png": {
       "height": 250,
       "width": 253
      }
     },
     "output_type": "display_data"
    }
   ],
   "source": [
    "%matplotlib inline\n",
    "%config InlineBackend.figure_format = 'retina'\n",
    "\n",
    "import helper\n",
    "import numpy as np\n",
    "\n",
    "# Explore the dataset\n",
    "batch_id = 1\n",
    "sample_id = 5\n",
    "helper.display_stats(cifar10_dataset_folder_path, batch_id, sample_id)"
   ]
  },
  {
   "cell_type": "markdown",
   "metadata": {},
   "source": [
    "## Implement Preprocess Functions\n",
    "### Normalize\n",
    "In the cell below, implement the `normalize` function to take in image data, `x`, and return it as a normalized Numpy array. The values should be in the range of 0 to 1, inclusive.  The return object should be the same shape as `x`."
   ]
  },
  {
   "cell_type": "code",
   "execution_count": 3,
   "metadata": {},
   "outputs": [
    {
     "name": "stdout",
     "output_type": "stream",
     "text": [
      "Tests Passed\n"
     ]
    }
   ],
   "source": [
    "def normalize(x):\n",
    "    \"\"\"\n",
    "    Normalize a list of sample image data in the range of 0 to 1\n",
    "    : x: List of image data.  The image shape is (32, 32, 3)\n",
    "    : return: Numpy array of normalize data\n",
    "    \"\"\"\n",
    "    return x/256\n",
    "\n",
    "\n",
    "\"\"\"\n",
    "DON'T MODIFY ANYTHING IN THIS CELL THAT IS BELOW THIS LINE\n",
    "\"\"\"\n",
    "tests.test_normalize(normalize)"
   ]
  },
  {
   "cell_type": "markdown",
   "metadata": {},
   "source": [
    "### One-hot encode\n",
    "Just like the previous code cell, you'll be implementing a function for preprocessing.  This time, you'll implement the `one_hot_encode` function. The input, `x`, are a list of labels.  Implement the function to return the list of labels as One-Hot encoded Numpy array.  The possible values for labels are 0 to 9. The one-hot encoding function should return the same encoding for each value between each call to `one_hot_encode`.  Make sure to save the map of encodings outside the function.\n",
    "\n",
    "Hint: Don't reinvent the wheel."
   ]
  },
  {
   "cell_type": "code",
   "execution_count": 5,
   "metadata": {},
   "outputs": [
    {
     "name": "stdout",
     "output_type": "stream",
     "text": [
      "Tests Passed\n"
     ]
    }
   ],
   "source": [
    "def one_hot_encode(x):\n",
    "    \"\"\"\n",
    "    One hot encode a list of sample labels. Return a one-hot encoded vector for each label.\n",
    "    : x: List of sample Labels\n",
    "    : return: Numpy array of one-hot encoded labels\n",
    "    \"\"\"\n",
    "    ohe = np.eye(10, dtype=int)\n",
    "    return ohe[x[:]]\n",
    "\n",
    "\"\"\"\n",
    "DON'T MODIFY ANYTHING IN THIS CELL THAT IS BELOW THIS LINE\n",
    "\"\"\"\n",
    "tests.test_one_hot_encode(one_hot_encode)"
   ]
  },
  {
   "cell_type": "markdown",
   "metadata": {},
   "source": [
    "### Randomize Data\n",
    "As you saw from exploring the data above, the order of the samples are randomized.  It doesn't hurt to randomize it again, but you don't need to for this dataset."
   ]
  },
  {
   "cell_type": "markdown",
   "metadata": {},
   "source": [
    "## Preprocess all the data and save it\n",
    "Running the code cell below will preprocess all the CIFAR-10 data and save it to file. The code below also uses 10% of the training data for validation."
   ]
  },
  {
   "cell_type": "code",
   "execution_count": 6,
   "metadata": {
    "collapsed": true
   },
   "outputs": [],
   "source": [
    "\"\"\"\n",
    "DON'T MODIFY ANYTHING IN THIS CELL\n",
    "\"\"\"\n",
    "# Preprocess Training, Validation, and Testing Data\n",
    "helper.preprocess_and_save_data(cifar10_dataset_folder_path, normalize, one_hot_encode)"
   ]
  },
  {
   "cell_type": "markdown",
   "metadata": {},
   "source": [
    "# Check Point\n",
    "This is your first checkpoint.  If you ever decide to come back to this notebook or have to restart the notebook, you can start from here.  The preprocessed data has been saved to disk."
   ]
  },
  {
   "cell_type": "code",
   "execution_count": 7,
   "metadata": {
    "collapsed": true
   },
   "outputs": [],
   "source": [
    "\"\"\"\n",
    "DON'T MODIFY ANYTHING IN THIS CELL\n",
    "\"\"\"\n",
    "import pickle\n",
    "import problem_unittests as tests\n",
    "import helper\n",
    "\n",
    "# Load the Preprocessed Validation data\n",
    "valid_features, valid_labels = pickle.load(open('preprocess_validation.p', mode='rb'))"
   ]
  },
  {
   "cell_type": "markdown",
   "metadata": {},
   "source": [
    "## Build the network\n",
    "For the neural network, you'll build each layer into a function.  Most of the code you've seen has been outside of functions. To test your code more thoroughly, we require that you put each layer in a function.  This allows us to give you better feedback and test for simple mistakes using our unittests before you submit your project.\n",
    "\n",
    ">**Note:** If you're finding it hard to dedicate enough time for this course each week, we've provided a small shortcut to this part of the project. In the next couple of problems, you'll have the option to use classes from the [TensorFlow Layers](https://www.tensorflow.org/api_docs/python/tf/layers) or [TensorFlow Layers (contrib)](https://www.tensorflow.org/api_guides/python/contrib.layers) packages to build each layer, except the layers you build in the \"Convolutional and Max Pooling Layer\" section.  TF Layers is similar to Keras's and TFLearn's abstraction to layers, so it's easy to pickup.\n",
    "\n",
    ">However, if you would like to get the most out of this course, try to solve all the problems _without_ using anything from the TF Layers packages. You **can** still use classes from other packages that happen to have the same name as ones you find in TF Layers! For example, instead of using the TF Layers version of the `conv2d` class, [tf.layers.conv2d](https://www.tensorflow.org/api_docs/python/tf/layers/conv2d), you would want to use the TF Neural Network version of `conv2d`, [tf.nn.conv2d](https://www.tensorflow.org/api_docs/python/tf/nn/conv2d). \n",
    "\n",
    "Let's begin!\n",
    "\n",
    "### Input\n",
    "The neural network needs to read the image data, one-hot encoded labels, and dropout keep probability. Implement the following functions\n",
    "* Implement `neural_net_image_input`\n",
    " * Return a [TF Placeholder](https://www.tensorflow.org/api_docs/python/tf/placeholder)\n",
    " * Set the shape using `image_shape` with batch size set to `None`.\n",
    " * Name the TensorFlow placeholder \"x\" using the TensorFlow `name` parameter in the [TF Placeholder](https://www.tensorflow.org/api_docs/python/tf/placeholder).\n",
    "* Implement `neural_net_label_input`\n",
    " * Return a [TF Placeholder](https://www.tensorflow.org/api_docs/python/tf/placeholder)\n",
    " * Set the shape using `n_classes` with batch size set to `None`.\n",
    " * Name the TensorFlow placeholder \"y\" using the TensorFlow `name` parameter in the [TF Placeholder](https://www.tensorflow.org/api_docs/python/tf/placeholder).\n",
    "* Implement `neural_net_keep_prob_input`\n",
    " * Return a [TF Placeholder](https://www.tensorflow.org/api_docs/python/tf/placeholder) for dropout keep probability.\n",
    " * Name the TensorFlow placeholder \"keep_prob\" using the TensorFlow `name` parameter in the [TF Placeholder](https://www.tensorflow.org/api_docs/python/tf/placeholder).\n",
    "\n",
    "These names will be used at the end of the project to load your saved model.\n",
    "\n",
    "Note: `None` for shapes in TensorFlow allow for a dynamic size."
   ]
  },
  {
   "cell_type": "code",
   "execution_count": 8,
   "metadata": {},
   "outputs": [
    {
     "name": "stdout",
     "output_type": "stream",
     "text": [
      "Image Input Tests Passed.\n",
      "Label Input Tests Passed.\n",
      "Keep Prob Tests Passed.\n",
      "3\n"
     ]
    }
   ],
   "source": [
    "import tensorflow as tf\n",
    "\n",
    "def neural_net_image_input(image_shape):\n",
    "    \"\"\"\n",
    "    Return a Tensor for a batch of image input\n",
    "    : image_shape: Shape of the images\n",
    "    : return: Tensor for image input.\n",
    "    \"\"\"\n",
    "    return tf.placeholder(tf.float32, shape=[None, image_shape[0], image_shape[1], image_shape[2]], name='x')\n",
    "\n",
    "\n",
    "def neural_net_label_input(n_classes):\n",
    "    \"\"\"\n",
    "    Return a Tensor for a batch of label input\n",
    "    : n_classes: Number of classes\n",
    "    : return: Tensor for label input.\n",
    "    \"\"\"\n",
    "    return tf.placeholder(tf.float32, shape=[None, n_classes], name='y')\n",
    "\n",
    "\n",
    "def neural_net_keep_prob_input():\n",
    "    \"\"\"\n",
    "    Return a Tensor for keep probability\n",
    "    : return: Tensor for keep probability.\n",
    "    \"\"\"\n",
    "    return tf.placeholder(tf.float32, name='keep_prob')\n",
    "\n",
    "\n",
    "\"\"\"\n",
    "DON'T MODIFY ANYTHING IN THIS CELL THAT IS BELOW THIS LINE\n",
    "\"\"\"\n",
    "tf.reset_default_graph()\n",
    "tests.test_nn_image_inputs(neural_net_image_input)\n",
    "tests.test_nn_label_inputs(neural_net_label_input)\n",
    "tests.test_nn_keep_prob_inputs(neural_net_keep_prob_input)\n",
    "\n",
    "print (neural_net_image_input([5,5,3]).shape[3])"
   ]
  },
  {
   "cell_type": "markdown",
   "metadata": {},
   "source": [
    "### Convolution and Max Pooling Layer\n",
    "Convolution layers have a lot of success with images. For this code cell, you should implement the function `conv2d_maxpool` to apply convolution then max pooling:\n",
    "* Create the weight and bias using `conv_ksize`, `conv_num_outputs` and the shape of `x_tensor`.\n",
    "* Apply a convolution to `x_tensor` using weight and `conv_strides`.\n",
    " * We recommend you use same padding, but you're welcome to use any padding.\n",
    "* Add bias\n",
    "* Add a nonlinear activation to the convolution.\n",
    "* Apply Max Pooling using `pool_ksize` and `pool_strides`.\n",
    " * We recommend you use same padding, but you're welcome to use any padding.\n",
    "\n",
    "**Note:** You **can't** use [TensorFlow Layers](https://www.tensorflow.org/api_docs/python/tf/layers) or [TensorFlow Layers (contrib)](https://www.tensorflow.org/api_guides/python/contrib.layers) for **this** layer, but you can still use TensorFlow's [Neural Network](https://www.tensorflow.org/api_docs/python/tf/nn) package. You may still use the shortcut option for all the **other** layers."
   ]
  },
  {
   "cell_type": "code",
   "execution_count": 9,
   "metadata": {},
   "outputs": [
    {
     "name": "stdout",
     "output_type": "stream",
     "text": [
      "Tests Passed\n"
     ]
    }
   ],
   "source": [
    "import math\n",
    "def conv2d_maxpool(x_tensor, conv_num_outputs, conv_ksize, conv_strides, pool_ksize, pool_strides):\n",
    "    \"\"\"\n",
    "    Apply convolution then max pooling to x_tensor\n",
    "    :param x_tensor: TensorFlow Tensor\n",
    "    :param conv_num_outputs: Number of outputs for the convolutional layer\n",
    "    :param conv_ksize: kernal size 2-D Tuple for the convolutional layer\n",
    "    :param conv_strides: Stride 2-D Tuple for convolution\n",
    "    :param pool_ksize: kernal size 2-D Tuple for pool\n",
    "    :param pool_strides: Stride 2-D Tuple for pool\n",
    "    : return: A tensor that represents convolution and max pooling of x_tensor\n",
    "    \"\"\"\n",
    "    weight = tf.Variable(tf.truncated_normal([*conv_ksize, int(x_tensor.shape[3]), conv_num_outputs], stddev=1.0 / math.sqrt(float(int(x_tensor.shape[3])))))\n",
    "    bias = tf.Variable(tf.truncated_normal([conv_num_outputs]))\n",
    "    x = tf.nn.conv2d(x_tensor, weight, strides = [1, *conv_strides, 1], padding='SAME')\n",
    "    x = tf.nn.relu(tf.nn.bias_add(x, bias))\n",
    "    return tf.nn.max_pool(x, [1, *pool_ksize, 1], [1, *pool_strides, 1], padding='SAME')\n",
    "    \n",
    "     \n",
    "\n",
    "\n",
    "\"\"\"\n",
    "DON'T MODIFY ANYTHING IN THIS CELL THAT IS BELOW THIS LINE\n",
    "\"\"\"\n",
    "tests.test_con_pool(conv2d_maxpool)"
   ]
  },
  {
   "cell_type": "markdown",
   "metadata": {},
   "source": [
    "### Flatten Layer\n",
    "Implement the `flatten` function to change the dimension of `x_tensor` from a 4-D tensor to a 2-D tensor.  The output should be the shape (*Batch Size*, *Flattened Image Size*). Shortcut option: you can use classes from the [TensorFlow Layers](https://www.tensorflow.org/api_docs/python/tf/layers) or [TensorFlow Layers (contrib)](https://www.tensorflow.org/api_guides/python/contrib.layers) packages for this layer. For more of a challenge, only use other TensorFlow packages."
   ]
  },
  {
   "cell_type": "code",
   "execution_count": 10,
   "metadata": {},
   "outputs": [
    {
     "name": "stdout",
     "output_type": "stream",
     "text": [
      "Tests Passed\n"
     ]
    }
   ],
   "source": [
    "def flatten(x_tensor):\n",
    "    \"\"\"\n",
    "    Flatten x_tensor to (Batch Size, Flattened Image Size)\n",
    "    : x_tensor: A tensor of size (Batch Size, ...), where ... are the image dimensions.\n",
    "    : return: A tensor of size (Batch Size, Flattened Image Size).\n",
    "    \"\"\"\n",
    "    return tf.contrib.layers.flatten(x_tensor)\n",
    "\n",
    "\n",
    "\"\"\"\n",
    "DON'T MODIFY ANYTHING IN THIS CELL THAT IS BELOW THIS LINE\n",
    "\"\"\"\n",
    "tests.test_flatten(flatten)"
   ]
  },
  {
   "cell_type": "markdown",
   "metadata": {},
   "source": [
    "### Fully-Connected Layer\n",
    "Implement the `fully_conn` function to apply a fully connected layer to `x_tensor` with the shape (*Batch Size*, *num_outputs*). Shortcut option: you can use classes from the [TensorFlow Layers](https://www.tensorflow.org/api_docs/python/tf/layers) or [TensorFlow Layers (contrib)](https://www.tensorflow.org/api_guides/python/contrib.layers) packages for this layer. For more of a challenge, only use other TensorFlow packages."
   ]
  },
  {
   "cell_type": "code",
   "execution_count": 60,
   "metadata": {
    "collapsed": true
   },
   "outputs": [],
   "source": [
    "# fully conn without activation\n",
    "\n",
    "def fully_conn_without_activation(x_tensor, num_outputs):\n",
    "    \"\"\"\n",
    "    Apply a fully connected layer to x_tensor using weight and bias\n",
    "    : x_tensor: A 2-D tensor where the first dimension is batch size.\n",
    "    : num_outputs: The number of output that the new tensor should be.\n",
    "    : return: A 2-D tensor where the second dimension is num_outputs.\n",
    "    \"\"\"\n",
    "    weight = tf.Variable(tf.truncated_normal([int(x_tensor.shape[1]), num_outputs],\n",
    "                         stddev=1.0 / math.sqrt(float(int(x_tensor.shape[1])))))\n",
    "    bias = tf.Variable(tf.truncated_normal([num_outputs]))\n",
    "\n",
    "    return tf.add(tf.matmul(x_tensor, weight), bias)"
   ]
  },
  {
   "cell_type": "code",
   "execution_count": 61,
   "metadata": {},
   "outputs": [
    {
     "name": "stdout",
     "output_type": "stream",
     "text": [
      "Tests Passed\n"
     ]
    }
   ],
   "source": [
    "\n",
    "def fully_conn(x_tensor, num_outputs):\n",
    "    \"\"\"\n",
    "    Apply a fully connected layer to x_tensor using weight and bias\n",
    "    : x_tensor: A 2-D tensor where the first dimension is batch size.\n",
    "    : num_outputs: The number of output that the new tensor should be.\n",
    "    : return: A 2-D tensor where the second dimension is num_outputs.\n",
    "    \"\"\"\n",
    "    return tf.nn.relu(fully_conn_without_activation(x_tensor, num_outputs))\n",
    "\n",
    "\n",
    "\"\"\"\n",
    "DON'T MODIFY ANYTHING IN THIS CELL THAT IS BELOW THIS LINE\n",
    "\"\"\"\n",
    "tests.test_fully_conn(fully_conn)"
   ]
  },
  {
   "cell_type": "markdown",
   "metadata": {},
   "source": [
    "### Output Layer\n",
    "Implement the `output` function to apply a fully connected layer to `x_tensor` with the shape (*Batch Size*, *num_outputs*). Shortcut option: you can use classes from the [TensorFlow Layers](https://www.tensorflow.org/api_docs/python/tf/layers) or [TensorFlow Layers (contrib)](https://www.tensorflow.org/api_guides/python/contrib.layers) packages for this layer. For more of a challenge, only use other TensorFlow packages.\n",
    "\n",
    "**Note:** Activation, softmax, or cross entropy should **not** be applied to this."
   ]
  },
  {
   "cell_type": "code",
   "execution_count": 62,
   "metadata": {},
   "outputs": [
    {
     "name": "stdout",
     "output_type": "stream",
     "text": [
      "Tests Passed\n"
     ]
    }
   ],
   "source": [
    "def output(x_tensor, num_outputs):\n",
    "    \"\"\"\n",
    "    Apply a output layer to x_tensor using weight and bias\n",
    "    : x_tensor: A 2-D tensor where the first dimension is batch size.\n",
    "    : num_outputs: The number of output that the new tensor should be.\n",
    "    : return: A 2-D tensor where the second dimension is num_outputs.\n",
    "    \"\"\"\n",
    "    return fully_conn_without_activation(x_tensor, num_outputs)\n",
    "\n",
    "\n",
    "\"\"\"\n",
    "DON'T MODIFY ANYTHING IN THIS CELL THAT IS BELOW THIS LINE\n",
    "\"\"\"\n",
    "tests.test_output(output)"
   ]
  },
  {
   "cell_type": "markdown",
   "metadata": {},
   "source": [
    "### Create Convolutional Model\n",
    "Implement the function `conv_net` to create a convolutional neural network model. The function takes in a batch of images, `x`, and outputs logits.  Use the layers you created above to create this model:\n",
    "\n",
    "* Apply 1, 2, or 3 Convolution and Max Pool layers\n",
    "* Apply a Flatten Layer\n",
    "* Apply 1, 2, or 3 Fully Connected Layers\n",
    "* Apply an Output Layer\n",
    "* Return the output\n",
    "* Apply [TensorFlow's Dropout](https://www.tensorflow.org/api_docs/python/tf/nn/dropout) to one or more layers in the model using `keep_prob`. "
   ]
  },
  {
   "cell_type": "code",
   "execution_count": 67,
   "metadata": {},
   "outputs": [
    {
     "name": "stdout",
     "output_type": "stream",
     "text": [
      "Neural Network Built!\n"
     ]
    }
   ],
   "source": [
    "def conv_net(x, keep_prob):\n",
    "    \"\"\"\n",
    "    Create a convolutional neural network model\n",
    "    : x: Placeholder tensor that holds image data.\n",
    "    : keep_prob: Placeholder tensor that hold dropout keep probability.\n",
    "    : return: Tensor that represents logits\n",
    "    \"\"\"\n",
    "    # TODO: Apply 1, 2, or 3 Convolution and Max Pool layers\n",
    "    #    Play around with different number of outputs, kernel size and stride\n",
    "   \n",
    "    # Function Definition from Above:\n",
    "    #    conv2d_maxpool(x_tensor, conv_num_outputs, conv_ksize, conv_strides, pool_ksize, pool_strides)\n",
    "    \n",
    "    # first layer of convolution/max pool\n",
    "    x_tensor = conv2d_maxpool(x, 100, (3, 3), (1,1), (2,2), (2,2))\n",
    "    \n",
    "    # second layer of convolution/max pool\n",
    "    x_tensor = conv2d_maxpool(x_tensor, 200, (3, 3), (1,1), (2,2), (2,2))\n",
    "    \n",
    "    # 3rd conv/max pool layer\n",
    "    x_tensor = conv2d_maxpool(x_tensor, 300, (3, 3), (1,1), (2,2), (1,1))\n",
    "\n",
    "    # Apply a Flatten Layer\n",
    "    x_tensor = flatten(x_tensor)\n",
    "    \n",
    "\n",
    "    # Apply 1, 2, or 3 Fully Connected Layers\n",
    "    # Play around with different number of outputs\n",
    "    \n",
    "    num_outputs = 10\n",
    "    # FC1\n",
    "    x_tensor = fully_conn(x_tensor, 10*num_outputs)\n",
    "    # dropout    \n",
    "    x_tensor = tf.nn.dropout(x_tensor, keep_prob)\n",
    "\n",
    "    # FC2\n",
    "    x_tensor = fully_conn(x_tensor, 3*num_outputs)\n",
    "    \n",
    "    # Apply an Output Layer\n",
    "    x_tensor = output(x_tensor, num_outputs)\n",
    "    \n",
    "    \n",
    "    # TODO: return output\n",
    "    return x_tensor\n",
    "\n",
    "\n",
    "\"\"\"\n",
    "DON'T MODIFY ANYTHING IN THIS CELL THAT IS BELOW THIS LINE\n",
    "\"\"\"\n",
    "\n",
    "##############################\n",
    "## Build the Neural Network ##\n",
    "##############################\n",
    "\n",
    "# Remove previous weights, bias, inputs, etc..\n",
    "tf.reset_default_graph()\n",
    "\n",
    "# Inputs\n",
    "x = neural_net_image_input((32, 32, 3))\n",
    "y = neural_net_label_input(10)\n",
    "keep_prob = neural_net_keep_prob_input()\n",
    "\n",
    "# Model\n",
    "logits = conv_net(x, keep_prob)\n",
    "\n",
    "# Name logits Tensor, so that is can be loaded from disk after training\n",
    "logits = tf.identity(logits, name='logits')\n",
    "\n",
    "# Loss and Optimizer\n",
    "cost = tf.reduce_mean(tf.nn.softmax_cross_entropy_with_logits(logits=logits, labels=y))\n",
    "optimizer = tf.train.AdamOptimizer().minimize(cost)\n",
    "\n",
    "# Accuracy\n",
    "correct_pred = tf.equal(tf.argmax(logits, 1), tf.argmax(y, 1))\n",
    "accuracy = tf.reduce_mean(tf.cast(correct_pred, tf.float32), name='accuracy')\n",
    "\n",
    "tests.test_conv_net(conv_net)"
   ]
  },
  {
   "cell_type": "markdown",
   "metadata": {},
   "source": [
    "## Train the Neural Network\n",
    "### Single Optimization\n",
    "Implement the function `train_neural_network` to do a single optimization.  The optimization should use `optimizer` to optimize in `session` with a `feed_dict` of the following:\n",
    "* `x` for image input\n",
    "* `y` for labels\n",
    "* `keep_prob` for keep probability for dropout\n",
    "\n",
    "This function will be called for each batch, so `tf.global_variables_initializer()` has already been called.\n",
    "\n",
    "Note: Nothing needs to be returned. This function is only optimizing the neural network."
   ]
  },
  {
   "cell_type": "code",
   "execution_count": 72,
   "metadata": {},
   "outputs": [
    {
     "name": "stdout",
     "output_type": "stream",
     "text": [
      "Tests Passed\n"
     ]
    }
   ],
   "source": [
    "def train_neural_network(session, optimizer, keep_probability, feature_batch, label_batch):\n",
    "    \"\"\"\n",
    "    Optimize the session on a batch of images and labels\n",
    "    : session: Current TensorFlow session\n",
    "    : optimizer: TensorFlow optimizer function\n",
    "    : keep_probability: keep probability\n",
    "    : feature_batch: Batch of Numpy image data\n",
    "    : label_batch: Batch of Numpy label data\n",
    "    \"\"\"\n",
    "    session.run(optimizer, feed_dict={x: feature_batch, y: label_batch, keep_prob: keep_probability})\n",
    "\n",
    "\n",
    "\"\"\"\n",
    "DON'T MODIFY ANYTHING IN THIS CELL THAT IS BELOW THIS LINE\n",
    "\"\"\"\n",
    "tests.test_train_nn(train_neural_network)"
   ]
  },
  {
   "cell_type": "markdown",
   "metadata": {},
   "source": [
    "### Show Stats\n",
    "Implement the function `print_stats` to print loss and validation accuracy.  Use the global variables `valid_features` and `valid_labels` to calculate validation accuracy.  Use a keep probability of `1.0` to calculate the loss and validation accuracy."
   ]
  },
  {
   "cell_type": "code",
   "execution_count": 76,
   "metadata": {
    "collapsed": true
   },
   "outputs": [],
   "source": [
    "def print_stats(session, feature_batch, label_batch, cost, accuracy):\n",
    "    \"\"\"\n",
    "    Print information about loss and validation accuracy\n",
    "    : session: Current TensorFlow session\n",
    "    : feature_batch: Batch of Numpy image data\n",
    "    : label_batch: Batch of Numpy label data\n",
    "    : cost: TensorFlow cost function\n",
    "    : accuracy: TensorFlow accuracy function\n",
    "    \"\"\"\n",
    "    cost = session.run(cost, feed_dict={x: feature_batch, y: label_batch, keep_prob: 1.})\n",
    "    accuracy = session.run(accuracy, feed_dict={x: valid_features, y: valid_labels, keep_prob:1.})\n",
    "    \n",
    "    print(\"cost: {cost}, accuracy: {accuracy}\".format(cost=cost, accuracy=accuracy))\n",
    "    return cost, accuracy"
   ]
  },
  {
   "cell_type": "markdown",
   "metadata": {},
   "source": [
    "### Hyperparameters\n",
    "Tune the following parameters:\n",
    "* Set `epochs` to the number of iterations until the network stops learning or start overfitting\n",
    "* Set `batch_size` to the highest number that your machine has memory for.  Most people set them to common sizes of memory:\n",
    " * 64\n",
    " * 128\n",
    " * 256\n",
    " * ...\n",
    "* Set `keep_probability` to the probability of keeping a node using dropout"
   ]
  },
  {
   "cell_type": "code",
   "execution_count": 77,
   "metadata": {
    "collapsed": true
   },
   "outputs": [],
   "source": [
    "# TODO: Tune Parameters\n",
    "epochs = 80\n",
    "batch_size = 512\n",
    "keep_probability = 0.8"
   ]
  },
  {
   "cell_type": "markdown",
   "metadata": {},
   "source": [
    "### Train on a Single CIFAR-10 Batch\n",
    "Instead of training the neural network on all the CIFAR-10 batches of data, let's use a single batch. This should save time while you iterate on the model to get a better accuracy.  Once the final validation accuracy is 50% or greater, run the model on all the data in the next section."
   ]
  },
  {
   "cell_type": "code",
   "execution_count": 78,
   "metadata": {},
   "outputs": [
    {
     "name": "stdout",
     "output_type": "stream",
     "text": [
      "Checking the Training on a Single Batch...\n",
      "Epoch  1, CIFAR-10 Batch 1:  cost: 2.24735164642334, accuracy: 0.20880000293254852\n",
      "Epoch  2, CIFAR-10 Batch 1:  cost: 2.017549991607666, accuracy: 0.2802000045776367\n",
      "Epoch  3, CIFAR-10 Batch 1:  cost: 1.8510900735855103, accuracy: 0.38600000739097595\n",
      "Epoch  4, CIFAR-10 Batch 1:  cost: 1.680985927581787, accuracy: 0.4251999855041504\n",
      "Epoch  5, CIFAR-10 Batch 1:  cost: 1.6339377164840698, accuracy: 0.41600000858306885\n",
      "Epoch  6, CIFAR-10 Batch 1:  cost: 1.5341596603393555, accuracy: 0.459199994802475\n",
      "Epoch  7, CIFAR-10 Batch 1:  cost: 1.4559098482131958, accuracy: 0.47699999809265137\n",
      "Epoch  8, CIFAR-10 Batch 1:  cost: 1.38729727268219, accuracy: 0.4966000020503998\n",
      "Epoch  9, CIFAR-10 Batch 1:  cost: 1.3708927631378174, accuracy: 0.4697999954223633\n",
      "Epoch 10, CIFAR-10 Batch 1:  cost: 1.2876665592193604, accuracy: 0.4975999891757965\n",
      "Epoch 11, CIFAR-10 Batch 1:  cost: 1.237547755241394, accuracy: 0.4952000081539154\n",
      "Epoch 12, CIFAR-10 Batch 1:  cost: 1.137935757637024, accuracy: 0.5288000106811523\n",
      "Epoch 13, CIFAR-10 Batch 1:  cost: 1.1107134819030762, accuracy: 0.5181999802589417\n",
      "Epoch 14, CIFAR-10 Batch 1:  cost: 1.0498387813568115, accuracy: 0.5382000207901001\n",
      "Epoch 15, CIFAR-10 Batch 1:  cost: 0.9651002883911133, accuracy: 0.5486000180244446\n",
      "Epoch 16, CIFAR-10 Batch 1:  cost: 0.9573917984962463, accuracy: 0.5479999780654907\n",
      "Epoch 17, CIFAR-10 Batch 1:  cost: 0.8712289333343506, accuracy: 0.5594000220298767\n",
      "Epoch 18, CIFAR-10 Batch 1:  cost: 0.8796030282974243, accuracy: 0.5483999848365784\n",
      "Epoch 19, CIFAR-10 Batch 1:  cost: 0.7996167540550232, accuracy: 0.5631999969482422\n",
      "Epoch 20, CIFAR-10 Batch 1:  cost: 0.8032206892967224, accuracy: 0.5461999773979187\n",
      "Epoch 21, CIFAR-10 Batch 1:  cost: 0.7364438772201538, accuracy: 0.5667999982833862\n",
      "Epoch 22, CIFAR-10 Batch 1:  cost: 0.6926084756851196, accuracy: 0.5691999793052673\n",
      "Epoch 23, CIFAR-10 Batch 1:  cost: 0.6919354200363159, accuracy: 0.5609999895095825\n",
      "Epoch 24, CIFAR-10 Batch 1:  cost: 0.6689348220825195, accuracy: 0.5672000050544739\n",
      "Epoch 25, CIFAR-10 Batch 1:  cost: 0.6174792647361755, accuracy: 0.5594000220298767\n",
      "Epoch 26, CIFAR-10 Batch 1:  cost: 0.637172520160675, accuracy: 0.5436000227928162\n",
      "Epoch 27, CIFAR-10 Batch 1:  cost: 0.5739005208015442, accuracy: 0.569599986076355\n",
      "Epoch 28, CIFAR-10 Batch 1:  cost: 0.5907310247421265, accuracy: 0.5568000078201294\n",
      "Epoch 29, CIFAR-10 Batch 1:  cost: 0.4875534772872925, accuracy: 0.5813999772071838\n",
      "Epoch 30, CIFAR-10 Batch 1:  cost: 0.4621979594230652, accuracy: 0.5835999846458435\n",
      "Epoch 31, CIFAR-10 Batch 1:  cost: 0.41088512539863586, accuracy: 0.5835999846458435\n",
      "Epoch 32, CIFAR-10 Batch 1:  cost: 0.39065712690353394, accuracy: 0.5776000022888184\n",
      "Epoch 33, CIFAR-10 Batch 1:  cost: 0.3510931134223938, accuracy: 0.5853999853134155\n",
      "Epoch 34, CIFAR-10 Batch 1:  cost: 0.32137414813041687, accuracy: 0.5813999772071838\n",
      "Epoch 35, CIFAR-10 Batch 1:  cost: 0.33812347054481506, accuracy: 0.5672000050544739\n",
      "Epoch 36, CIFAR-10 Batch 1:  cost: 0.2895132601261139, accuracy: 0.5888000130653381\n",
      "Epoch 37, CIFAR-10 Batch 1:  cost: 0.2899351716041565, accuracy: 0.5952000021934509\n",
      "Epoch 38, CIFAR-10 Batch 1:  cost: 0.2978145182132721, accuracy: 0.5730000138282776\n",
      "Epoch 39, CIFAR-10 Batch 1:  cost: 0.26790088415145874, accuracy: 0.5684000253677368\n",
      "Epoch 40, CIFAR-10 Batch 1:  cost: 0.272518515586853, accuracy: 0.5598000288009644\n",
      "Epoch 41, CIFAR-10 Batch 1:  cost: 0.2784654200077057, accuracy: 0.5813999772071838\n",
      "Epoch 42, CIFAR-10 Batch 1:  cost: 0.24621352553367615, accuracy: 0.579800009727478\n",
      "Epoch 43, CIFAR-10 Batch 1:  cost: 0.3662286102771759, accuracy: 0.5465999841690063\n",
      "Epoch 44, CIFAR-10 Batch 1:  cost: 0.23103611171245575, accuracy: 0.5562000274658203\n",
      "Epoch 45, CIFAR-10 Batch 1:  cost: 0.20620758831501007, accuracy: 0.5789999961853027\n",
      "Epoch 46, CIFAR-10 Batch 1:  cost: 0.17411862313747406, accuracy: 0.5871999859809875\n",
      "Epoch 47, CIFAR-10 Batch 1:  cost: 0.17851336300373077, accuracy: 0.5857999920845032\n",
      "Epoch 48, CIFAR-10 Batch 1:  cost: 0.16558025777339935, accuracy: 0.5766000151634216\n",
      "Epoch 49, CIFAR-10 Batch 1:  cost: 0.15630696713924408, accuracy: 0.58160001039505\n",
      "Epoch 50, CIFAR-10 Batch 1:  cost: 0.11987347155809402, accuracy: 0.5759999752044678\n",
      "Epoch 51, CIFAR-10 Batch 1:  cost: 0.1275424212217331, accuracy: 0.5702000260353088\n",
      "Epoch 52, CIFAR-10 Batch 1:  cost: 0.1248793751001358, accuracy: 0.5633999705314636\n",
      "Epoch 53, CIFAR-10 Batch 1:  cost: 0.12059605866670609, accuracy: 0.5726000070571899\n",
      "Epoch 54, CIFAR-10 Batch 1:  cost: 0.1020059585571289, accuracy: 0.5727999806404114\n",
      "Epoch 55, CIFAR-10 Batch 1:  cost: 0.10420316457748413, accuracy: 0.5853999853134155\n",
      "Epoch 56, CIFAR-10 Batch 1:  cost: 0.12152330577373505, accuracy: 0.5771999955177307\n",
      "Epoch 57, CIFAR-10 Batch 1:  cost: 0.1186290979385376, accuracy: 0.5785999894142151\n",
      "Epoch 58, CIFAR-10 Batch 1:  cost: 0.10199029743671417, accuracy: 0.5834000110626221\n",
      "Epoch 59, CIFAR-10 Batch 1:  cost: 0.07954682409763336, accuracy: 0.5881999731063843\n",
      "Epoch 60, CIFAR-10 Batch 1:  cost: 0.0675898939371109, accuracy: 0.5878000259399414\n",
      "Epoch 61, CIFAR-10 Batch 1:  cost: 0.056941818445920944, accuracy: 0.5860000252723694\n",
      "Epoch 62, CIFAR-10 Batch 1:  cost: 0.0562315359711647, accuracy: 0.5842000246047974\n",
      "Epoch 63, CIFAR-10 Batch 1:  cost: 0.05376242473721504, accuracy: 0.5727999806404114\n",
      "Epoch 64, CIFAR-10 Batch 1:  cost: 0.08535025268793106, accuracy: 0.5559999942779541\n",
      "Epoch 65, CIFAR-10 Batch 1:  cost: 0.08630110323429108, accuracy: 0.555400013923645\n",
      "Epoch 66, CIFAR-10 Batch 1:  cost: 0.06706096976995468, accuracy: 0.5734000205993652\n",
      "Epoch 67, CIFAR-10 Batch 1:  cost: 0.04680737107992172, accuracy: 0.5871999859809875\n",
      "Epoch 68, CIFAR-10 Batch 1:  cost: 0.03452134504914284, accuracy: 0.593999981880188\n",
      "Epoch 69, CIFAR-10 Batch 1:  cost: 0.022724315524101257, accuracy: 0.5896000266075134\n",
      "Epoch 70, CIFAR-10 Batch 1:  cost: 0.02086680382490158, accuracy: 0.5950000286102295\n",
      "Epoch 71, CIFAR-10 Batch 1:  cost: 0.023986639454960823, accuracy: 0.5928000211715698\n",
      "Epoch 72, CIFAR-10 Batch 1:  cost: 0.023129671812057495, accuracy: 0.5925999879837036\n",
      "Epoch 73, CIFAR-10 Batch 1:  cost: 0.02544858306646347, accuracy: 0.5835999846458435\n",
      "Epoch 74, CIFAR-10 Batch 1:  cost: 0.018628602847456932, accuracy: 0.5879999995231628\n",
      "Epoch 75, CIFAR-10 Batch 1:  cost: 0.025322729721665382, accuracy: 0.5776000022888184\n",
      "Epoch 76, CIFAR-10 Batch 1:  cost: 0.02002149634063244, accuracy: 0.5770000219345093\n",
      "Epoch 77, CIFAR-10 Batch 1:  cost: 0.029991449788212776, accuracy: 0.569599986076355\n",
      "Epoch 78, CIFAR-10 Batch 1:  cost: 0.029679549857974052, accuracy: 0.5803999900817871\n",
      "Epoch 79, CIFAR-10 Batch 1:  cost: 0.02043325826525688, accuracy: 0.5866000056266785\n",
      "Epoch 80, CIFAR-10 Batch 1:  cost: 0.013582189567387104, accuracy: 0.5928000211715698\n"
     ]
    }
   ],
   "source": [
    "learning_evolution = []\n",
    "\"\"\"\n",
    "DON'T MODIFY ANYTHING IN THIS CELL\n",
    "\"\"\"\n",
    "print('Checking the Training on a Single Batch...')\n",
    "with tf.Session() as sess:\n",
    "    # Initializing the variables\n",
    "    sess.run(tf.global_variables_initializer())\n",
    "    \n",
    "    # Training cycle\n",
    "    for epoch in range(epochs):\n",
    "        batch_i = 1\n",
    "        for batch_features, batch_labels in helper.load_preprocess_training_batch(batch_i, batch_size):\n",
    "            train_neural_network(sess, optimizer, keep_probability, batch_features, batch_labels)\n",
    "        print('Epoch {:>2}, CIFAR-10 Batch {}:  '.format(epoch + 1, batch_i), end='')\n",
    "        learning_evolution.append(tuple(print_stats(sess, batch_features, batch_labels, cost, accuracy)))"
   ]
  },
  {
   "cell_type": "code",
   "execution_count": 79,
   "metadata": {},
   "outputs": [
    {
     "data": {
      "text/plain": [
       "[<matplotlib.lines.Line2D at 0x7f1edce1bcf8>]"
      ]
     },
     "execution_count": 79,
     "metadata": {},
     "output_type": "execute_result"
    },
    {
     "data": {
      "image/png": "[encoded data removed]",
      "text/plain": [
       "<matplotlib.figure.Figure at 0x7f1edce1bd68>"
      ]
     },
     "metadata": {
      "image/png": {
       "height": 250,
       "width": 373
      }
     },
     "output_type": "display_data"
    }
   ],
   "source": [
    "import matplotlib.pyplot as plt\n",
    "cost_, acc_ = zip(*learning_evolution)\n",
    "plt.plot ( acc_)\n",
    "plt.plot(cost_)"
   ]
  },
  {
   "cell_type": "markdown",
   "metadata": {},
   "source": [
    "### Fully Train the Model\n",
    "Now that you got a good accuracy with a single CIFAR-10 batch, try it with all five batches."
   ]
  },
  {
   "cell_type": "code",
   "execution_count": 80,
   "metadata": {
    "collapsed": true
   },
   "outputs": [],
   "source": [
    "learning_evolution = []"
   ]
  },
  {
   "cell_type": "code",
   "execution_count": 81,
   "metadata": {},
   "outputs": [
    {
     "name": "stdout",
     "output_type": "stream",
     "text": [
      "Training...\n",
      "Epoch  1, CIFAR-10 Batch 1:  cost: 2.3596956729888916, accuracy: 0.09619999676942825\n",
      "Epoch  1, CIFAR-10 Batch 2:  cost: 2.201289415359497, accuracy: 0.18459999561309814\n",
      "Epoch  1, CIFAR-10 Batch 3:  cost: 1.9650462865829468, accuracy: 0.26579999923706055\n",
      "Epoch  1, CIFAR-10 Batch 4:  cost: 1.8588652610778809, accuracy: 0.3125999867916107\n",
      "Epoch  1, CIFAR-10 Batch 5:  cost: 1.8184025287628174, accuracy: 0.33399999141693115\n",
      "Epoch  2, CIFAR-10 Batch 1:  cost: 1.792716383934021, accuracy: 0.3917999863624573\n",
      "Epoch  2, CIFAR-10 Batch 2:  cost: 1.6192243099212646, accuracy: 0.42320001125335693\n",
      "Epoch  2, CIFAR-10 Batch 3:  cost: 1.4815917015075684, accuracy: 0.43560001254081726\n",
      "Epoch  2, CIFAR-10 Batch 4:  cost: 1.4288854598999023, accuracy: 0.46299999952316284\n",
      "Epoch  2, CIFAR-10 Batch 5:  cost: 1.4235975742340088, accuracy: 0.47679999470710754\n",
      "Epoch  3, CIFAR-10 Batch 1:  cost: 1.5012073516845703, accuracy: 0.5120000243186951\n",
      "Epoch  3, CIFAR-10 Batch 2:  cost: 1.3228155374526978, accuracy: 0.5202000141143799\n",
      "Epoch  3, CIFAR-10 Batch 3:  cost: 1.1985186338424683, accuracy: 0.5094000101089478\n",
      "Epoch  3, CIFAR-10 Batch 4:  cost: 1.1677618026733398, accuracy: 0.5249999761581421\n",
      "Epoch  3, CIFAR-10 Batch 5:  cost: 1.2545207738876343, accuracy: 0.5210000276565552\n",
      "Epoch  4, CIFAR-10 Batch 1:  cost: 1.3236360549926758, accuracy: 0.532800018787384\n",
      "Epoch  4, CIFAR-10 Batch 2:  cost: 1.2117012739181519, accuracy: 0.5541999936103821\n",
      "Epoch  4, CIFAR-10 Batch 3:  cost: 1.065477728843689, accuracy: 0.553600013256073\n",
      "Epoch  4, CIFAR-10 Batch 4:  cost: 1.0561602115631104, accuracy: 0.5504000186920166\n",
      "Epoch  4, CIFAR-10 Batch 5:  cost: 1.1315906047821045, accuracy: 0.5601999759674072\n",
      "Epoch  5, CIFAR-10 Batch 1:  cost: 1.1626908779144287, accuracy: 0.5771999955177307\n",
      "Epoch  5, CIFAR-10 Batch 2:  cost: 1.0991679430007935, accuracy: 0.5827999711036682\n",
      "Epoch  5, CIFAR-10 Batch 3:  cost: 0.9404298067092896, accuracy: 0.6010000109672546\n",
      "Epoch  5, CIFAR-10 Batch 4:  cost: 0.9289101362228394, accuracy: 0.5992000102996826\n",
      "Epoch  5, CIFAR-10 Batch 5:  cost: 1.0525953769683838, accuracy: 0.5856000185012817\n",
      "Epoch  6, CIFAR-10 Batch 1:  cost: 1.0468896627426147, accuracy: 0.6001999974250793\n",
      "Epoch  6, CIFAR-10 Batch 2:  cost: 0.9739120006561279, accuracy: 0.6001999974250793\n",
      "Epoch  6, CIFAR-10 Batch 3:  cost: 0.8751935958862305, accuracy: 0.6155999898910522\n",
      "Epoch  6, CIFAR-10 Batch 4:  cost: 0.8344852328300476, accuracy: 0.6186000108718872\n",
      "Epoch  6, CIFAR-10 Batch 5:  cost: 0.9384223222732544, accuracy: 0.6323999762535095\n",
      "Epoch  7, CIFAR-10 Batch 1:  cost: 0.9585171341896057, accuracy: 0.6236000061035156\n",
      "Epoch  7, CIFAR-10 Batch 2:  cost: 0.8948005437850952, accuracy: 0.6205999851226807\n",
      "Epoch  7, CIFAR-10 Batch 3:  cost: 0.8064308166503906, accuracy: 0.6309999823570251\n",
      "Epoch  7, CIFAR-10 Batch 4:  cost: 0.7950584888458252, accuracy: 0.6269999742507935\n",
      "Epoch  7, CIFAR-10 Batch 5:  cost: 0.8529906272888184, accuracy: 0.6430000066757202\n",
      "Epoch  8, CIFAR-10 Batch 1:  cost: 0.8563647866249084, accuracy: 0.6295999884605408\n",
      "Epoch  8, CIFAR-10 Batch 2:  cost: 0.8269447088241577, accuracy: 0.6277999877929688\n",
      "Epoch  8, CIFAR-10 Batch 3:  cost: 0.7206866145133972, accuracy: 0.6521999835968018\n",
      "Epoch  8, CIFAR-10 Batch 4:  cost: 0.7186024785041809, accuracy: 0.6502000093460083\n",
      "Epoch  8, CIFAR-10 Batch 5:  cost: 0.7819761037826538, accuracy: 0.6531999707221985\n",
      "Epoch  9, CIFAR-10 Batch 1:  cost: 0.7824167013168335, accuracy: 0.6543999910354614\n",
      "Epoch  9, CIFAR-10 Batch 2:  cost: 0.7513517141342163, accuracy: 0.650600016117096\n",
      "Epoch  9, CIFAR-10 Batch 3:  cost: 0.6878242492675781, accuracy: 0.642799973487854\n",
      "Epoch  9, CIFAR-10 Batch 4:  cost: 0.7194297313690186, accuracy: 0.6395999789237976\n",
      "Epoch  9, CIFAR-10 Batch 5:  cost: 0.7193819284439087, accuracy: 0.6620000004768372\n",
      "Epoch 10, CIFAR-10 Batch 1:  cost: 0.765893280506134, accuracy: 0.6582000255584717\n",
      "Epoch 10, CIFAR-10 Batch 2:  cost: 0.7017545700073242, accuracy: 0.6538000106811523\n",
      "Epoch 10, CIFAR-10 Batch 3:  cost: 0.6260131597518921, accuracy: 0.6485999822616577\n",
      "Epoch 10, CIFAR-10 Batch 4:  cost: 0.6375203132629395, accuracy: 0.6582000255584717\n",
      "Epoch 10, CIFAR-10 Batch 5:  cost: 0.6806090474128723, accuracy: 0.6625999808311462\n",
      "Epoch 11, CIFAR-10 Batch 1:  cost: 0.7174481153488159, accuracy: 0.6528000235557556\n",
      "Epoch 11, CIFAR-10 Batch 2:  cost: 0.6675401926040649, accuracy: 0.6668000221252441\n",
      "Epoch 11, CIFAR-10 Batch 3:  cost: 0.5563942193984985, accuracy: 0.678600013256073\n",
      "Epoch 11, CIFAR-10 Batch 4:  cost: 0.5656102299690247, accuracy: 0.6725999712944031\n",
      "Epoch 11, CIFAR-10 Batch 5:  cost: 0.6010114550590515, accuracy: 0.6818000078201294\n",
      "Epoch 12, CIFAR-10 Batch 1:  cost: 0.7229474186897278, accuracy: 0.6425999999046326\n",
      "Epoch 12, CIFAR-10 Batch 2:  cost: 0.6235018372535706, accuracy: 0.6796000003814697\n",
      "Epoch 12, CIFAR-10 Batch 3:  cost: 0.5324116349220276, accuracy: 0.6693999767303467\n",
      "Epoch 12, CIFAR-10 Batch 4:  cost: 0.5146815180778503, accuracy: 0.6801999807357788\n",
      "Epoch 12, CIFAR-10 Batch 5:  cost: 0.5684328079223633, accuracy: 0.675000011920929\n",
      "Epoch 13, CIFAR-10 Batch 1:  cost: 0.6187264323234558, accuracy: 0.6656000018119812\n",
      "Epoch 13, CIFAR-10 Batch 2:  cost: 0.5780363082885742, accuracy: 0.6826000213623047\n",
      "Epoch 13, CIFAR-10 Batch 3:  cost: 0.45997801423072815, accuracy: 0.6850000023841858\n",
      "Epoch 13, CIFAR-10 Batch 4:  cost: 0.49261361360549927, accuracy: 0.6818000078201294\n",
      "Epoch 13, CIFAR-10 Batch 5:  cost: 0.4947052001953125, accuracy: 0.6863999962806702\n",
      "Epoch 14, CIFAR-10 Batch 1:  cost: 0.5738161206245422, accuracy: 0.6876000165939331\n",
      "Epoch 14, CIFAR-10 Batch 2:  cost: 0.5600506067276001, accuracy: 0.6779999732971191\n",
      "Epoch 14, CIFAR-10 Batch 3:  cost: 0.4187701940536499, accuracy: 0.6973999738693237\n",
      "Epoch 14, CIFAR-10 Batch 4:  cost: 0.4339832663536072, accuracy: 0.6851999759674072\n",
      "Epoch 14, CIFAR-10 Batch 5:  cost: 0.506576418876648, accuracy: 0.6887999773025513\n",
      "Epoch 15, CIFAR-10 Batch 1:  cost: 0.5312323570251465, accuracy: 0.6859999895095825\n",
      "Epoch 15, CIFAR-10 Batch 2:  cost: 0.5418275594711304, accuracy: 0.6858000159263611\n",
      "Epoch 15, CIFAR-10 Batch 3:  cost: 0.3904965817928314, accuracy: 0.7026000022888184\n",
      "Epoch 15, CIFAR-10 Batch 4:  cost: 0.3918471336364746, accuracy: 0.6837999820709229\n",
      "Epoch 15, CIFAR-10 Batch 5:  cost: 0.44455811381340027, accuracy: 0.6869999766349792\n",
      "Epoch 16, CIFAR-10 Batch 1:  cost: 0.4828050434589386, accuracy: 0.6973999738693237\n",
      "Epoch 16, CIFAR-10 Batch 2:  cost: 0.431758314371109, accuracy: 0.6998000144958496\n",
      "Epoch 16, CIFAR-10 Batch 3:  cost: 0.3729687035083771, accuracy: 0.6995999813079834\n",
      "Epoch 16, CIFAR-10 Batch 4:  cost: 0.3578827381134033, accuracy: 0.6876000165939331\n",
      "Epoch 16, CIFAR-10 Batch 5:  cost: 0.4131670594215393, accuracy: 0.6850000023841858\n",
      "Epoch 17, CIFAR-10 Batch 1:  cost: 0.43776145577430725, accuracy: 0.6970000267028809\n",
      "Epoch 17, CIFAR-10 Batch 2:  cost: 0.39105743169784546, accuracy: 0.7062000036239624\n",
      "Epoch 17, CIFAR-10 Batch 3:  cost: 0.3438180088996887, accuracy: 0.6901999711990356\n",
      "Epoch 17, CIFAR-10 Batch 4:  cost: 0.38516873121261597, accuracy: 0.6866000294685364\n",
      "Epoch 17, CIFAR-10 Batch 5:  cost: 0.3464278280735016, accuracy: 0.6958000063896179\n",
      "Epoch 18, CIFAR-10 Batch 1:  cost: 0.38731110095977783, accuracy: 0.699400007724762\n",
      "Epoch 18, CIFAR-10 Batch 2:  cost: 0.3645360767841339, accuracy: 0.703000009059906\n",
      "Epoch 18, CIFAR-10 Batch 3:  cost: 0.30690309405326843, accuracy: 0.7017999887466431\n",
      "Epoch 18, CIFAR-10 Batch 4:  cost: 0.33814987540245056, accuracy: 0.6790000200271606\n",
      "Epoch 18, CIFAR-10 Batch 5:  cost: 0.3680192828178406, accuracy: 0.6790000200271606\n",
      "Epoch 19, CIFAR-10 Batch 1:  cost: 0.39092665910720825, accuracy: 0.7026000022888184\n",
      "Epoch 19, CIFAR-10 Batch 2:  cost: 0.35879790782928467, accuracy: 0.6916000247001648\n",
      "Epoch 19, CIFAR-10 Batch 3:  cost: 0.2699052393436432, accuracy: 0.6977999806404114\n",
      "Epoch 19, CIFAR-10 Batch 4:  cost: 0.3022352457046509, accuracy: 0.6948000192642212\n",
      "Epoch 19, CIFAR-10 Batch 5:  cost: 0.3196117877960205, accuracy: 0.6967999935150146\n",
      "Epoch 20, CIFAR-10 Batch 1:  cost: 0.3411443829536438, accuracy: 0.7017999887466431\n",
      "Epoch 20, CIFAR-10 Batch 2:  cost: 0.3379248082637787, accuracy: 0.7075999975204468\n"
     ]
    },
    {
     "name": "stdout",
     "output_type": "stream",
     "text": [
      "Epoch 20, CIFAR-10 Batch 3:  cost: 0.2597510814666748, accuracy: 0.7049999833106995\n",
      "Epoch 20, CIFAR-10 Batch 4:  cost: 0.2879212498664856, accuracy: 0.6840000152587891\n",
      "Epoch 20, CIFAR-10 Batch 5:  cost: 0.3080460727214813, accuracy: 0.7016000151634216\n",
      "Epoch 21, CIFAR-10 Batch 1:  cost: 0.37758558988571167, accuracy: 0.6937999725341797\n",
      "Epoch 21, CIFAR-10 Batch 2:  cost: 0.29100942611694336, accuracy: 0.7167999744415283\n",
      "Epoch 21, CIFAR-10 Batch 3:  cost: 0.24382343888282776, accuracy: 0.6972000002861023\n",
      "Epoch 21, CIFAR-10 Batch 4:  cost: 0.24100525677204132, accuracy: 0.6931999921798706\n",
      "Epoch 21, CIFAR-10 Batch 5:  cost: 0.2863257825374603, accuracy: 0.6976000070571899\n",
      "Epoch 22, CIFAR-10 Batch 1:  cost: 0.3226695954799652, accuracy: 0.6967999935150146\n",
      "Epoch 22, CIFAR-10 Batch 2:  cost: 0.2590634524822235, accuracy: 0.7071999907493591\n",
      "Epoch 22, CIFAR-10 Batch 3:  cost: 0.26215824484825134, accuracy: 0.6858000159263611\n",
      "Epoch 22, CIFAR-10 Batch 4:  cost: 0.2255363017320633, accuracy: 0.6973999738693237\n",
      "Epoch 22, CIFAR-10 Batch 5:  cost: 0.2378825694322586, accuracy: 0.6991999745368958\n",
      "Epoch 23, CIFAR-10 Batch 1:  cost: 0.286644846200943, accuracy: 0.7074000239372253\n",
      "Epoch 23, CIFAR-10 Batch 2:  cost: 0.220359206199646, accuracy: 0.704800009727478\n",
      "Epoch 23, CIFAR-10 Batch 3:  cost: 0.2268727719783783, accuracy: 0.6940000057220459\n",
      "Epoch 23, CIFAR-10 Batch 4:  cost: 0.177163764834404, accuracy: 0.7044000029563904\n",
      "Epoch 23, CIFAR-10 Batch 5:  cost: 0.22147394716739655, accuracy: 0.7016000151634216\n",
      "Epoch 24, CIFAR-10 Batch 1:  cost: 0.2573087513446808, accuracy: 0.7045999765396118\n",
      "Epoch 24, CIFAR-10 Batch 2:  cost: 0.22461971640586853, accuracy: 0.6850000023841858\n",
      "Epoch 24, CIFAR-10 Batch 3:  cost: 0.20593617856502533, accuracy: 0.7034000158309937\n",
      "Epoch 24, CIFAR-10 Batch 4:  cost: 0.16713348031044006, accuracy: 0.7074000239372253\n",
      "Epoch 24, CIFAR-10 Batch 5:  cost: 0.16716936230659485, accuracy: 0.7008000016212463\n",
      "Epoch 25, CIFAR-10 Batch 1:  cost: 0.22573113441467285, accuracy: 0.699999988079071\n",
      "Epoch 25, CIFAR-10 Batch 2:  cost: 0.1883794516324997, accuracy: 0.6991999745368958\n",
      "Epoch 25, CIFAR-10 Batch 3:  cost: 0.16692374646663666, accuracy: 0.7080000042915344\n",
      "Epoch 25, CIFAR-10 Batch 4:  cost: 0.17923367023468018, accuracy: 0.6944000124931335\n",
      "Epoch 25, CIFAR-10 Batch 5:  cost: 0.1795579195022583, accuracy: 0.6743999719619751\n",
      "Epoch 26, CIFAR-10 Batch 1:  cost: 0.22652742266654968, accuracy: 0.6952000260353088\n",
      "Epoch 26, CIFAR-10 Batch 2:  cost: 0.18542104959487915, accuracy: 0.6926000118255615\n",
      "Epoch 26, CIFAR-10 Batch 3:  cost: 0.17985805869102478, accuracy: 0.7077999711036682\n",
      "Epoch 26, CIFAR-10 Batch 4:  cost: 0.1418803185224533, accuracy: 0.6955999732017517\n",
      "Epoch 26, CIFAR-10 Batch 5:  cost: 0.15676383674144745, accuracy: 0.7038000226020813\n",
      "Epoch 27, CIFAR-10 Batch 1:  cost: 0.20277750492095947, accuracy: 0.6948000192642212\n",
      "Epoch 27, CIFAR-10 Batch 2:  cost: 0.1663016825914383, accuracy: 0.6988000273704529\n",
      "Epoch 27, CIFAR-10 Batch 3:  cost: 0.1411760300397873, accuracy: 0.70660001039505\n",
      "Epoch 27, CIFAR-10 Batch 4:  cost: 0.1713184416294098, accuracy: 0.6955999732017517\n",
      "Epoch 27, CIFAR-10 Batch 5:  cost: 0.1355821192264557, accuracy: 0.7059999704360962\n",
      "Epoch 28, CIFAR-10 Batch 1:  cost: 0.18281416594982147, accuracy: 0.6990000009536743\n",
      "Epoch 28, CIFAR-10 Batch 2:  cost: 0.15992729365825653, accuracy: 0.7085999846458435\n",
      "Epoch 28, CIFAR-10 Batch 3:  cost: 0.1318618357181549, accuracy: 0.7016000151634216\n",
      "Epoch 28, CIFAR-10 Batch 4:  cost: 0.1396583467721939, accuracy: 0.6966000199317932\n",
      "Epoch 28, CIFAR-10 Batch 5:  cost: 0.1234225183725357, accuracy: 0.7124000191688538\n",
      "Epoch 29, CIFAR-10 Batch 1:  cost: 0.1700773984193802, accuracy: 0.6958000063896179\n",
      "Epoch 29, CIFAR-10 Batch 2:  cost: 0.15788023173809052, accuracy: 0.7077999711036682\n",
      "Epoch 29, CIFAR-10 Batch 3:  cost: 0.14575937390327454, accuracy: 0.7049999833106995\n",
      "Epoch 29, CIFAR-10 Batch 4:  cost: 0.1140536516904831, accuracy: 0.6998000144958496\n",
      "Epoch 29, CIFAR-10 Batch 5:  cost: 0.11638849973678589, accuracy: 0.7156000137329102\n",
      "Epoch 30, CIFAR-10 Batch 1:  cost: 0.1608593463897705, accuracy: 0.6984000205993652\n",
      "Epoch 30, CIFAR-10 Batch 2:  cost: 0.11923143267631531, accuracy: 0.7081999778747559\n",
      "Epoch 30, CIFAR-10 Batch 3:  cost: 0.14110153913497925, accuracy: 0.7035999894142151\n",
      "Epoch 30, CIFAR-10 Batch 4:  cost: 0.12629130482673645, accuracy: 0.6995999813079834\n",
      "Epoch 30, CIFAR-10 Batch 5:  cost: 0.09625338762998581, accuracy: 0.7124000191688538\n",
      "Epoch 31, CIFAR-10 Batch 1:  cost: 0.11694929003715515, accuracy: 0.6922000050544739\n",
      "Epoch 31, CIFAR-10 Batch 2:  cost: 0.1454993337392807, accuracy: 0.7017999887466431\n",
      "Epoch 31, CIFAR-10 Batch 3:  cost: 0.11413566768169403, accuracy: 0.7121999859809875\n",
      "Epoch 31, CIFAR-10 Batch 4:  cost: 0.09137577563524246, accuracy: 0.7107999920845032\n",
      "Epoch 31, CIFAR-10 Batch 5:  cost: 0.07731885462999344, accuracy: 0.7202000021934509\n",
      "Epoch 32, CIFAR-10 Batch 1:  cost: 0.11885730922222137, accuracy: 0.7138000130653381\n",
      "Epoch 32, CIFAR-10 Batch 2:  cost: 0.10933792591094971, accuracy: 0.70660001039505\n",
      "Epoch 32, CIFAR-10 Batch 3:  cost: 0.07498333603143692, accuracy: 0.7103999853134155\n",
      "Epoch 32, CIFAR-10 Batch 4:  cost: 0.06502165645360947, accuracy: 0.7182000279426575\n",
      "Epoch 32, CIFAR-10 Batch 5:  cost: 0.08490166813135147, accuracy: 0.7134000062942505\n",
      "Epoch 33, CIFAR-10 Batch 1:  cost: 0.08133058249950409, accuracy: 0.7134000062942505\n",
      "Epoch 33, CIFAR-10 Batch 2:  cost: 0.0640866830945015, accuracy: 0.7031999826431274\n",
      "Epoch 33, CIFAR-10 Batch 3:  cost: 0.0549299456179142, accuracy: 0.7129999995231628\n",
      "Epoch 33, CIFAR-10 Batch 4:  cost: 0.06003619357943535, accuracy: 0.7233999967575073\n",
      "Epoch 33, CIFAR-10 Batch 5:  cost: 0.05764381214976311, accuracy: 0.7214000225067139\n",
      "Epoch 34, CIFAR-10 Batch 1:  cost: 0.07942111045122147, accuracy: 0.7099999785423279\n",
      "Epoch 34, CIFAR-10 Batch 2:  cost: 0.062044646590948105, accuracy: 0.7088000178337097\n",
      "Epoch 34, CIFAR-10 Batch 3:  cost: 0.046078503131866455, accuracy: 0.7070000171661377\n",
      "Epoch 34, CIFAR-10 Batch 4:  cost: 0.047804053872823715, accuracy: 0.7203999757766724\n",
      "Epoch 34, CIFAR-10 Batch 5:  cost: 0.050449177622795105, accuracy: 0.7268000245094299\n",
      "Epoch 35, CIFAR-10 Batch 1:  cost: 0.058716703206300735, accuracy: 0.7149999737739563\n",
      "Epoch 35, CIFAR-10 Batch 2:  cost: 0.05122709274291992, accuracy: 0.7092000246047974\n",
      "Epoch 35, CIFAR-10 Batch 3:  cost: 0.04541052505373955, accuracy: 0.7067999839782715\n",
      "Epoch 35, CIFAR-10 Batch 4:  cost: 0.03627599775791168, accuracy: 0.7233999967575073\n",
      "Epoch 35, CIFAR-10 Batch 5:  cost: 0.062116995453834534, accuracy: 0.7184000015258789\n",
      "Epoch 36, CIFAR-10 Batch 1:  cost: 0.06032034009695053, accuracy: 0.717199981212616\n",
      "Epoch 36, CIFAR-10 Batch 2:  cost: 0.045757852494716644, accuracy: 0.7062000036239624\n",
      "Epoch 36, CIFAR-10 Batch 3:  cost: 0.04915919527411461, accuracy: 0.7117999792098999\n",
      "Epoch 36, CIFAR-10 Batch 4:  cost: 0.03343052417039871, accuracy: 0.7197999954223633\n",
      "Epoch 36, CIFAR-10 Batch 5:  cost: 0.045447394251823425, accuracy: 0.7156000137329102\n",
      "Epoch 37, CIFAR-10 Batch 1:  cost: 0.07399185001850128, accuracy: 0.7045999765396118\n",
      "Epoch 37, CIFAR-10 Batch 2:  cost: 0.06883052736520767, accuracy: 0.6952000260353088\n",
      "Epoch 37, CIFAR-10 Batch 3:  cost: 0.04294811561703682, accuracy: 0.6990000009536743\n",
      "Epoch 37, CIFAR-10 Batch 4:  cost: 0.02994661033153534, accuracy: 0.7164000272750854\n",
      "Epoch 37, CIFAR-10 Batch 5:  cost: 0.044282179325819016, accuracy: 0.7193999886512756\n",
      "Epoch 38, CIFAR-10 Batch 1:  cost: 0.06583249568939209, accuracy: 0.7020000219345093\n",
      "Epoch 38, CIFAR-10 Batch 2:  cost: 0.05118411406874657, accuracy: 0.6855999827384949\n",
      "Epoch 38, CIFAR-10 Batch 3:  cost: 0.035480886697769165, accuracy: 0.7120000123977661\n",
      "Epoch 38, CIFAR-10 Batch 4:  cost: 0.033381931483745575, accuracy: 0.7192000150680542\n",
      "Epoch 38, CIFAR-10 Batch 5:  cost: 0.03691328689455986, accuracy: 0.7156000137329102\n",
      "Epoch 39, CIFAR-10 Batch 1:  cost: 0.0484018437564373, accuracy: 0.7052000164985657\n",
      "Epoch 39, CIFAR-10 Batch 2:  cost: 0.04454561695456505, accuracy: 0.6991999745368958\n",
      "Epoch 39, CIFAR-10 Batch 3:  cost: 0.0383298322558403, accuracy: 0.7089999914169312\n",
      "Epoch 39, CIFAR-10 Batch 4:  cost: 0.0301772803068161, accuracy: 0.7152000069618225\n"
     ]
    },
    {
     "name": "stdout",
     "output_type": "stream",
     "text": [
      "Epoch 39, CIFAR-10 Batch 5:  cost: 0.04419080540537834, accuracy: 0.7139999866485596\n",
      "Epoch 40, CIFAR-10 Batch 1:  cost: 0.057484161108732224, accuracy: 0.6985999941825867\n",
      "Epoch 40, CIFAR-10 Batch 2:  cost: 0.04084097221493721, accuracy: 0.7116000056266785\n",
      "Epoch 40, CIFAR-10 Batch 3:  cost: 0.037902895361185074, accuracy: 0.7026000022888184\n",
      "Epoch 40, CIFAR-10 Batch 4:  cost: 0.025697236880660057, accuracy: 0.7049999833106995\n",
      "Epoch 40, CIFAR-10 Batch 5:  cost: 0.03501259163022041, accuracy: 0.7235999703407288\n",
      "Epoch 41, CIFAR-10 Batch 1:  cost: 0.03962881490588188, accuracy: 0.7067999839782715\n",
      "Epoch 41, CIFAR-10 Batch 2:  cost: 0.03361915796995163, accuracy: 0.7135999798774719\n",
      "Epoch 41, CIFAR-10 Batch 3:  cost: 0.03917708620429039, accuracy: 0.701200008392334\n",
      "Epoch 41, CIFAR-10 Batch 4:  cost: 0.024610860273241997, accuracy: 0.7098000049591064\n",
      "Epoch 41, CIFAR-10 Batch 5:  cost: 0.02480423077940941, accuracy: 0.7179999947547913\n",
      "Epoch 42, CIFAR-10 Batch 1:  cost: 0.037843309342861176, accuracy: 0.7125999927520752\n",
      "Epoch 42, CIFAR-10 Batch 2:  cost: 0.032572418451309204, accuracy: 0.7056000232696533\n",
      "Epoch 42, CIFAR-10 Batch 3:  cost: 0.020708756521344185, accuracy: 0.7184000015258789\n",
      "Epoch 42, CIFAR-10 Batch 4:  cost: 0.038856614381074905, accuracy: 0.704200029373169\n",
      "Epoch 42, CIFAR-10 Batch 5:  cost: 0.025860724970698357, accuracy: 0.718999981880188\n",
      "Epoch 43, CIFAR-10 Batch 1:  cost: 0.027855409309267998, accuracy: 0.7196000218391418\n",
      "Epoch 43, CIFAR-10 Batch 2:  cost: 0.021679740399122238, accuracy: 0.7111999988555908\n",
      "Epoch 43, CIFAR-10 Batch 3:  cost: 0.021212343126535416, accuracy: 0.7164000272750854\n",
      "Epoch 43, CIFAR-10 Batch 4:  cost: 0.019763391464948654, accuracy: 0.7106000185012817\n",
      "Epoch 43, CIFAR-10 Batch 5:  cost: 0.013967897742986679, accuracy: 0.717199981212616\n",
      "Epoch 44, CIFAR-10 Batch 1:  cost: 0.027067678049206734, accuracy: 0.7120000123977661\n",
      "Epoch 44, CIFAR-10 Batch 2:  cost: 0.0150065328925848, accuracy: 0.7070000171661377\n",
      "Epoch 44, CIFAR-10 Batch 3:  cost: 0.014354715123772621, accuracy: 0.7197999954223633\n",
      "Epoch 44, CIFAR-10 Batch 4:  cost: 0.015613529831171036, accuracy: 0.7148000001907349\n",
      "Epoch 44, CIFAR-10 Batch 5:  cost: 0.015757087618112564, accuracy: 0.7192000150680542\n",
      "Epoch 45, CIFAR-10 Batch 1:  cost: 0.03396221995353699, accuracy: 0.7027999758720398\n",
      "Epoch 45, CIFAR-10 Batch 2:  cost: 0.024236682802438736, accuracy: 0.7049999833106995\n",
      "Epoch 45, CIFAR-10 Batch 3:  cost: 0.016639908775687218, accuracy: 0.7157999873161316\n",
      "Epoch 45, CIFAR-10 Batch 4:  cost: 0.015852155163884163, accuracy: 0.7067999839782715\n",
      "Epoch 45, CIFAR-10 Batch 5:  cost: 0.019977018237113953, accuracy: 0.7107999920845032\n",
      "Epoch 46, CIFAR-10 Batch 1:  cost: 0.025244364514946938, accuracy: 0.7157999873161316\n",
      "Epoch 46, CIFAR-10 Batch 2:  cost: 0.01709289848804474, accuracy: 0.7113999724388123\n",
      "Epoch 46, CIFAR-10 Batch 3:  cost: 0.011437657289206982, accuracy: 0.7085999846458435\n",
      "Epoch 46, CIFAR-10 Batch 4:  cost: 0.01513571385294199, accuracy: 0.7095999717712402\n",
      "Epoch 46, CIFAR-10 Batch 5:  cost: 0.01383946742862463, accuracy: 0.7152000069618225\n",
      "Epoch 47, CIFAR-10 Batch 1:  cost: 0.036009132862091064, accuracy: 0.7006000280380249\n",
      "Epoch 47, CIFAR-10 Batch 2:  cost: 0.01761411316692829, accuracy: 0.7053999900817871\n",
      "Epoch 47, CIFAR-10 Batch 3:  cost: 0.013542965054512024, accuracy: 0.7117999792098999\n",
      "Epoch 47, CIFAR-10 Batch 4:  cost: 0.013285089284181595, accuracy: 0.7179999947547913\n",
      "Epoch 47, CIFAR-10 Batch 5:  cost: 0.01439608447253704, accuracy: 0.7182000279426575\n",
      "Epoch 48, CIFAR-10 Batch 1:  cost: 0.021910805255174637, accuracy: 0.7121999859809875\n",
      "Epoch 48, CIFAR-10 Batch 2:  cost: 0.025056201964616776, accuracy: 0.704800009727478\n",
      "Epoch 48, CIFAR-10 Batch 3:  cost: 0.008302034810185432, accuracy: 0.722000002861023\n",
      "Epoch 48, CIFAR-10 Batch 4:  cost: 0.011001829989254475, accuracy: 0.7080000042915344\n",
      "Epoch 48, CIFAR-10 Batch 5:  cost: 0.017669612541794777, accuracy: 0.7103999853134155\n",
      "Epoch 49, CIFAR-10 Batch 1:  cost: 0.02120729722082615, accuracy: 0.704800009727478\n",
      "Epoch 49, CIFAR-10 Batch 2:  cost: 0.014886930584907532, accuracy: 0.7039999961853027\n",
      "Epoch 49, CIFAR-10 Batch 3:  cost: 0.018564341589808464, accuracy: 0.7110000252723694\n",
      "Epoch 49, CIFAR-10 Batch 4:  cost: 0.009912406094372272, accuracy: 0.7053999900817871\n",
      "Epoch 49, CIFAR-10 Batch 5:  cost: 0.016227692365646362, accuracy: 0.7200000286102295\n",
      "Epoch 50, CIFAR-10 Batch 1:  cost: 0.02148302271962166, accuracy: 0.7074000239372253\n",
      "Epoch 50, CIFAR-10 Batch 2:  cost: 0.016539357602596283, accuracy: 0.7111999988555908\n",
      "Epoch 50, CIFAR-10 Batch 3:  cost: 0.02017974480986595, accuracy: 0.7009999752044678\n",
      "Epoch 50, CIFAR-10 Batch 4:  cost: 0.017782635986804962, accuracy: 0.7075999975204468\n",
      "Epoch 50, CIFAR-10 Batch 5:  cost: 0.013401915319263935, accuracy: 0.7077999711036682\n",
      "Epoch 51, CIFAR-10 Batch 1:  cost: 0.030347757041454315, accuracy: 0.7185999751091003\n",
      "Epoch 51, CIFAR-10 Batch 2:  cost: 0.02244790643453598, accuracy: 0.7021999955177307\n",
      "Epoch 51, CIFAR-10 Batch 3:  cost: 0.022815901786088943, accuracy: 0.7021999955177307\n",
      "Epoch 51, CIFAR-10 Batch 4:  cost: 0.02078891173005104, accuracy: 0.6880000233650208\n",
      "Epoch 51, CIFAR-10 Batch 5:  cost: 0.017202310264110565, accuracy: 0.7166000008583069\n",
      "Epoch 52, CIFAR-10 Batch 1:  cost: 0.024857016280293465, accuracy: 0.7160000205039978\n",
      "Epoch 52, CIFAR-10 Batch 2:  cost: 0.028727347031235695, accuracy: 0.7121999859809875\n",
      "Epoch 52, CIFAR-10 Batch 3:  cost: 0.008746206760406494, accuracy: 0.7135999798774719\n",
      "Epoch 52, CIFAR-10 Batch 4:  cost: 0.013804912567138672, accuracy: 0.7070000171661377\n",
      "Epoch 52, CIFAR-10 Batch 5:  cost: 0.01945354789495468, accuracy: 0.7057999968528748\n",
      "Epoch 53, CIFAR-10 Batch 1:  cost: 0.03141121193766594, accuracy: 0.717199981212616\n",
      "Epoch 53, CIFAR-10 Batch 2:  cost: 0.012969356961548328, accuracy: 0.7099999785423279\n",
      "Epoch 53, CIFAR-10 Batch 3:  cost: 0.018594568595290184, accuracy: 0.7107999920845032\n",
      "Epoch 53, CIFAR-10 Batch 4:  cost: 0.007905615493655205, accuracy: 0.7092000246047974\n",
      "Epoch 53, CIFAR-10 Batch 5:  cost: 0.012020054273307323, accuracy: 0.7148000001907349\n",
      "Epoch 54, CIFAR-10 Batch 1:  cost: 0.017550932243466377, accuracy: 0.7156000137329102\n",
      "Epoch 54, CIFAR-10 Batch 2:  cost: 0.012366794049739838, accuracy: 0.7135999798774719\n",
      "Epoch 54, CIFAR-10 Batch 3:  cost: 0.010770831257104874, accuracy: 0.7215999960899353\n",
      "Epoch 54, CIFAR-10 Batch 4:  cost: 0.0113898366689682, accuracy: 0.6995999813079834\n",
      "Epoch 54, CIFAR-10 Batch 5:  cost: 0.010607916861772537, accuracy: 0.7074000239372253\n",
      "Epoch 55, CIFAR-10 Batch 1:  cost: 0.02885446697473526, accuracy: 0.7088000178337097\n",
      "Epoch 55, CIFAR-10 Batch 2:  cost: 0.007415798958390951, accuracy: 0.7188000082969666\n",
      "Epoch 55, CIFAR-10 Batch 3:  cost: 0.013777081854641438, accuracy: 0.7142000198364258\n",
      "Epoch 55, CIFAR-10 Batch 4:  cost: 0.005687354598194361, accuracy: 0.7128000259399414\n",
      "Epoch 55, CIFAR-10 Batch 5:  cost: 0.009609567001461983, accuracy: 0.7197999954223633\n",
      "Epoch 56, CIFAR-10 Batch 1:  cost: 0.020251093432307243, accuracy: 0.704200029373169\n",
      "Epoch 56, CIFAR-10 Batch 2:  cost: 0.012843316420912743, accuracy: 0.7039999961853027\n",
      "Epoch 56, CIFAR-10 Batch 3:  cost: 0.011831119656562805, accuracy: 0.7232000231742859\n",
      "Epoch 56, CIFAR-10 Batch 4:  cost: 0.005863721948117018, accuracy: 0.7070000171661377\n",
      "Epoch 56, CIFAR-10 Batch 5:  cost: 0.006790684536099434, accuracy: 0.7184000015258789\n",
      "Epoch 57, CIFAR-10 Batch 1:  cost: 0.018190113827586174, accuracy: 0.7084000110626221\n",
      "Epoch 57, CIFAR-10 Batch 2:  cost: 0.007420670241117477, accuracy: 0.7027999758720398\n",
      "Epoch 57, CIFAR-10 Batch 3:  cost: 0.009537078440189362, accuracy: 0.7167999744415283\n",
      "Epoch 57, CIFAR-10 Batch 4:  cost: 0.007846280001103878, accuracy: 0.7074000239372253\n",
      "Epoch 57, CIFAR-10 Batch 5:  cost: 0.012108007445931435, accuracy: 0.7214000225067139\n",
      "Epoch 58, CIFAR-10 Batch 1:  cost: 0.009951130487024784, accuracy: 0.7102000117301941\n",
      "Epoch 58, CIFAR-10 Batch 2:  cost: 0.009528188966214657, accuracy: 0.7070000171661377\n",
      "Epoch 58, CIFAR-10 Batch 3:  cost: 0.00972356740385294, accuracy: 0.7202000021934509\n",
      "Epoch 58, CIFAR-10 Batch 4:  cost: 0.004200631752610207, accuracy: 0.7111999988555908\n",
      "Epoch 58, CIFAR-10 Batch 5:  cost: 0.012828478589653969, accuracy: 0.7206000089645386\n"
     ]
    },
    {
     "name": "stdout",
     "output_type": "stream",
     "text": [
      "Epoch 59, CIFAR-10 Batch 1:  cost: 0.01644720882177353, accuracy: 0.7146000266075134\n",
      "Epoch 59, CIFAR-10 Batch 2:  cost: 0.011272130534052849, accuracy: 0.7110000252723694\n",
      "Epoch 59, CIFAR-10 Batch 3:  cost: 0.0056503997184336185, accuracy: 0.7156000137329102\n",
      "Epoch 59, CIFAR-10 Batch 4:  cost: 0.004366046283394098, accuracy: 0.7077999711036682\n",
      "Epoch 59, CIFAR-10 Batch 5:  cost: 0.014364168047904968, accuracy: 0.7175999879837036\n",
      "Epoch 60, CIFAR-10 Batch 1:  cost: 0.015491459518671036, accuracy: 0.7139999866485596\n",
      "Epoch 60, CIFAR-10 Batch 2:  cost: 0.00906839594244957, accuracy: 0.7161999940872192\n",
      "Epoch 60, CIFAR-10 Batch 3:  cost: 0.006834675557911396, accuracy: 0.7166000008583069\n",
      "Epoch 60, CIFAR-10 Batch 4:  cost: 0.003878074698150158, accuracy: 0.7107999920845032\n",
      "Epoch 60, CIFAR-10 Batch 5:  cost: 0.008636156097054482, accuracy: 0.7103999853134155\n",
      "Epoch 61, CIFAR-10 Batch 1:  cost: 0.010919872671365738, accuracy: 0.7071999907493591\n",
      "Epoch 61, CIFAR-10 Batch 2:  cost: 0.010104759596288204, accuracy: 0.7124000191688538\n",
      "Epoch 61, CIFAR-10 Batch 3:  cost: 0.0059740254655480385, accuracy: 0.7084000110626221\n",
      "Epoch 61, CIFAR-10 Batch 4:  cost: 0.013497335836291313, accuracy: 0.6868000030517578\n",
      "Epoch 61, CIFAR-10 Batch 5:  cost: 0.005925697274506092, accuracy: 0.7116000056266785\n",
      "Epoch 62, CIFAR-10 Batch 1:  cost: 0.009863989427685738, accuracy: 0.7110000252723694\n",
      "Epoch 62, CIFAR-10 Batch 2:  cost: 0.013647124171257019, accuracy: 0.7196000218391418\n",
      "Epoch 62, CIFAR-10 Batch 3:  cost: 0.008317462168633938, accuracy: 0.7182000279426575\n",
      "Epoch 62, CIFAR-10 Batch 4:  cost: 0.00729325832799077, accuracy: 0.7129999995231628\n",
      "Epoch 62, CIFAR-10 Batch 5:  cost: 0.00650474289432168, accuracy: 0.7149999737739563\n",
      "Epoch 63, CIFAR-10 Batch 1:  cost: 0.011978231370449066, accuracy: 0.7092000246047974\n",
      "Epoch 63, CIFAR-10 Batch 2:  cost: 0.008552583865821362, accuracy: 0.7106000185012817\n",
      "Epoch 63, CIFAR-10 Batch 3:  cost: 0.006152587942779064, accuracy: 0.7224000096321106\n",
      "Epoch 63, CIFAR-10 Batch 4:  cost: 0.007482900749891996, accuracy: 0.7044000029563904\n",
      "Epoch 63, CIFAR-10 Batch 5:  cost: 0.008408085443079472, accuracy: 0.7175999879837036\n",
      "Epoch 64, CIFAR-10 Batch 1:  cost: 0.011657794937491417, accuracy: 0.7089999914169312\n",
      "Epoch 64, CIFAR-10 Batch 2:  cost: 0.01613669842481613, accuracy: 0.7077999711036682\n",
      "Epoch 64, CIFAR-10 Batch 3:  cost: 0.0075651197694242, accuracy: 0.7116000056266785\n",
      "Epoch 64, CIFAR-10 Batch 4:  cost: 0.006221570074558258, accuracy: 0.7098000049591064\n",
      "Epoch 64, CIFAR-10 Batch 5:  cost: 0.009466800838708878, accuracy: 0.7116000056266785\n",
      "Epoch 65, CIFAR-10 Batch 1:  cost: 0.009948372840881348, accuracy: 0.7111999988555908\n",
      "Epoch 65, CIFAR-10 Batch 2:  cost: 0.007708357647061348, accuracy: 0.7116000056266785\n",
      "Epoch 65, CIFAR-10 Batch 3:  cost: 0.005310197360813618, accuracy: 0.7203999757766724\n",
      "Epoch 65, CIFAR-10 Batch 4:  cost: 0.012713801115751266, accuracy: 0.7084000110626221\n",
      "Epoch 65, CIFAR-10 Batch 5:  cost: 0.005046874284744263, accuracy: 0.7210000157356262\n",
      "Epoch 66, CIFAR-10 Batch 1:  cost: 0.010473109781742096, accuracy: 0.7175999879837036\n",
      "Epoch 66, CIFAR-10 Batch 2:  cost: 0.007603220175951719, accuracy: 0.7143999934196472\n",
      "Epoch 66, CIFAR-10 Batch 3:  cost: 0.006381387822329998, accuracy: 0.7085999846458435\n",
      "Epoch 66, CIFAR-10 Batch 4:  cost: 0.01854052022099495, accuracy: 0.7095999717712402\n",
      "Epoch 66, CIFAR-10 Batch 5:  cost: 0.010460266843438148, accuracy: 0.7120000123977661\n",
      "Epoch 67, CIFAR-10 Batch 1:  cost: 0.008868208155035973, accuracy: 0.7134000062942505\n",
      "Epoch 67, CIFAR-10 Batch 2:  cost: 0.0056439656764268875, accuracy: 0.7056000232696533\n",
      "Epoch 67, CIFAR-10 Batch 3:  cost: 0.007654713466763496, accuracy: 0.7125999927520752\n",
      "Epoch 67, CIFAR-10 Batch 4:  cost: 0.0047411490231752396, accuracy: 0.7084000110626221\n",
      "Epoch 67, CIFAR-10 Batch 5:  cost: 0.010999100282788277, accuracy: 0.7059999704360962\n",
      "Epoch 68, CIFAR-10 Batch 1:  cost: 0.004519719630479813, accuracy: 0.7124000191688538\n",
      "Epoch 68, CIFAR-10 Batch 2:  cost: 0.006650574970990419, accuracy: 0.7093999981880188\n",
      "Epoch 68, CIFAR-10 Batch 3:  cost: 0.013057363219559193, accuracy: 0.7121999859809875\n",
      "Epoch 68, CIFAR-10 Batch 4:  cost: 0.008591004647314548, accuracy: 0.7057999968528748\n",
      "Epoch 68, CIFAR-10 Batch 5:  cost: 0.010184054262936115, accuracy: 0.7093999981880188\n",
      "Epoch 69, CIFAR-10 Batch 1:  cost: 0.0074028088711202145, accuracy: 0.7039999961853027\n",
      "Epoch 69, CIFAR-10 Batch 2:  cost: 0.005508244037628174, accuracy: 0.7098000049591064\n",
      "Epoch 69, CIFAR-10 Batch 3:  cost: 0.007434817496687174, accuracy: 0.7170000076293945\n",
      "Epoch 69, CIFAR-10 Batch 4:  cost: 0.006944357417523861, accuracy: 0.7085999846458435\n",
      "Epoch 69, CIFAR-10 Batch 5:  cost: 0.0065378909930586815, accuracy: 0.7124000191688538\n",
      "Epoch 70, CIFAR-10 Batch 1:  cost: 0.004939913284033537, accuracy: 0.7062000036239624\n",
      "Epoch 70, CIFAR-10 Batch 2:  cost: 0.005200325045734644, accuracy: 0.7077999711036682\n",
      "Epoch 70, CIFAR-10 Batch 3:  cost: 0.006131908856332302, accuracy: 0.7092000246047974\n",
      "Epoch 70, CIFAR-10 Batch 4:  cost: 0.004708281718194485, accuracy: 0.7167999744415283\n",
      "Epoch 70, CIFAR-10 Batch 5:  cost: 0.005723028443753719, accuracy: 0.724399983882904\n",
      "Epoch 71, CIFAR-10 Batch 1:  cost: 0.010805893689393997, accuracy: 0.6934000253677368\n",
      "Epoch 71, CIFAR-10 Batch 2:  cost: 0.020783310756087303, accuracy: 0.7057999968528748\n",
      "Epoch 71, CIFAR-10 Batch 3:  cost: 0.008056784979999065, accuracy: 0.7129999995231628\n",
      "Epoch 71, CIFAR-10 Batch 4:  cost: 0.011827191337943077, accuracy: 0.7110000252723694\n",
      "Epoch 71, CIFAR-10 Batch 5:  cost: 0.005356170237064362, accuracy: 0.7232000231742859\n",
      "Epoch 72, CIFAR-10 Batch 1:  cost: 0.011135307140648365, accuracy: 0.7203999757766724\n",
      "Epoch 72, CIFAR-10 Batch 2:  cost: 0.003894160268828273, accuracy: 0.7125999927520752\n",
      "Epoch 72, CIFAR-10 Batch 3:  cost: 0.004581496585160494, accuracy: 0.7264000177383423\n",
      "Epoch 72, CIFAR-10 Batch 4:  cost: 0.009037752635776997, accuracy: 0.7088000178337097\n",
      "Epoch 72, CIFAR-10 Batch 5:  cost: 0.003967361059039831, accuracy: 0.7156000137329102\n",
      "Epoch 73, CIFAR-10 Batch 1:  cost: 0.004869058728218079, accuracy: 0.7077999711036682\n",
      "Epoch 73, CIFAR-10 Batch 2:  cost: 0.0034408916253596544, accuracy: 0.7157999873161316\n",
      "Epoch 73, CIFAR-10 Batch 3:  cost: 0.004742730874568224, accuracy: 0.715399980545044\n",
      "Epoch 73, CIFAR-10 Batch 4:  cost: 0.007367233280092478, accuracy: 0.7149999737739563\n",
      "Epoch 73, CIFAR-10 Batch 5:  cost: 0.005050753243267536, accuracy: 0.7185999751091003\n",
      "Epoch 74, CIFAR-10 Batch 1:  cost: 0.007719863206148148, accuracy: 0.7113999724388123\n",
      "Epoch 74, CIFAR-10 Batch 2:  cost: 0.004796628840267658, accuracy: 0.7059999704360962\n",
      "Epoch 74, CIFAR-10 Batch 3:  cost: 0.008615083061158657, accuracy: 0.7106000185012817\n",
      "Epoch 74, CIFAR-10 Batch 4:  cost: 0.0029719939921051264, accuracy: 0.7135999798774719\n",
      "Epoch 74, CIFAR-10 Batch 5:  cost: 0.0077270520851016045, accuracy: 0.7089999914169312\n",
      "Epoch 75, CIFAR-10 Batch 1:  cost: 0.005950157530605793, accuracy: 0.7116000056266785\n",
      "Epoch 75, CIFAR-10 Batch 2:  cost: 0.006890451535582542, accuracy: 0.7089999914169312\n",
      "Epoch 75, CIFAR-10 Batch 3:  cost: 0.0065407054498791695, accuracy: 0.7124000191688538\n",
      "Epoch 75, CIFAR-10 Batch 4:  cost: 0.001305388635955751, accuracy: 0.7179999947547913\n",
      "Epoch 75, CIFAR-10 Batch 5:  cost: 0.005643672775477171, accuracy: 0.7182000279426575\n",
      "Epoch 76, CIFAR-10 Batch 1:  cost: 0.002446354366838932, accuracy: 0.7184000015258789\n",
      "Epoch 76, CIFAR-10 Batch 2:  cost: 0.006003608927130699, accuracy: 0.7192000150680542\n",
      "Epoch 76, CIFAR-10 Batch 3:  cost: 0.0031346874311566353, accuracy: 0.7116000056266785\n",
      "Epoch 76, CIFAR-10 Batch 4:  cost: 0.0042523546144366264, accuracy: 0.7184000015258789\n",
      "Epoch 76, CIFAR-10 Batch 5:  cost: 0.0034483340568840504, accuracy: 0.7210000157356262\n",
      "Epoch 77, CIFAR-10 Batch 1:  cost: 0.009368766099214554, accuracy: 0.7202000021934509\n",
      "Epoch 77, CIFAR-10 Batch 2:  cost: 0.007391377817839384, accuracy: 0.7134000062942505\n",
      "Epoch 77, CIFAR-10 Batch 3:  cost: 0.006167915184050798, accuracy: 0.7179999947547913\n",
      "Epoch 77, CIFAR-10 Batch 4:  cost: 0.004507059697061777, accuracy: 0.7099999785423279\n",
      "Epoch 77, CIFAR-10 Batch 5:  cost: 0.0049485107883811, accuracy: 0.715399980545044\n"
     ]
    },
    {
     "name": "stdout",
     "output_type": "stream",
     "text": [
      "Epoch 78, CIFAR-10 Batch 1:  cost: 0.004436819348484278, accuracy: 0.7143999934196472\n",
      "Epoch 78, CIFAR-10 Batch 2:  cost: 0.004968637600541115, accuracy: 0.7110000252723694\n",
      "Epoch 78, CIFAR-10 Batch 3:  cost: 0.0063756792806088924, accuracy: 0.7232000231742859\n",
      "Epoch 78, CIFAR-10 Batch 4:  cost: 0.003205769695341587, accuracy: 0.7034000158309937\n",
      "Epoch 78, CIFAR-10 Batch 5:  cost: 0.004546050913631916, accuracy: 0.7200000286102295\n",
      "Epoch 79, CIFAR-10 Batch 1:  cost: 0.0038714983966201544, accuracy: 0.7214000225067139\n",
      "Epoch 79, CIFAR-10 Batch 2:  cost: 0.005572788417339325, accuracy: 0.7184000015258789\n",
      "Epoch 79, CIFAR-10 Batch 3:  cost: 0.00324849016033113, accuracy: 0.7117999792098999\n",
      "Epoch 79, CIFAR-10 Batch 4:  cost: 0.004372231662273407, accuracy: 0.7166000008583069\n",
      "Epoch 79, CIFAR-10 Batch 5:  cost: 0.004861555993556976, accuracy: 0.7197999954223633\n",
      "Epoch 80, CIFAR-10 Batch 1:  cost: 0.004169147461652756, accuracy: 0.7161999940872192\n",
      "Epoch 80, CIFAR-10 Batch 2:  cost: 0.0035227383486926556, accuracy: 0.7203999757766724\n",
      "Epoch 80, CIFAR-10 Batch 3:  cost: 0.003075473941862583, accuracy: 0.7193999886512756\n",
      "Epoch 80, CIFAR-10 Batch 4:  cost: 0.0028948700055480003, accuracy: 0.72079998254776\n",
      "Epoch 80, CIFAR-10 Batch 5:  cost: 0.0016368108335882425, accuracy: 0.7206000089645386\n"
     ]
    }
   ],
   "source": [
    "\"\"\"\n",
    "DON'T MODIFY ANYTHING IN THIS CELL\n",
    "\"\"\"\n",
    "save_model_path = './image_classification'\n",
    "\n",
    "print('Training...')\n",
    "with tf.Session() as sess:\n",
    "    # Initializing the variables\n",
    "    sess.run(tf.global_variables_initializer())\n",
    "    \n",
    "    # Training cycle\n",
    "    for epoch in range(epochs):\n",
    "        # Loop over all batches\n",
    "        n_batches = 5\n",
    "        for batch_i in range(1, n_batches + 1):\n",
    "            for batch_features, batch_labels in helper.load_preprocess_training_batch(batch_i, batch_size):\n",
    "                train_neural_network(sess, optimizer, keep_probability, batch_features, batch_labels)\n",
    "            print('Epoch {:>2}, CIFAR-10 Batch {}:  '.format(epoch + 1, batch_i), end='')\n",
    "            learning_evolution.append(tuple(print_stats(sess, batch_features, batch_labels, cost, accuracy)))\n",
    "            \n",
    "    # Save Model\n",
    "    saver = tf.train.Saver()\n",
    "    save_path = saver.save(sess, save_model_path)"
   ]
  },
  {
   "cell_type": "code",
   "execution_count": 83,
   "metadata": {},
   "outputs": [
    {
     "data": {
      "text/plain": [
       "[<matplotlib.lines.Line2D at 0x7f1edcc36cf8>]"
      ]
     },
     "execution_count": 83,
     "metadata": {},
     "output_type": "execute_result"
    },
    {
     "data": {
      "image/png": "[encoded data removed]",
      "text/plain": [
       "<matplotlib.figure.Figure at 0x7f1edcc36d68>"
      ]
     },
     "metadata": {
      "image/png": {
       "height": 250,
       "width": 373
      }
     },
     "output_type": "display_data"
    }
   ],
   "source": [
    "cost_, acc_ = zip(*learning_evolution)\n",
    "plt.plot ( acc_)\n",
    "plt.plot(cost_)"
   ]
  },
  {
   "cell_type": "markdown",
   "metadata": {},
   "source": [
    "# Checkpoint\n",
    "The model has been saved to disk.\n",
    "## Test Model\n",
    "Test your model against the test dataset.  This will be your final accuracy. You should have an accuracy greater than 50%. If you don't, keep tweaking the model architecture and parameters."
   ]
  },
  {
   "cell_type": "code",
   "execution_count": 84,
   "metadata": {},
   "outputs": [
    {
     "name": "stdout",
     "output_type": "stream",
     "text": [
      "INFO:tensorflow:Restoring parameters from ./image_classification\n",
      "Testing Accuracy: 0.7162396609783173\n",
      "\n"
     ]
    },
    {
     "data": {
      "image/png": "[encoded data removed]",
      "text/plain": [
       "<matplotlib.figure.Figure at 0x7f2636427f28>"
      ]
     },
     "metadata": {
      "image/png": {
       "height": 319,
       "width": 355
      }
     },
     "output_type": "display_data"
    }
   ],
   "source": [
    "\"\"\"\n",
    "DON'T MODIFY ANYTHING IN THIS CELL\n",
    "\"\"\"\n",
    "%matplotlib inline\n",
    "%config InlineBackend.figure_format = 'retina'\n",
    "\n",
    "import tensorflow as tf\n",
    "import pickle\n",
    "import helper\n",
    "import random\n",
    "\n",
    "# Set batch size if not already set\n",
    "try:\n",
    "    if batch_size:\n",
    "        pass\n",
    "except NameError:\n",
    "    batch_size = 64\n",
    "\n",
    "save_model_path = './image_classification'\n",
    "n_samples = 4\n",
    "top_n_predictions = 3\n",
    "\n",
    "def test_model():\n",
    "    \"\"\"\n",
    "    Test the saved model against the test dataset\n",
    "    \"\"\"\n",
    "\n",
    "    test_features, test_labels = pickle.load(open('preprocess_test.p', mode='rb'))\n",
    "    loaded_graph = tf.Graph()\n",
    "\n",
    "    with tf.Session(graph=loaded_graph) as sess:\n",
    "        # Load model\n",
    "        loader = tf.train.import_meta_graph(save_model_path + '.meta')\n",
    "        loader.restore(sess, save_model_path)\n",
    "\n",
    "        # Get Tensors from loaded model\n",
    "        loaded_x = loaded_graph.get_tensor_by_name('x:0')\n",
    "        loaded_y = loaded_graph.get_tensor_by_name('y:0')\n",
    "        loaded_keep_prob = loaded_graph.get_tensor_by_name('keep_prob:0')\n",
    "        loaded_logits = loaded_graph.get_tensor_by_name('logits:0')\n",
    "        loaded_acc = loaded_graph.get_tensor_by_name('accuracy:0')\n",
    "        \n",
    "        # Get accuracy in batches for memory limitations\n",
    "        test_batch_acc_total = 0\n",
    "        test_batch_count = 0\n",
    "        \n",
    "        for test_feature_batch, test_label_batch in helper.batch_features_labels(test_features, test_labels, batch_size):\n",
    "            test_batch_acc_total += sess.run(\n",
    "                loaded_acc,\n",
    "                feed_dict={loaded_x: test_feature_batch, loaded_y: test_label_batch, loaded_keep_prob: 1.0})\n",
    "            test_batch_count += 1\n",
    "\n",
    "        print('Testing Accuracy: {}\\n'.format(test_batch_acc_total/test_batch_count))\n",
    "\n",
    "        # Print Random Samples\n",
    "        random_test_features, random_test_labels = tuple(zip(*random.sample(list(zip(test_features, test_labels)), n_samples)))\n",
    "        random_test_predictions = sess.run(\n",
    "            tf.nn.top_k(tf.nn.softmax(loaded_logits), top_n_predictions),\n",
    "            feed_dict={loaded_x: random_test_features, loaded_y: random_test_labels, loaded_keep_prob: 1.0})\n",
    "        helper.display_image_predictions(random_test_features, random_test_labels, random_test_predictions)\n",
    "\n",
    "\n",
    "test_model()"
   ]
  },
  {
   "cell_type": "markdown",
   "metadata": {},
   "source": [
    "## Why 50-80% Accuracy?\n",
    "You might be wondering why you can't get an accuracy any higher. First things first, 50% isn't bad for a simple CNN.  Pure guessing would get you 10% accuracy. However, you might notice people are getting scores [well above 80%](http://rodrigob.github.io/are_we_there_yet/build/classification_datasets_results.html#43494641522d3130).  That's because we haven't taught you all there is to know about neural networks. We still need to cover a few more techniques.\n",
    "## Submitting This Project\n",
    "When submitting this project, make sure to run all the cells before saving the notebook.  Save the notebook file as \"dlnd_image_classification.ipynb\" and save it as a HTML file under \"File\" -> \"Download as\".  Include the \"helper.py\" and \"problem_unittests.py\" files in your submission."
   ]
  }
 ],
 "metadata": {
  "kernelspec": {
   "display_name": "Python 3",
   "language": "python",
   "name": "python3"
  },
  "language_info": {
   "codemirror_mode": {
    "name": "ipython",
    "version": 3
   },
   "file_extension": ".py",
   "mimetype": "text/x-python",
   "name": "python",
   "nbconvert_exporter": "python",
   "pygments_lexer": "ipython3",
   "version": "3.6.1"
  }
 },
 "nbformat": 4,
 "nbformat_minor": 1
}
